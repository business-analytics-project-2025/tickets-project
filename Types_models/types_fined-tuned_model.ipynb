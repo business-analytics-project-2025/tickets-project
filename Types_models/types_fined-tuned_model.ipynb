{
 "cells": [
  {
   "cell_type": "code",
   "execution_count": 1,
   "id": "305a4f69-05fe-4229-8e0b-8bdd582869ff",
   "metadata": {
    "collapsed": true,
    "jupyter": {
     "outputs_hidden": true
    }
   },
   "outputs": [
    {
     "name": "stdout",
     "output_type": "stream",
     "text": [
      "Requirement already satisfied: transformers in /Users/isarris/anaconda3/lib/python3.11/site-packages (4.32.1)\n",
      "Requirement already satisfied: scikit-learn in /Users/isarris/anaconda3/lib/python3.11/site-packages (1.3.0)\n",
      "Requirement already satisfied: filelock in /Users/isarris/anaconda3/lib/python3.11/site-packages (from transformers) (3.9.0)\n",
      "Requirement already satisfied: huggingface-hub<1.0,>=0.15.1 in /Users/isarris/anaconda3/lib/python3.11/site-packages (from transformers) (0.24.6)\n",
      "Requirement already satisfied: numpy>=1.17 in /Users/isarris/anaconda3/lib/python3.11/site-packages (from transformers) (1.24.3)\n",
      "Requirement already satisfied: packaging>=20.0 in /Users/isarris/anaconda3/lib/python3.11/site-packages (from transformers) (23.1)\n",
      "Requirement already satisfied: pyyaml>=5.1 in /Users/isarris/anaconda3/lib/python3.11/site-packages (from transformers) (6.0.2)\n",
      "Requirement already satisfied: regex!=2019.12.17 in /Users/isarris/anaconda3/lib/python3.11/site-packages (from transformers) (2022.7.9)\n",
      "Requirement already satisfied: requests in /Users/isarris/anaconda3/lib/python3.11/site-packages (from transformers) (2.32.3)\n",
      "Requirement already satisfied: tokenizers!=0.11.3,<0.14,>=0.11.1 in /Users/isarris/anaconda3/lib/python3.11/site-packages (from transformers) (0.13.2)\n",
      "Requirement already satisfied: safetensors>=0.3.1 in /Users/isarris/anaconda3/lib/python3.11/site-packages (from transformers) (0.6.2)\n",
      "Requirement already satisfied: tqdm>=4.27 in /Users/isarris/anaconda3/lib/python3.11/site-packages (from transformers) (4.65.0)\n",
      "Requirement already satisfied: scipy>=1.5.0 in /Users/isarris/anaconda3/lib/python3.11/site-packages (from scikit-learn) (1.11.1)\n",
      "Requirement already satisfied: joblib>=1.1.1 in /Users/isarris/anaconda3/lib/python3.11/site-packages (from scikit-learn) (1.2.0)\n",
      "Requirement already satisfied: threadpoolctl>=2.0.0 in /Users/isarris/anaconda3/lib/python3.11/site-packages (from scikit-learn) (2.2.0)\n",
      "Requirement already satisfied: fsspec>=2023.5.0 in /Users/isarris/anaconda3/lib/python3.11/site-packages (from huggingface-hub<1.0,>=0.15.1->transformers) (2024.12.0)\n",
      "Requirement already satisfied: typing-extensions>=3.7.4.3 in /Users/isarris/anaconda3/lib/python3.11/site-packages (from huggingface-hub<1.0,>=0.15.1->transformers) (4.12.2)\n",
      "Requirement already satisfied: charset-normalizer<4,>=2 in /Users/isarris/anaconda3/lib/python3.11/site-packages (from requests->transformers) (2.0.4)\n",
      "Requirement already satisfied: idna<4,>=2.5 in /Users/isarris/anaconda3/lib/python3.11/site-packages (from requests->transformers) (3.4)\n",
      "Requirement already satisfied: urllib3<3,>=1.21.1 in /Users/isarris/anaconda3/lib/python3.11/site-packages (from requests->transformers) (1.26.16)\n",
      "Requirement already satisfied: certifi>=2017.4.17 in /Users/isarris/anaconda3/lib/python3.11/site-packages (from requests->transformers) (2025.6.15)\n"
     ]
    }
   ],
   "source": [
    "!pip install transformers scikit-learn\n",
    "\n",
    "import os, json, random, numpy as np, pandas as pd, torch, torch.nn as nn\n",
    "from torch.utils.data import Dataset, DataLoader\n",
    "from transformers import AutoTokenizer, AutoModel, DataCollatorWithPadding, get_linear_schedule_with_warmup\n",
    "from sklearn.model_selection import train_test_split\n",
    "from sklearn.preprocessing import LabelEncoder\n",
    "from sklearn.metrics import classification_report, f1_score\n",
    "from sklearn.utils.class_weight import compute_class_weight\n",
    "from tqdm.auto import tqdm"
   ]
  },
  {
   "cell_type": "code",
   "execution_count": 52,
   "id": "96a1a1b7-7f04-402d-bb09-c81b6fe4a8d2",
   "metadata": {},
   "outputs": [],
   "source": [
    "# ========= Config =========\n",
    "SEED = 42\n",
    "MODEL_NAME = \"distilbert-base-uncased\"\n",
    "DATA_PATH  = \"Cleaned_Tickets.csv\"\n",
    "MAX_LEN    = 256\n",
    "BATCH_SIZE = 32\n",
    "EPOCHS     = 5                 # early stopping will cut sooner if no gains\n",
    "LR_ENCODER = 2e-5              # low LR for full FT\n",
    "LR_HEAD    = 1e-4              # a bit higher for the classifier\n",
    "WEIGHT_DECAY = 0.01\n",
    "WARMUP_RATIO = 0.06            # ~6% of steps for warmup\n",
    "GRAD_CLIP    = 1.0\n",
    "PATIENCE     = 2               # early stopping patience\n",
    "SOFTEN_WEIGHTS = (0.7, 0.3)    # 0.7*raw + 0.3\n",
    "PROBLEM_BOOST = 1.15           # +15% on \"Problem\" class\n",
    "SAVE_DIR      = \"./type_finetuned_model_pt\"\n",
    "\n",
    "device = torch.device(\"cuda\" if torch.cuda.is_available() else \"cpu\")\n",
    "random.seed(SEED); np.random.seed(SEED); torch.manual_seed(SEED)\n",
    "if torch.cuda.is_available(): torch.cuda.manual_seed_all(SEED)"
   ]
  },
  {
   "cell_type": "code",
   "execution_count": 5,
   "id": "a3d92745-faeb-4df7-825d-0cdd1c42710c",
   "metadata": {},
   "outputs": [],
   "source": [
    "# ========= Data =========\n",
    "df = pd.read_csv(DATA_PATH)\n",
    "df[\"subject\"] = df[\"subject\"].fillna(\"\")\n",
    "df[\"body\"]    = df[\"body\"].fillna(\"\")\n",
    "df[\"text\"]    = (df[\"subject\"] + \" \" + df[\"body\"]).str.strip()\n",
    "\n",
    "le = LabelEncoder()\n",
    "df[\"label\"] = le.fit_transform(df[\"type\"])\n",
    "problem_idx = np.where(le.classes_ == \"Problem\")[0][0]\n",
    "\n",
    "train_df, temp_df = train_test_split(\n",
    "    df[[\"text\",\"label\"]], test_size=0.2, random_state=SEED, stratify=df[\"label\"]\n",
    ")"
   ]
  },
  {
   "cell_type": "code",
   "execution_count": 7,
   "id": "42bf23e4-a92f-45bd-82d3-df9674e5f28e",
   "metadata": {},
   "outputs": [
    {
     "name": "stderr",
     "output_type": "stream",
     "text": [
      "/Users/isarris/anaconda3/lib/python3.11/site-packages/huggingface_hub/file_download.py:1150: FutureWarning: `resume_download` is deprecated and will be removed in version 1.0.0. Downloads always resume when possible. If you want to force a new download, use `force_download=True`.\n",
      "  warnings.warn(\n"
     ]
    }
   ],
   "source": [
    "# Optional: keep a tiny test split separate if you want (here we evaluate on val)\n",
    "val_df = temp_df\n",
    "\n",
    "tokenizer = AutoTokenizer.from_pretrained(MODEL_NAME)\n",
    "\n",
    "class TicketDS(Dataset):\n",
    "    def __init__(self, texts, labels, tokenizer, max_len):\n",
    "        self.texts = texts.tolist()\n",
    "        self.labels = labels.tolist()\n",
    "        self.tokenizer = tokenizer\n",
    "        self.max_len = max_len\n",
    "    def __len__(self): return len(self.texts)\n",
    "    def __getitem__(self, idx):\n",
    "        enc = self.tokenizer(\n",
    "            self.texts[idx],\n",
    "            truncation=True, max_length=self.max_len, padding=False,\n",
    "            return_tensors=\"pt\"\n",
    "        )\n",
    "        item = {k: v.squeeze(0) for k, v in enc.items()}\n",
    "        item[\"labels\"] = torch.tensor(self.labels[idx], dtype=torch.long)\n",
    "        return item\n",
    "\n",
    "train_ds = TicketDS(train_df[\"text\"], train_df[\"label\"], tokenizer, MAX_LEN)\n",
    "val_ds   = TicketDS(val_df[\"text\"],   val_df[\"label\"],   tokenizer, MAX_LEN)\n",
    "collator = DataCollatorWithPadding(tokenizer=tokenizer)\n",
    "\n",
    "train_loader = DataLoader(train_ds, batch_size=BATCH_SIZE, shuffle=True,  collate_fn=collator)\n",
    "val_loader   = DataLoader(val_ds,   batch_size=BATCH_SIZE, shuffle=False, collate_fn=collator)\n"
   ]
  },
  {
   "cell_type": "code",
   "execution_count": 9,
   "id": "44ab8d9f-7684-493f-b090-18328eee3e2a",
   "metadata": {},
   "outputs": [
    {
     "name": "stderr",
     "output_type": "stream",
     "text": [
      "/Users/isarris/anaconda3/lib/python3.11/site-packages/huggingface_hub/file_download.py:1150: FutureWarning: `resume_download` is deprecated and will be removed in version 1.0.0. Downloads always resume when possible. If you want to force a new download, use `force_download=True`.\n",
      "  warnings.warn(\n",
      "/Users/isarris/anaconda3/lib/python3.11/site-packages/transformers/utils/generic.py:260: FutureWarning: `torch.utils._pytree._register_pytree_node` is deprecated. Please use `torch.utils._pytree.register_pytree_node` instead.\n",
      "  torch.utils._pytree._register_pytree_node(\n",
      "/Users/isarris/anaconda3/lib/python3.11/site-packages/transformers/utils/generic.py:260: FutureWarning: `torch.utils._pytree._register_pytree_node` is deprecated. Please use `torch.utils._pytree.register_pytree_node` instead.\n",
      "  torch.utils._pytree._register_pytree_node(\n"
     ]
    }
   ],
   "source": [
    "# ========= Model (MEAN POOLING, UNFROZEN) =========\n",
    "class DistilBertClassifier(nn.Module):\n",
    "    def __init__(self, model_name, num_labels, dropout=0.2):\n",
    "        super().__init__()\n",
    "        self.bert = AutoModel.from_pretrained(model_name)   # encoder UNFROZEN\n",
    "        hidden = self.bert.config.hidden_size\n",
    "        self.dropout = nn.Dropout(dropout)\n",
    "        self.classifier = nn.Linear(hidden, num_labels)\n",
    "\n",
    "    def forward(self, input_ids, attention_mask):\n",
    "        out = self.bert(input_ids=input_ids, attention_mask=attention_mask)\n",
    "        hidden = out.last_hidden_state                 # [B, T, H]\n",
    "        mask = attention_mask.unsqueeze(-1)            # [B, T, 1]\n",
    "        summed = (hidden * mask).sum(dim=1)            # [B, H]\n",
    "        counts = mask.sum(dim=1).clamp(min=1e-9)       # [B, 1]\n",
    "        mean_pooled = summed / counts                  # [B, H]\n",
    "        x = self.dropout(mean_pooled)\n",
    "        return self.classifier(x)\n",
    "\n",
    "num_labels = len(le.classes_)\n",
    "model = DistilBertClassifier(MODEL_NAME, num_labels).to(device)"
   ]
  },
  {
   "cell_type": "code",
   "execution_count": 11,
   "id": "c33eded6-f56a-42d2-a5b1-92b55fb19eea",
   "metadata": {},
   "outputs": [],
   "source": [
    "# ========= Loss (class-weighted, softened + Problem boost) =========\n",
    "train_labels_np = train_df[\"label\"].to_numpy()\n",
    "raw_weights = compute_class_weight(\n",
    "    class_weight=\"balanced\", classes=np.arange(num_labels), y=train_labels_np\n",
    ").astype(np.float32)\n",
    "soft_weights = SOFTEN_WEIGHTS[0] * raw_weights + SOFTEN_WEIGHTS[1]\n",
    "soft_weights[problem_idx] *= PROBLEM_BOOST\n",
    "weights_tensor = torch.tensor(soft_weights, dtype=torch.float32).to(device)\n",
    "criterion = nn.CrossEntropyLoss(weight=weights_tensor)"
   ]
  },
  {
   "cell_type": "code",
   "execution_count": 13,
   "id": "acabedba-1d63-42ff-ba81-d200362d865e",
   "metadata": {},
   "outputs": [
    {
     "name": "stderr",
     "output_type": "stream",
     "text": [
      "/var/folders/2c/t3z7zll93rg71tfmbqfqp1640000gn/T/ipykernel_51208/2290525287.py:22: FutureWarning: `torch.cuda.amp.GradScaler(args...)` is deprecated. Please use `torch.amp.GradScaler('cuda', args...)` instead.\n",
      "  scaler = torch.cuda.amp.GradScaler(enabled=torch.cuda.is_available())\n"
     ]
    }
   ],
   "source": [
    "# ========= Optimizer (two groups) + Scheduler =========\n",
    "no_decay = [\"bias\", \"LayerNorm.weight\"]\n",
    "encoder_params = []\n",
    "head_params = []\n",
    "for n, p in model.named_parameters():\n",
    "    if \"classifier\" in n:\n",
    "        head_params.append(p)\n",
    "    else:\n",
    "        encoder_params.append(p)\n",
    "\n",
    "optimizer = torch.optim.AdamW([\n",
    "    {\"params\": encoder_params, \"lr\": LR_ENCODER, \"weight_decay\": WEIGHT_DECAY},\n",
    "    {\"params\": head_params,    \"lr\": LR_HEAD,    \"weight_decay\": WEIGHT_DECAY},\n",
    "])\n",
    "\n",
    "total_steps = len(train_loader) * EPOCHS\n",
    "warmup_steps = int(WARMUP_RATIO * total_steps)\n",
    "scheduler = get_linear_schedule_with_warmup(\n",
    "    optimizer, num_warmup_steps=warmup_steps, num_training_steps=total_steps\n",
    ")\n",
    "\n",
    "scaler = torch.cuda.amp.GradScaler(enabled=torch.cuda.is_available())"
   ]
  },
  {
   "cell_type": "code",
   "execution_count": 15,
   "id": "bb069893-92f8-46ec-a0f6-7e922ce1881b",
   "metadata": {},
   "outputs": [],
   "source": [
    "# ========= Train / Eval helpers =========\n",
    "def run_epoch(loader, train=True):\n",
    "    model.train() if train else model.eval()\n",
    "    losses, preds_all, labels_all = [], [], []\n",
    "    for batch in tqdm(loader, leave=False):\n",
    "        input_ids = batch[\"input_ids\"].to(device)\n",
    "        attention_mask = batch[\"attention_mask\"].to(device)\n",
    "        labels = batch[\"labels\"].to(device)\n",
    "\n",
    "        with torch.set_grad_enabled(train):\n",
    "            with torch.cuda.amp.autocast(enabled=torch.cuda.is_available()):\n",
    "                logits = model(input_ids, attention_mask)\n",
    "                loss = criterion(logits, labels)\n",
    "\n",
    "            if train:\n",
    "                optimizer.zero_grad(set_to_none=True)\n",
    "                scaler.scale(loss).backward()\n",
    "                torch.nn.utils.clip_grad_norm_(model.parameters(), GRAD_CLIP)\n",
    "                scaler.step(optimizer)\n",
    "                scaler.update()\n",
    "                scheduler.step()\n",
    "\n",
    "        losses.append(loss.item())\n",
    "        preds = torch.argmax(logits, dim=1).detach().cpu().numpy()\n",
    "        preds_all.append(preds)\n",
    "        labels_all.append(labels.detach().cpu().numpy())\n",
    "\n",
    "    preds_all = np.concatenate(preds_all)\n",
    "    labels_all = np.concatenate(labels_all)\n",
    "    f1w = f1_score(labels_all, preds_all, average=\"weighted\")\n",
    "    return np.mean(losses), f1w, preds_all, labels_all"
   ]
  },
  {
   "cell_type": "code",
   "execution_count": 17,
   "id": "72240b2c-537b-4442-9f59-e37de415c554",
   "metadata": {},
   "outputs": [
    {
     "data": {
      "application/vnd.jupyter.widget-view+json": {
       "model_id": "66894aa4211443b0b51ab5161d8198e4",
       "version_major": 2,
       "version_minor": 0
      },
      "text/plain": [
       "  0%|          | 0/409 [00:00<?, ?it/s]"
      ]
     },
     "metadata": {},
     "output_type": "display_data"
    },
    {
     "name": "stderr",
     "output_type": "stream",
     "text": [
      "You're using a DistilBertTokenizerFast tokenizer. Please note that with a fast tokenizer, using the `__call__` method is faster than using a method to encode the text followed by a call to the `pad` method to get a padded encoding.\n",
      "/var/folders/2c/t3z7zll93rg71tfmbqfqp1640000gn/T/ipykernel_51208/761433769.py:11: FutureWarning: `torch.cuda.amp.autocast(args...)` is deprecated. Please use `torch.amp.autocast('cuda', args...)` instead.\n",
      "  with torch.cuda.amp.autocast(enabled=torch.cuda.is_available()):\n"
     ]
    },
    {
     "data": {
      "application/vnd.jupyter.widget-view+json": {
       "model_id": "0675515d6a3349ae858025e72ed930dd",
       "version_major": 2,
       "version_minor": 0
      },
      "text/plain": [
       "  0%|          | 0/103 [00:00<?, ?it/s]"
      ]
     },
     "metadata": {},
     "output_type": "display_data"
    },
    {
     "name": "stderr",
     "output_type": "stream",
     "text": [
      "/var/folders/2c/t3z7zll93rg71tfmbqfqp1640000gn/T/ipykernel_51208/761433769.py:11: FutureWarning: `torch.cuda.amp.autocast(args...)` is deprecated. Please use `torch.amp.autocast('cuda', args...)` instead.\n",
      "  with torch.cuda.amp.autocast(enabled=torch.cuda.is_available()):\n"
     ]
    },
    {
     "name": "stdout",
     "output_type": "stream",
     "text": [
      "[FT] Epoch 1/5 | train loss 0.5713 f1w 0.7062 | val loss 0.3322 f1w 0.8183\n"
     ]
    },
    {
     "data": {
      "application/vnd.jupyter.widget-view+json": {
       "model_id": "c58c3bb8f4204a2b9fa0e50f45b8eab4",
       "version_major": 2,
       "version_minor": 0
      },
      "text/plain": [
       "  0%|          | 0/409 [00:00<?, ?it/s]"
      ]
     },
     "metadata": {},
     "output_type": "display_data"
    },
    {
     "name": "stderr",
     "output_type": "stream",
     "text": [
      "/var/folders/2c/t3z7zll93rg71tfmbqfqp1640000gn/T/ipykernel_51208/761433769.py:11: FutureWarning: `torch.cuda.amp.autocast(args...)` is deprecated. Please use `torch.amp.autocast('cuda', args...)` instead.\n",
      "  with torch.cuda.amp.autocast(enabled=torch.cuda.is_available()):\n"
     ]
    },
    {
     "data": {
      "application/vnd.jupyter.widget-view+json": {
       "model_id": "88ded0164e644a5f8725471af19cc6d9",
       "version_major": 2,
       "version_minor": 0
      },
      "text/plain": [
       "  0%|          | 0/103 [00:00<?, ?it/s]"
      ]
     },
     "metadata": {},
     "output_type": "display_data"
    },
    {
     "name": "stderr",
     "output_type": "stream",
     "text": [
      "/var/folders/2c/t3z7zll93rg71tfmbqfqp1640000gn/T/ipykernel_51208/761433769.py:11: FutureWarning: `torch.cuda.amp.autocast(args...)` is deprecated. Please use `torch.amp.autocast('cuda', args...)` instead.\n",
      "  with torch.cuda.amp.autocast(enabled=torch.cuda.is_available()):\n"
     ]
    },
    {
     "name": "stdout",
     "output_type": "stream",
     "text": [
      "[FT] Epoch 2/5 | train loss 0.3337 f1w 0.8181 | val loss 0.3152 f1w 0.8403\n"
     ]
    },
    {
     "data": {
      "application/vnd.jupyter.widget-view+json": {
       "model_id": "2b35476796604b378f358cc7e6163d29",
       "version_major": 2,
       "version_minor": 0
      },
      "text/plain": [
       "  0%|          | 0/409 [00:00<?, ?it/s]"
      ]
     },
     "metadata": {},
     "output_type": "display_data"
    },
    {
     "name": "stderr",
     "output_type": "stream",
     "text": [
      "/var/folders/2c/t3z7zll93rg71tfmbqfqp1640000gn/T/ipykernel_51208/761433769.py:11: FutureWarning: `torch.cuda.amp.autocast(args...)` is deprecated. Please use `torch.amp.autocast('cuda', args...)` instead.\n",
      "  with torch.cuda.amp.autocast(enabled=torch.cuda.is_available()):\n"
     ]
    },
    {
     "data": {
      "application/vnd.jupyter.widget-view+json": {
       "model_id": "2fd92b730f044ee89a97a58f73169150",
       "version_major": 2,
       "version_minor": 0
      },
      "text/plain": [
       "  0%|          | 0/103 [00:00<?, ?it/s]"
      ]
     },
     "metadata": {},
     "output_type": "display_data"
    },
    {
     "name": "stderr",
     "output_type": "stream",
     "text": [
      "/var/folders/2c/t3z7zll93rg71tfmbqfqp1640000gn/T/ipykernel_51208/761433769.py:11: FutureWarning: `torch.cuda.amp.autocast(args...)` is deprecated. Please use `torch.amp.autocast('cuda', args...)` instead.\n",
      "  with torch.cuda.amp.autocast(enabled=torch.cuda.is_available()):\n"
     ]
    },
    {
     "name": "stdout",
     "output_type": "stream",
     "text": [
      "[FT] Epoch 3/5 | train loss 0.2634 f1w 0.8658 | val loss 0.3220 f1w 0.8136\n"
     ]
    },
    {
     "data": {
      "application/vnd.jupyter.widget-view+json": {
       "model_id": "dfb6ec5b2b49479c9845073c72639970",
       "version_major": 2,
       "version_minor": 0
      },
      "text/plain": [
       "  0%|          | 0/409 [00:00<?, ?it/s]"
      ]
     },
     "metadata": {},
     "output_type": "display_data"
    },
    {
     "name": "stderr",
     "output_type": "stream",
     "text": [
      "/var/folders/2c/t3z7zll93rg71tfmbqfqp1640000gn/T/ipykernel_51208/761433769.py:11: FutureWarning: `torch.cuda.amp.autocast(args...)` is deprecated. Please use `torch.amp.autocast('cuda', args...)` instead.\n",
      "  with torch.cuda.amp.autocast(enabled=torch.cuda.is_available()):\n"
     ]
    },
    {
     "data": {
      "application/vnd.jupyter.widget-view+json": {
       "model_id": "f1e03bbf200747eea84d2c0a4886f3fb",
       "version_major": 2,
       "version_minor": 0
      },
      "text/plain": [
       "  0%|          | 0/103 [00:00<?, ?it/s]"
      ]
     },
     "metadata": {},
     "output_type": "display_data"
    },
    {
     "name": "stderr",
     "output_type": "stream",
     "text": [
      "/var/folders/2c/t3z7zll93rg71tfmbqfqp1640000gn/T/ipykernel_51208/761433769.py:11: FutureWarning: `torch.cuda.amp.autocast(args...)` is deprecated. Please use `torch.amp.autocast('cuda', args...)` instead.\n",
      "  with torch.cuda.amp.autocast(enabled=torch.cuda.is_available()):\n"
     ]
    },
    {
     "name": "stdout",
     "output_type": "stream",
     "text": [
      "[FT] Epoch 4/5 | train loss 0.1979 f1w 0.9096 | val loss 0.2906 f1w 0.8596\n"
     ]
    },
    {
     "data": {
      "application/vnd.jupyter.widget-view+json": {
       "model_id": "05c125d96af8477ebd405a9b766ad219",
       "version_major": 2,
       "version_minor": 0
      },
      "text/plain": [
       "  0%|          | 0/409 [00:00<?, ?it/s]"
      ]
     },
     "metadata": {},
     "output_type": "display_data"
    },
    {
     "name": "stderr",
     "output_type": "stream",
     "text": [
      "/var/folders/2c/t3z7zll93rg71tfmbqfqp1640000gn/T/ipykernel_51208/761433769.py:11: FutureWarning: `torch.cuda.amp.autocast(args...)` is deprecated. Please use `torch.amp.autocast('cuda', args...)` instead.\n",
      "  with torch.cuda.amp.autocast(enabled=torch.cuda.is_available()):\n"
     ]
    },
    {
     "data": {
      "application/vnd.jupyter.widget-view+json": {
       "model_id": "5946de48d463450987b385e92b9753ee",
       "version_major": 2,
       "version_minor": 0
      },
      "text/plain": [
       "  0%|          | 0/103 [00:00<?, ?it/s]"
      ]
     },
     "metadata": {},
     "output_type": "display_data"
    },
    {
     "name": "stderr",
     "output_type": "stream",
     "text": [
      "/var/folders/2c/t3z7zll93rg71tfmbqfqp1640000gn/T/ipykernel_51208/761433769.py:11: FutureWarning: `torch.cuda.amp.autocast(args...)` is deprecated. Please use `torch.amp.autocast('cuda', args...)` instead.\n",
      "  with torch.cuda.amp.autocast(enabled=torch.cuda.is_available()):\n"
     ]
    },
    {
     "name": "stdout",
     "output_type": "stream",
     "text": [
      "[FT] Epoch 5/5 | train loss 0.1423 f1w 0.9424 | val loss 0.3233 f1w 0.8606\n"
     ]
    }
   ],
   "source": [
    "# ========= Training loop (early stopping on weighted F1) =========\n",
    "best_f1, best_state, patience = -1.0, None, PATIENCE\n",
    "for epoch in range(1, EPOCHS+1):\n",
    "    tr_loss, tr_f1, _, _ = run_epoch(train_loader, train=True)\n",
    "    va_loss, va_f1, _, _ = run_epoch(val_loader,   train=False)\n",
    "    print(f\"[FT] Epoch {epoch}/{EPOCHS} | train loss {tr_loss:.4f} f1w {tr_f1:.4f} | val loss {va_loss:.4f} f1w {va_f1:.4f}\")\n",
    "\n",
    "    if va_f1 > best_f1:\n",
    "        best_f1 = va_f1\n",
    "        best_state = {\n",
    "            \"model\": model.state_dict(),\n",
    "            \"label_classes\": le.classes_,\n",
    "            \"tokenizer_name\": MODEL_NAME,\n",
    "            \"max_len\": MAX_LEN\n",
    "        }\n",
    "        patience = PATIENCE\n",
    "    else:\n",
    "        patience -= 1\n",
    "        if patience < 0:\n",
    "            print(\"Early stopping.\")\n",
    "            break"
   ]
  },
  {
   "cell_type": "code",
   "execution_count": 54,
   "id": "8c4afa76-2ba9-4add-b62f-5ba69e29087c",
   "metadata": {},
   "outputs": [
    {
     "name": "stdout",
     "output_type": "stream",
     "text": [
      "Saved to: ./type_finetuned_model_pt\n"
     ]
    }
   ],
   "source": [
    "# ========= SAVE — tensors only + JSON =========\n",
    "os.makedirs(SAVE_DIR, exist_ok=True)\n",
    "torch.save(best_state[\"model\"], os.path.join(SAVE_DIR, \"finetuned_model_weights.pt\"))\n",
    "tokenizer.save_pretrained(SAVE_DIR)\n",
    "meta = {\n",
    "    \"label_classes\": best_state[\"label_classes\"].tolist(),\n",
    "    \"tokenizer_name\": best_state[\"tokenizer_name\"],\n",
    "    \"max_len\": int(best_state[\"max_len\"])\n",
    "}\n",
    "with open(os.path.join(SAVE_DIR, \"metadata.json\"), \"w\") as f:\n",
    "    json.dump(meta, f, indent=2)\n",
    "print(\"Saved to:\", SAVE_DIR)"
   ]
  },
  {
   "cell_type": "code",
   "execution_count": null,
   "id": "c6b39eba-fb61-4bb5-a5f5-6a28b2c32937",
   "metadata": {},
   "outputs": [],
   "source": []
  },
  {
   "cell_type": "code",
   "execution_count": 38,
   "id": "e13de454-a9f6-453e-b730-6fc0148e1f82",
   "metadata": {},
   "outputs": [
    {
     "name": "stderr",
     "output_type": "stream",
     "text": [
      "/Users/isarris/anaconda3/lib/python3.11/site-packages/huggingface_hub/file_download.py:1150: FutureWarning: `resume_download` is deprecated and will be removed in version 1.0.0. Downloads always resume when possible. If you want to force a new download, use `force_download=True`.\n",
      "  warnings.warn(\n"
     ]
    },
    {
     "data": {
      "application/vnd.jupyter.widget-view+json": {
       "model_id": "55a03cff09224eff9d0bb6d0ea61873f",
       "version_major": 2,
       "version_minor": 0
      },
      "text/plain": [
       "  0%|          | 0/103 [00:00<?, ?it/s]"
      ]
     },
     "metadata": {},
     "output_type": "display_data"
    },
    {
     "name": "stderr",
     "output_type": "stream",
     "text": [
      "/var/folders/2c/t3z7zll93rg71tfmbqfqp1640000gn/T/ipykernel_51208/761433769.py:11: FutureWarning: `torch.cuda.amp.autocast(args...)` is deprecated. Please use `torch.amp.autocast('cuda', args...)` instead.\n",
      "  with torch.cuda.amp.autocast(enabled=torch.cuda.is_available()):\n"
     ]
    },
    {
     "name": "stdout",
     "output_type": "stream",
     "text": [
      "              precision    recall  f1-score   support\n",
      "\n",
      "      Change       0.99      1.00      0.99       341\n",
      "    Incident       0.87      0.76      0.81      1314\n",
      "     Problem       0.63      0.78      0.70       680\n",
      "     Request       1.00      0.99      1.00       933\n",
      "\n",
      "    accuracy                           0.86      3268\n",
      "   macro avg       0.87      0.88      0.88      3268\n",
      "weighted avg       0.87      0.86      0.86      3268\n",
      "\n"
     ]
    }
   ],
   "source": [
    "# ========= Final report (reload + evaluate) =========\n",
    "state_dict = torch.load(os.path.join(SAVE_DIR, \"model_state_dict.pt\"), map_location=device)\n",
    "reloaded = DistilBertClassifier(meta[\"tokenizer_name\"], num_labels=len(meta[\"label_classes\"])).to(device)\n",
    "reloaded.load_state_dict(state_dict)\n",
    "reloaded.eval()\n",
    "\n",
    "def eval_with(model_to_eval):\n",
    "    _, _, va_pred, va_true = run_epoch(val_loader, train=False)\n",
    "    print(classification_report(va_true, va_pred, target_names=le.classes_))\n",
    "\n",
    "eval_with(reloaded)"
   ]
  },
  {
   "cell_type": "code",
   "execution_count": 34,
   "id": "8ea0c16c-6612-48ae-a401-f91f57aa20ac",
   "metadata": {},
   "outputs": [
    {
     "name": "stderr",
     "output_type": "stream",
     "text": [
      "/Users/isarris/anaconda3/lib/python3.11/site-packages/huggingface_hub/file_download.py:1150: FutureWarning: `resume_download` is deprecated and will be removed in version 1.0.0. Downloads always resume when possible. If you want to force a new download, use `force_download=True`.\n",
      "  warnings.warn(\n"
     ]
    },
    {
     "name": "stdout",
     "output_type": "stream",
     "text": [
      "['Problem' 'Problem' 'Incident']\n"
     ]
    }
   ],
   "source": [
    "# Smoke test\n",
    "mdl, tok, le_loaded, meta_loaded = load_type_model(SAVE_DIR, device=device)\n",
    "labels, _ = predict_types(\n",
    "    [\"Please reset my password\", \"Payments page throws 500 error\", \"Planned maintenance tonight 22:00\"],\n",
    "    mdl, tok, le_loaded, meta_loaded[\"max_len\"], device=device\n",
    ")\n",
    "print(labels)"
   ]
  },
  {
   "cell_type": "code",
   "execution_count": 40,
   "id": "2e6d54e9-f878-4713-9b93-53ed22453123",
   "metadata": {},
   "outputs": [
    {
     "data": {
      "application/vnd.jupyter.widget-view+json": {
       "model_id": "9b1f40b1fd524f70915c4a8cbb14cdc3",
       "version_major": 2,
       "version_minor": 0
      },
      "text/plain": [
       "  0%|          | 0/103 [00:00<?, ?it/s]"
      ]
     },
     "metadata": {},
     "output_type": "display_data"
    },
    {
     "name": "stderr",
     "output_type": "stream",
     "text": [
      "/var/folders/2c/t3z7zll93rg71tfmbqfqp1640000gn/T/ipykernel_51208/761433769.py:11: FutureWarning: `torch.cuda.amp.autocast(args...)` is deprecated. Please use `torch.amp.autocast('cuda', args...)` instead.\n",
      "  with torch.cuda.amp.autocast(enabled=torch.cuda.is_available()):\n"
     ]
    },
    {
     "data": {
      "image/png": "[encoded data removed]",
      "text/plain": [
       "<Figure size 600x500 with 2 Axes>"
      ]
     },
     "metadata": {},
     "output_type": "display_data"
    }
   ],
   "source": [
    "import matplotlib.pyplot as plt\n",
    "import seaborn as sns\n",
    "from sklearn.metrics import confusion_matrix\n",
    "\n",
    "# Run evaluation again to get predictions and labels\n",
    "_, _, va_pred, va_true = run_epoch(val_loader, train=False)\n",
    "\n",
    "# Confusion matrix\n",
    "cm = confusion_matrix(va_true, va_pred)\n",
    "\n",
    "plt.figure(figsize=(6,5))\n",
    "sns.heatmap(cm, annot=True, fmt=\"d\", cmap=\"Blues\",\n",
    "            xticklabels=le.classes_,\n",
    "            yticklabels=le.classes_)\n",
    "plt.xlabel(\"Predicted\")\n",
    "plt.ylabel(\"True\")\n",
    "plt.title(\"Confusion Matrix — TYPE classification (Fine-tuned)\")\n",
    "plt.tight_layout()\n",
    "plt.show()\n"
   ]
  },
  {
   "cell_type": "markdown",
   "id": "88bd6aec-1b15-4b2f-88a9-8cf96231ac37",
   "metadata": {},
   "source": [
    "Metric\tFrozen Model\tFine-tuned Model\tChange\n",
    "Accuracy\t0.76\t0.86\t+0.10\n",
    "Macro Avg Precision\t0.74\t0.87\t+0.13\n",
    "Macro Avg Recall\t0.76\t0.88\t+0.12\n",
    "Macro Avg F1-Score\t0.76\t0.88\t+0.12\n",
    "Weighted Avg Precision\t0.76\t0.87\t+0.11\n",
    "Weighted Avg Recall\t0.76\t0.86\t+0.10\n",
    "Weighted Avg F1-Score\t0.76\t0.86\t+0.10\n",
    "Problem Recall\t0.46\t0.78\t+0.32\n",
    "Incident Recall\t0.74\t0.76\t+0.02\n",
    "Change Recall\t0.90\t1.00\t+0.10\n",
    "Request Recall\t0.94\t0.99\t+0.05\n",
    "Key takeaways:\n",
    "Full fine-tuning gave a +12% macro F1 boost.\n",
    "Problem recall jumped by 32 percentage points without hurting Incident performance much.\n",
    "Change and Request are essentially perfect now.\n",
    "Main remaining challenge: the Incident ↔ Problem confusion, which is down to ~14% of total samples."
   ]
  }
 ],
 "metadata": {
  "kernelspec": {
   "display_name": "Python [conda env:base] *",
   "language": "python",
   "name": "conda-base-py"
  },
  "language_info": {
   "codemirror_mode": {
    "name": "ipython",
    "version": 3
   },
   "file_extension": ".py",
   "mimetype": "text/x-python",
   "name": "python",
   "nbconvert_exporter": "python",
   "pygments_lexer": "ipython3",
   "version": "3.11.5"
  }
 },
 "nbformat": 4,
 "nbformat_minor": 5
}

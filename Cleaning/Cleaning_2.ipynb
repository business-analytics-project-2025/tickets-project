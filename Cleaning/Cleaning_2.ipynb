{
 "cells": [
  {
   "cell_type": "code",
   "execution_count": null,
   "id": "945b6550",
   "metadata": {},
   "outputs": [],
   "source": [
    "import pandas as pd"
   ]
  },
  {
   "cell_type": "code",
   "execution_count": null,
   "id": "84e71cb7",
   "metadata": {},
   "outputs": [],
   "source": [
    "df = pd.read_csv(\"CS_Tickets_MSc.csv\")"
   ]
  },
  {
   "cell_type": "code",
   "execution_count": null,
   "id": "a072e83c",
   "metadata": {},
   "outputs": [],
   "source": [
    "print(df.info())\n"
   ]
  },
  {
   "cell_type": "code",
   "execution_count": null,
   "id": "4229cea0",
   "metadata": {},
   "outputs": [],
   "source": [
    "print(df.isnull().sum())"
   ]
  },
  {
   "cell_type": "code",
   "execution_count": null,
   "id": "8431b492",
   "metadata": {},
   "outputs": [],
   "source": [
    "df.drop(df.columns[10:26], axis=1, inplace=True)\n",
    "df.drop(df.columns[0], axis=1, inplace=True)"
   ]
  },
  {
   "cell_type": "code",
   "execution_count": null,
   "id": "0c43f989",
   "metadata": {},
   "outputs": [],
   "source": [
    "print(df.columns)"
   ]
  },
  {
   "cell_type": "code",
   "execution_count": null,
   "id": "c299b314",
   "metadata": {},
   "outputs": [],
   "source": [
    "# Convert to Title Case\n",
    "for col in ['priority', 'type', 'department']:\n",
    "    df[col] = df[col].str.strip().str.lower().str.title()\n"
   ]
  },
  {
   "cell_type": "code",
   "execution_count": null,
   "id": "973133d6",
   "metadata": {},
   "outputs": [],
   "source": [
    "df.head()"
   ]
  },
  {
   "cell_type": "code",
   "execution_count": null,
   "id": "8ef72fd4",
   "metadata": {},
   "outputs": [],
   "source": [
    "df.to_csv('Cleaned_Tickets.csv', index=False)\n"
   ]
  }
 ],
 "metadata": {
  "kernelspec": {
   "display_name": "Python 3",
   "language": "python",
   "name": "python3"
  },
  "language_info": {
   "codemirror_mode": {
    "name": "ipython",
    "version": 3
   },
   "file_extension": ".py",
   "mimetype": "text/x-python",
   "name": "python",
   "nbconvert_exporter": "python",
   "pygments_lexer": "ipython3",
   "version": "3.11.9"
  }
 },
 "nbformat": 4,
 "nbformat_minor": 5
}

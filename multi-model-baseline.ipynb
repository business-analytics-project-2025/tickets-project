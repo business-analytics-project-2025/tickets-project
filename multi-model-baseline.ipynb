{
 "cells": [
  {
   "cell_type": "code",
   "execution_count": 1,
   "id": "5630347c-32a5-4a7a-8211-6471284edf60",
   "metadata": {},
   "outputs": [
    {
     "name": "stderr",
     "output_type": "stream",
     "text": [
      "/Users/isarris/anaconda3/lib/python3.11/site-packages/huggingface_hub/file_download.py:1150: FutureWarning: `resume_download` is deprecated and will be removed in version 1.0.0. Downloads always resume when possible. If you want to force a new download, use `force_download=True`.\n",
      "  warnings.warn(\n",
      "/Users/isarris/anaconda3/lib/python3.11/site-packages/huggingface_hub/file_download.py:1150: FutureWarning: `resume_download` is deprecated and will be removed in version 1.0.0. Downloads always resume when possible. If you want to force a new download, use `force_download=True`.\n",
      "  warnings.warn(\n",
      "/Users/isarris/anaconda3/lib/python3.11/site-packages/transformers/utils/generic.py:260: FutureWarning: `torch.utils._pytree._register_pytree_node` is deprecated. Please use `torch.utils._pytree.register_pytree_node` instead.\n",
      "  torch.utils._pytree._register_pytree_node(\n",
      "/Users/isarris/anaconda3/lib/python3.11/site-packages/transformers/utils/generic.py:260: FutureWarning: `torch.utils._pytree._register_pytree_node` is deprecated. Please use `torch.utils._pytree.register_pytree_node` instead.\n",
      "  torch.utils._pytree._register_pytree_node(\n"
     ]
    },
    {
     "data": {
      "application/vnd.jupyter.widget-view+json": {
       "model_id": "04234067563645a0b934d78e229b428f",
       "version_major": 2,
       "version_minor": 0
      },
      "text/plain": [
       "  0%|          | 0/817 [00:00<?, ?it/s]"
      ]
     },
     "metadata": {},
     "output_type": "display_data"
    },
    {
     "data": {
      "application/vnd.jupyter.widget-view+json": {
       "model_id": "405dff41ffba49adb1b7b186e91bf1f8",
       "version_major": 2,
       "version_minor": 0
      },
      "text/plain": [
       "  0%|          | 0/205 [00:00<?, ?it/s]"
      ]
     },
     "metadata": {},
     "output_type": "display_data"
    },
    {
     "name": "stdout",
     "output_type": "stream",
     "text": [
      "Epoch 1 | train loss 3.8668 | val loss 3.6084\n",
      "   F1(type)=0.736 | F1(dept)=0.204 | F1(prio)=0.380 | F1(tags)=0.536\n"
     ]
    },
    {
     "data": {
      "application/vnd.jupyter.widget-view+json": {
       "model_id": "8e9db305c95c4472aa98bdb64e657d11",
       "version_major": 2,
       "version_minor": 0
      },
      "text/plain": [
       "  0%|          | 0/817 [00:00<?, ?it/s]"
      ]
     },
     "metadata": {},
     "output_type": "display_data"
    },
    {
     "data": {
      "application/vnd.jupyter.widget-view+json": {
       "model_id": "d698236743ac4b4f9a2fe73eb382dc13",
       "version_major": 2,
       "version_minor": 0
      },
      "text/plain": [
       "  0%|          | 0/205 [00:00<?, ?it/s]"
      ]
     },
     "metadata": {},
     "output_type": "display_data"
    },
    {
     "name": "stdout",
     "output_type": "stream",
     "text": [
      "Epoch 2 | train loss 3.6045 | val loss 3.5113\n",
      "   F1(type)=0.775 | F1(dept)=0.177 | F1(prio)=0.415 | F1(tags)=0.561\n"
     ]
    },
    {
     "data": {
      "application/vnd.jupyter.widget-view+json": {
       "model_id": "700677827afe4ba7acf055c8dfecb2c1",
       "version_major": 2,
       "version_minor": 0
      },
      "text/plain": [
       "  0%|          | 0/817 [00:00<?, ?it/s]"
      ]
     },
     "metadata": {},
     "output_type": "display_data"
    },
    {
     "data": {
      "application/vnd.jupyter.widget-view+json": {
       "model_id": "9818acf4a7d8443da3b6111c78b2e08d",
       "version_major": 2,
       "version_minor": 0
      },
      "text/plain": [
       "  0%|          | 0/205 [00:00<?, ?it/s]"
      ]
     },
     "metadata": {},
     "output_type": "display_data"
    },
    {
     "name": "stdout",
     "output_type": "stream",
     "text": [
      "Epoch 3 | train loss 3.5320 | val loss 3.3779\n",
      "   F1(type)=0.795 | F1(dept)=0.215 | F1(prio)=0.410 | F1(tags)=0.584\n"
     ]
    },
    {
     "data": {
      "application/vnd.jupyter.widget-view+json": {
       "model_id": "8a83f54e2f9a49c9b692b6a6afe3a9c7",
       "version_major": 2,
       "version_minor": 0
      },
      "text/plain": [
       "  0%|          | 0/817 [00:00<?, ?it/s]"
      ]
     },
     "metadata": {},
     "output_type": "display_data"
    },
    {
     "data": {
      "application/vnd.jupyter.widget-view+json": {
       "model_id": "8d33ec9589ec4f2f917349093b9edc89",
       "version_major": 2,
       "version_minor": 0
      },
      "text/plain": [
       "  0%|          | 0/205 [00:00<?, ?it/s]"
      ]
     },
     "metadata": {},
     "output_type": "display_data"
    },
    {
     "name": "stdout",
     "output_type": "stream",
     "text": [
      "Epoch 4 | train loss 3.4697 | val loss 3.3648\n",
      "   F1(type)=0.738 | F1(dept)=0.249 | F1(prio)=0.395 | F1(tags)=0.568\n"
     ]
    },
    {
     "data": {
      "application/vnd.jupyter.widget-view+json": {
       "model_id": "560b9e1b81d34940b473c11442dc902b",
       "version_major": 2,
       "version_minor": 0
      },
      "text/plain": [
       "  0%|          | 0/817 [00:00<?, ?it/s]"
      ]
     },
     "metadata": {},
     "output_type": "display_data"
    },
    {
     "data": {
      "application/vnd.jupyter.widget-view+json": {
       "model_id": "4745b891912b4b9e850ede329d62a378",
       "version_major": 2,
       "version_minor": 0
      },
      "text/plain": [
       "  0%|          | 0/205 [00:00<?, ?it/s]"
      ]
     },
     "metadata": {},
     "output_type": "display_data"
    },
    {
     "name": "stdout",
     "output_type": "stream",
     "text": [
      "Epoch 5 | train loss 3.4494 | val loss 3.4103\n",
      "   F1(type)=0.745 | F1(dept)=0.236 | F1(prio)=0.343 | F1(tags)=0.591\n"
     ]
    },
    {
     "data": {
      "application/vnd.jupyter.widget-view+json": {
       "model_id": "9f5de359af9b4364bda8cbf7e4d2bfd0",
       "version_major": 2,
       "version_minor": 0
      },
      "text/plain": [
       "  0%|          | 0/817 [00:00<?, ?it/s]"
      ]
     },
     "metadata": {},
     "output_type": "display_data"
    },
    {
     "data": {
      "application/vnd.jupyter.widget-view+json": {
       "model_id": "d0e79777b20a44bf9c43eccdb56c0211",
       "version_major": 2,
       "version_minor": 0
      },
      "text/plain": [
       "  0%|          | 0/205 [00:00<?, ?it/s]"
      ]
     },
     "metadata": {},
     "output_type": "display_data"
    },
    {
     "name": "stdout",
     "output_type": "stream",
     "text": [
      "Epoch 6 | train loss 3.4025 | val loss 3.2995\n",
      "   F1(type)=0.805 | F1(dept)=0.262 | F1(prio)=0.357 | F1(tags)=0.601\n",
      "Training done. Best avg F1: 0.5063178029468278\n"
     ]
    }
   ],
   "source": [
    "# ============================\n",
    "# 1) Imports\n",
    "# ============================\n",
    "import os, random, numpy as np, pandas as pd, torch, torch.nn as nn\n",
    "from torch.utils.data import Dataset, DataLoader\n",
    "from transformers import AutoTokenizer, AutoModel\n",
    "from sklearn.model_selection import train_test_split\n",
    "from sklearn.preprocessing import MultiLabelBinarizer\n",
    "from sklearn.metrics import f1_score, classification_report\n",
    "from sklearn.utils.class_weight import compute_class_weight\n",
    "from tqdm.auto import tqdm\n",
    "\n",
    "# ============================\n",
    "# 2) Config\n",
    "# ============================\n",
    "SEED = 42\n",
    "MODEL_NAME = \"distilbert-base-uncased\"\n",
    "DATA_PATH  = \"Cleaned_Tickets.csv\"\n",
    "MAX_LEN    = 256\n",
    "BATCH_SIZE = 16\n",
    "EPOCHS     = 6           \n",
    "LR         = 3e-4\n",
    "PATIENCE   = 3\n",
    "\n",
    "device = torch.device(\"cuda\" if torch.cuda.is_available() else \"cpu\")\n",
    "random.seed(SEED); np.random.seed(SEED); torch.manual_seed(SEED)\n",
    "if torch.cuda.is_available(): torch.cuda.manual_seed_all(SEED)\n",
    "\n",
    "# ============================\n",
    "# 3) Load & preprocess dataset\n",
    "# ============================\n",
    "df = pd.read_csv(DATA_PATH)\n",
    "df[\"subject\"] = df[\"subject\"].fillna(\"\")\n",
    "df[\"body\"]    = df[\"body\"].fillna(\"\")\n",
    "\n",
    "df[\"text\"]    = \"[SUBJ] \" + df[\"subject\"] + \" [BODY] \" + df[\"body\"]\n",
    "\n",
    "type_classes = sorted(df[\"type\"].unique())\n",
    "dept_classes = sorted(df[\"department\"].unique())\n",
    "prio_classes = sorted(df[\"priority\"].unique())\n",
    "\n",
    "type2id = {c:i for i,c in enumerate(type_classes)}\n",
    "dept2id = {c:i for i,c in enumerate(dept_classes)}\n",
    "prio2id = {c:i for i,c in enumerate(prio_classes)}\n",
    "\n",
    "tag_cols = [c for c in df.columns if c.startswith(\"tag_\")]\n",
    "df[\"tags_list\"] = df[tag_cols].fillna(\"\").values.tolist()\n",
    "df[\"tags_list\"] = df[\"tags_list\"].apply(lambda tags: [t for t in tags if t != \"\"])\n",
    "\n",
    "mlb = MultiLabelBinarizer()\n",
    "mlb.fit(df[\"tags_list\"])\n",
    "tag_classes = mlb.classes_\n",
    "\n",
    "# Split\n",
    "train_df, val_df = train_test_split(\n",
    "    df, test_size=0.2, random_state=SEED, stratify=df[\"type\"]\n",
    ")\n",
    "\n",
    "tokenizer = AutoTokenizer.from_pretrained(MODEL_NAME)\n",
    "\n",
    "# ============================\n",
    "# 4) Dataset\n",
    "# ============================\n",
    "class TicketDataset(Dataset):\n",
    "    def __init__(self, df, tokenizer, max_len, type2id, dept2id, prio2id, mlb):\n",
    "        self.texts = df[\"text\"].tolist()\n",
    "        self.type_labels = df[\"type\"].map(type2id).tolist()\n",
    "        self.dept_labels = df[\"department\"].map(dept2id).tolist()\n",
    "        self.prio_labels = df[\"priority\"].map(prio2id).tolist()\n",
    "        self.tags_labels = mlb.transform(df[\"tags_list\"]).astype(np.float32)\n",
    "        self.tokenizer = tokenizer\n",
    "        self.max_len = max_len\n",
    "\n",
    "    def __len__(self): return len(self.texts)\n",
    "\n",
    "    def __getitem__(self, idx):\n",
    "        enc = self.tokenizer(\n",
    "            self.texts[idx],\n",
    "            truncation=True,\n",
    "            padding=\"max_length\",\n",
    "            max_length=self.max_len,\n",
    "            return_tensors=\"pt\"\n",
    "        )\n",
    "        return {\n",
    "            \"input_ids\": enc[\"input_ids\"].squeeze(0),\n",
    "            \"attention_mask\": enc[\"attention_mask\"].squeeze(0),\n",
    "            \"y_type\": torch.tensor(self.type_labels[idx], dtype=torch.long),\n",
    "            \"y_dept\": torch.tensor(self.dept_labels[idx], dtype=torch.long),\n",
    "            \"y_prio\": torch.tensor(self.prio_labels[idx], dtype=torch.long),\n",
    "            \"y_tags\": torch.tensor(self.tags_labels[idx], dtype=torch.float32)\n",
    "        }\n",
    "\n",
    "train_loader = DataLoader(TicketDataset(train_df, tokenizer, MAX_LEN, type2id, dept2id, prio2id, mlb),\n",
    "                          batch_size=BATCH_SIZE, shuffle=True)\n",
    "val_loader = DataLoader(TicketDataset(val_df, tokenizer, MAX_LEN, type2id, dept2id, prio2id, mlb),\n",
    "                        batch_size=BATCH_SIZE)\n",
    "\n",
    "# ============================\n",
    "# 5) Model (frozen base + small MLP heads)\n",
    "# ============================\n",
    "class Head(nn.Module):\n",
    "    def __init__(self, in_dim, out_dim, p=0.2):\n",
    "        super().__init__()\n",
    "        self.seq = nn.Sequential(\n",
    "            nn.LayerNorm(in_dim),\n",
    "            nn.Dropout(p),\n",
    "            nn.Linear(in_dim, in_dim),\n",
    "            nn.ReLU(),\n",
    "            nn.Dropout(p),\n",
    "            nn.Linear(in_dim, out_dim),\n",
    "        )\n",
    "    def forward(self, x): return self.seq(x)\n",
    "\n",
    "class MultiTaskModel(nn.Module):\n",
    "    def __init__(self, model_name=MODEL_NAME, dropout=0.2, freeze_encoder=True,\n",
    "                 n_type=len(type_classes), n_dept=len(dept_classes),\n",
    "                 n_prio=len(prio_classes), n_tags=len(tag_classes)):\n",
    "        super().__init__()\n",
    "        self.encoder = AutoModel.from_pretrained(model_name)\n",
    "        if freeze_encoder:\n",
    "            for p in self.encoder.parameters():\n",
    "                p.requires_grad = False\n",
    "        hidden = self.encoder.config.hidden_size\n",
    "        self.dropout = nn.Dropout(dropout)\n",
    "        self.type_head = Head(hidden, n_type, p=0.2)\n",
    "        self.dept_head = Head(hidden, n_dept, p=0.2)\n",
    "        self.prio_head = Head(hidden, n_prio, p=0.2)\n",
    "        self.tags_head = Head(hidden, n_tags, p=0.2)\n",
    "\n",
    "    def forward(self, input_ids, attention_mask):\n",
    "        out = self.encoder(input_ids=input_ids, attention_mask=attention_mask)\n",
    "        hidden = out.last_hidden_state\n",
    "        # mean pooling with mask\n",
    "        mask = attention_mask.unsqueeze(-1).expand(hidden.size()).float()\n",
    "        summed = torch.sum(hidden * mask, 1)\n",
    "        counts = torch.clamp(mask.sum(1), min=1e-9)\n",
    "        pooled = summed / counts\n",
    "        pooled = self.dropout(pooled)\n",
    "        return {\n",
    "            \"type\": self.type_head(pooled),\n",
    "            \"department\": self.dept_head(pooled),\n",
    "            \"priority\": self.prio_head(pooled),\n",
    "            \"tags\": self.tags_head(pooled)\n",
    "        }\n",
    "\n",
    "model = MultiTaskModel(freeze_encoder=True).to(device)\n",
    "\n",
    "# ============================\n",
    "# 6) Losses & Optimizer \n",
    "# ============================\n",
    "# Class weights\n",
    "weights_type = compute_class_weight(\"balanced\", classes=np.arange(len(type_classes)), y=train_df[\"type\"].map(type2id))\n",
    "weights_dept = compute_class_weight(\"balanced\", classes=np.arange(len(dept_classes)), y=train_df[\"department\"].map(dept2id))\n",
    "weights_prio = compute_class_weight(\"balanced\", classes=np.arange(len(prio_classes)), y=train_df[\"priority\"].map(prio2id))\n",
    "\n",
    "criterion_type = nn.CrossEntropyLoss(weight=torch.tensor(weights_type, dtype=torch.float32).to(device))\n",
    "criterion_dept = nn.CrossEntropyLoss(weight=torch.tensor(weights_dept, dtype=torch.float32).to(device))\n",
    "criterion_prio = nn.CrossEntropyLoss(weight=torch.tensor(weights_prio, dtype=torch.float32).to(device))\n",
    "\n",
    "# pos_weight for tags (capped to avoid extremes)\n",
    "train_tags = mlb.transform(train_df[\"tags_list\"])\n",
    "pos = train_tags.sum(axis=0)\n",
    "neg = train_tags.shape[0] - pos\n",
    "pos_weight_raw = (neg / np.maximum(pos, 1))\n",
    "pos_weight = np.clip(pos_weight_raw, 1.0, 10.0)  # cap to [1,10]\n",
    "criterion_tags = nn.BCEWithLogitsLoss(pos_weight=torch.tensor(pos_weight, dtype=torch.float32).to(device))\n",
    "\n",
    "# Loss weights (downweight tags a bit)\n",
    "ALPHA, BETA, GAMMA, DELTA = 1.0, 1.0, 1.0, 1.2\n",
    "\n",
    "optimizer = torch.optim.AdamW(filter(lambda p: p.requires_grad, model.parameters()), lr=LR)\n",
    "\n",
    "# ============================\n",
    "# 7) Threshold tuning for tags (on val)\n",
    "# ============================\n",
    "def tune_tag_thresholds(Y_true, Y_prob, grid=np.linspace(0.1,0.9,9)):\n",
    "    # Y_true, Y_prob: [N, T]\n",
    "    T = Y_true.shape[1]\n",
    "    best = np.full(T, 0.5, dtype=np.float32)\n",
    "    for t in range(T):\n",
    "        yt = Y_true[:, t]\n",
    "        if yt.sum() == 0:\n",
    "            continue\n",
    "        yp = Y_prob[:, t]\n",
    "        best_f, best_thr = -1.0, 0.5\n",
    "        for thr in grid:\n",
    "            f1 = f1_score(yt, (yp >= thr).astype(int), zero_division=0)\n",
    "            if f1 > best_f:\n",
    "                best_f, best_thr = f1, thr\n",
    "        best[t] = best_thr\n",
    "    return best\n",
    "\n",
    "# ============================\n",
    "# 8) Training loop\n",
    "# ============================\n",
    "def run_epoch(loader, train=True):\n",
    "    model.train() if train else model.eval()\n",
    "    losses = []\n",
    "    preds, labels = {\"type\":[], \"department\":[], \"priority\":[], \"tags\":[]}, {\"type\":[], \"department\":[], \"priority\":[], \"tags\":[]}\n",
    "\n",
    "    for batch in tqdm(loader, leave=False):\n",
    "        input_ids = batch[\"input_ids\"].to(device)\n",
    "        attention_mask = batch[\"attention_mask\"].to(device)\n",
    "        y_type = batch[\"y_type\"].to(device)\n",
    "        y_dept = batch[\"y_dept\"].to(device)\n",
    "        y_prio = batch[\"y_prio\"].to(device)\n",
    "        y_tags = batch[\"y_tags\"].to(device)\n",
    "\n",
    "        with torch.set_grad_enabled(train):\n",
    "            out = model(input_ids, attention_mask)\n",
    "            loss = (\n",
    "                ALPHA * criterion_type(out[\"type\"], y_type) +\n",
    "                BETA  * criterion_dept(out[\"department\"], y_dept) +\n",
    "                GAMMA * criterion_prio(out[\"priority\"], y_prio) +\n",
    "                DELTA * criterion_tags(out[\"tags\"], y_tags)\n",
    "            )\n",
    "            if train:\n",
    "                optimizer.zero_grad()\n",
    "                loss.backward()\n",
    "                optimizer.step()\n",
    "\n",
    "        losses.append(loss.item())\n",
    "        # collect preds\n",
    "        preds[\"type\"].append(torch.argmax(out[\"type\"],1).detach().cpu().numpy()); labels[\"type\"].append(y_type.detach().cpu().numpy())\n",
    "        preds[\"department\"].append(torch.argmax(out[\"department\"],1).detach().cpu().numpy()); labels[\"department\"].append(y_dept.detach().cpu().numpy())\n",
    "        preds[\"priority\"].append(torch.argmax(out[\"priority\"],1).detach().cpu().numpy()); labels[\"priority\"].append(y_prio.detach().cpu().numpy())\n",
    "        preds[\"tags\"].append(torch.sigmoid(out[\"tags\"]).detach().cpu().numpy()); labels[\"tags\"].append(y_tags.detach().cpu().numpy())\n",
    "\n",
    "    for k in preds.keys():\n",
    "        preds[k] = np.concatenate(preds[k], axis=0)\n",
    "        labels[k] = np.concatenate(labels[k], axis=0)\n",
    "    return np.mean(losses), preds, labels\n",
    "\n",
    "best_f1, patience = -1, PATIENCE\n",
    "tag_thresholds = np.full(len(tag_classes), 0.5, dtype=np.float32)\n",
    "\n",
    "for epoch in range(1, EPOCHS+1):\n",
    "    tr_loss, tr_preds, tr_labels = run_epoch(train_loader, train=True)\n",
    "    va_loss, va_preds, va_labels = run_epoch(val_loader, train=False)\n",
    "\n",
    "    # per-task metrics\n",
    "    f1_type = f1_score(va_labels[\"type\"], va_preds[\"type\"], average=\"macro\")\n",
    "    f1_dept = f1_score(va_labels[\"department\"], va_preds[\"department\"], average=\"macro\")\n",
    "    f1_prio = f1_score(va_labels[\"priority\"], va_preds[\"priority\"], average=\"macro\")\n",
    "\n",
    "    # tune per-tag thresholds on val probs\n",
    "    tag_thresholds = tune_tag_thresholds(va_labels[\"tags\"], va_preds[\"tags\"])\n",
    "    va_bin = (va_preds[\"tags\"] >= tag_thresholds).astype(int)\n",
    "    f1_tags = f1_score(va_labels[\"tags\"], va_bin, average=\"micro\")\n",
    "\n",
    "    print(f\"Epoch {epoch} | train loss {tr_loss:.4f} | val loss {va_loss:.4f}\")\n",
    "    print(f\"   F1(type)={f1_type:.3f} | F1(dept)={f1_dept:.3f} | F1(prio)={f1_prio:.3f} | F1(tags)={f1_tags:.3f}\")\n",
    "\n",
    "    avg_f1 = (f1_type + f1_dept + f1_prio + f1_tags) / 4\n",
    "    if avg_f1 > best_f1:\n",
    "        best_f1 = avg_f1\n",
    "        torch.save({\n",
    "            \"model_state\": model.state_dict(),\n",
    "            \"tokenizer_name\": MODEL_NAME,\n",
    "            \"max_len\": MAX_LEN,\n",
    "            \"type_classes\": type_classes,\n",
    "            \"dept_classes\": dept_classes,\n",
    "            \"prio_classes\": prio_classes,\n",
    "            \"tag_classes\": list(tag_classes),\n",
    "            \"tag_thresholds\": tag_thresholds\n",
    "        }, \"multitask_best.pt\")\n",
    "        patience = PATIENCE\n",
    "    else:\n",
    "        patience -= 1\n",
    "        if patience < 0:\n",
    "            print(\"Early stopping.\")\n",
    "            break\n",
    "\n",
    "print(\"Training done. Best avg F1:\", best_f1)\n"
   ]
  }
 ],
 "metadata": {
  "kernelspec": {
   "display_name": "Python (PySpark)",
   "language": "python",
   "name": "pyspark"
  },
  "language_info": {
   "codemirror_mode": {
    "name": "ipython",
    "version": 3
   },
   "file_extension": ".py",
   "mimetype": "text/x-python",
   "name": "python",
   "nbconvert_exporter": "python",
   "pygments_lexer": "ipython3",
   "version": "3.11.5"
  }
 },
 "nbformat": 4,
 "nbformat_minor": 5
}

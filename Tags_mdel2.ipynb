{
 "cells": [
  {
   "cell_type": "code",
   "execution_count": null,
   "id": "59f0e049",
   "metadata": {},
   "outputs": [
    {
     "name": "stderr",
     "output_type": "stream",
     "text": [
      "c:\\Users\\chria\\Documents\\Deep Learning\\tickets-project\\.venv\\Lib\\site-packages\\tqdm\\auto.py:21: TqdmWarning: IProgress not found. Please update jupyter and ipywidgets. See https://ipywidgets.readthedocs.io/en/stable/user_install.html\n",
      "  from .autonotebook import tqdm as notebook_tqdm\n"
     ]
    }
   ],
   "source": [
    "import pandas as pd\n",
    "import numpy as np\n",
    "from collections import defaultdict, Counter\n",
    "from sklearn.model_selection import train_test_split\n",
    "from transformers import AutoTokenizer\n",
    "import matplotlib.pyplot as plt\n",
    "from sentence_transformers import SentenceTransformer\n",
    "from sklearn.cluster import KMeans\n",
    "from torch.utils.data import Dataset, DataLoader, Subset\n",
    "import torch\n",
    "import torch.nn as nn\n",
    "from transformers import AutoModel\n",
    "import os\n",
    "from tqdm import tqdm\n",
    "from sklearn.metrics import f1_score, precision_score, recall_score, silhouette_score, davies_bouldin_score, silhouette_samples\n",
    "from sklearn.preprocessing import LabelEncoder\n",
    "\n"
   ]
  },
  {
   "cell_type": "code",
   "execution_count": 2,
   "id": "c4fff963",
   "metadata": {},
   "outputs": [
    {
     "name": "stdout",
     "output_type": "stream",
     "text": [
      "(16337, 14)\n",
      "Index(['subject', 'body', 'answer', 'type', 'department', 'priority', 'tag_1',\n",
      "       'tag_2', 'tag_3', 'tag_4', 'tag_5', 'tag_6', 'tag_7', 'tag_8'],\n",
      "      dtype='object')\n"
     ]
    },
    {
     "data": {
      "text/html": [
       "<div>\n",
       "<style scoped>\n",
       "    .dataframe tbody tr th:only-of-type {\n",
       "        vertical-align: middle;\n",
       "    }\n",
       "\n",
       "    .dataframe tbody tr th {\n",
       "        vertical-align: top;\n",
       "    }\n",
       "\n",
       "    .dataframe thead th {\n",
       "        text-align: right;\n",
       "    }\n",
       "</style>\n",
       "<table border=\"1\" class=\"dataframe\">\n",
       "  <thead>\n",
       "    <tr style=\"text-align: right;\">\n",
       "      <th></th>\n",
       "      <th>subject</th>\n",
       "      <th>body</th>\n",
       "      <th>answer</th>\n",
       "      <th>type</th>\n",
       "      <th>department</th>\n",
       "      <th>priority</th>\n",
       "      <th>tag_1</th>\n",
       "      <th>tag_2</th>\n",
       "      <th>tag_3</th>\n",
       "      <th>tag_4</th>\n",
       "      <th>tag_5</th>\n",
       "      <th>tag_6</th>\n",
       "      <th>tag_7</th>\n",
       "      <th>tag_8</th>\n",
       "    </tr>\n",
       "  </thead>\n",
       "  <tbody>\n",
       "    <tr>\n",
       "      <th>0</th>\n",
       "      <td>Account Disruption</td>\n",
       "      <td>Dear Customer Support Team, I am writing to re...</td>\n",
       "      <td>Thank you for reaching out. We are aware of th...</td>\n",
       "      <td>Incident</td>\n",
       "      <td>Technical Support</td>\n",
       "      <td>High</td>\n",
       "      <td>Account</td>\n",
       "      <td>Disruption</td>\n",
       "      <td>Outage</td>\n",
       "      <td>Disruption</td>\n",
       "      <td>Outage</td>\n",
       "      <td>IT</td>\n",
       "      <td>Tech Support</td>\n",
       "      <td>NaN</td>\n",
       "    </tr>\n",
       "    <tr>\n",
       "      <th>1</th>\n",
       "      <td>Query About Smart Home System Integration Feat...</td>\n",
       "      <td>Dear Customer Support Team, I hope this messag...</td>\n",
       "      <td>Thank you for your inquiry. Our products suppo...</td>\n",
       "      <td>Request</td>\n",
       "      <td>Returns And Exchanges</td>\n",
       "      <td>Medium</td>\n",
       "      <td>Product</td>\n",
       "      <td>Feature</td>\n",
       "      <td>Tech Support</td>\n",
       "      <td>Feature</td>\n",
       "      <td>Tech Support</td>\n",
       "      <td>NaN</td>\n",
       "      <td>NaN</td>\n",
       "      <td>NaN</td>\n",
       "    </tr>\n",
       "    <tr>\n",
       "      <th>2</th>\n",
       "      <td>Inquiry Regarding Invoice Details</td>\n",
       "      <td>Dear Customer Support Team, I hope this messag...</td>\n",
       "      <td>We appreciate you reaching out with your billi...</td>\n",
       "      <td>Request</td>\n",
       "      <td>Billing And Payments</td>\n",
       "      <td>Low</td>\n",
       "      <td>Billing</td>\n",
       "      <td>Payment</td>\n",
       "      <td>Account</td>\n",
       "      <td>Payment</td>\n",
       "      <td>Account</td>\n",
       "      <td>Documentation</td>\n",
       "      <td>Feedback</td>\n",
       "      <td>NaN</td>\n",
       "    </tr>\n",
       "    <tr>\n",
       "      <th>3</th>\n",
       "      <td>Question About Marketing Agency Software Compa...</td>\n",
       "      <td>Dear Support Team, I hope this message reaches...</td>\n",
       "      <td>Thank you for your inquiry. Our product suppor...</td>\n",
       "      <td>Problem</td>\n",
       "      <td>Sales And Pre-Sales</td>\n",
       "      <td>Medium</td>\n",
       "      <td>Product</td>\n",
       "      <td>Feature</td>\n",
       "      <td>Feedback</td>\n",
       "      <td>Feature</td>\n",
       "      <td>Feedback</td>\n",
       "      <td>Tech Support</td>\n",
       "      <td>NaN</td>\n",
       "      <td>NaN</td>\n",
       "    </tr>\n",
       "    <tr>\n",
       "      <th>4</th>\n",
       "      <td>Feature Query</td>\n",
       "      <td>Dear Customer Support, I hope this message rea...</td>\n",
       "      <td>Thank you for your inquiry. Please specify whi...</td>\n",
       "      <td>Request</td>\n",
       "      <td>Technical Support</td>\n",
       "      <td>High</td>\n",
       "      <td>Feature</td>\n",
       "      <td>Product</td>\n",
       "      <td>Documentation</td>\n",
       "      <td>Product</td>\n",
       "      <td>Documentation</td>\n",
       "      <td>Feedback</td>\n",
       "      <td>NaN</td>\n",
       "      <td>NaN</td>\n",
       "    </tr>\n",
       "  </tbody>\n",
       "</table>\n",
       "</div>"
      ],
      "text/plain": [
       "                                             subject  \\\n",
       "0                                 Account Disruption   \n",
       "1  Query About Smart Home System Integration Feat...   \n",
       "2                  Inquiry Regarding Invoice Details   \n",
       "3  Question About Marketing Agency Software Compa...   \n",
       "4                                      Feature Query   \n",
       "\n",
       "                                                body  \\\n",
       "0  Dear Customer Support Team, I am writing to re...   \n",
       "1  Dear Customer Support Team, I hope this messag...   \n",
       "2  Dear Customer Support Team, I hope this messag...   \n",
       "3  Dear Support Team, I hope this message reaches...   \n",
       "4  Dear Customer Support, I hope this message rea...   \n",
       "\n",
       "                                              answer      type  \\\n",
       "0  Thank you for reaching out. We are aware of th...  Incident   \n",
       "1  Thank you for your inquiry. Our products suppo...   Request   \n",
       "2  We appreciate you reaching out with your billi...   Request   \n",
       "3  Thank you for your inquiry. Our product suppor...   Problem   \n",
       "4  Thank you for your inquiry. Please specify whi...   Request   \n",
       "\n",
       "              department priority    tag_1       tag_2          tag_3  \\\n",
       "0      Technical Support     High  Account  Disruption         Outage   \n",
       "1  Returns And Exchanges   Medium  Product     Feature   Tech Support   \n",
       "2   Billing And Payments      Low  Billing     Payment        Account   \n",
       "3    Sales And Pre-Sales   Medium  Product     Feature       Feedback   \n",
       "4      Technical Support     High  Feature     Product  Documentation   \n",
       "\n",
       "        tag_4          tag_5          tag_6         tag_7 tag_8  \n",
       "0  Disruption         Outage             IT  Tech Support   NaN  \n",
       "1     Feature   Tech Support            NaN           NaN   NaN  \n",
       "2     Payment        Account  Documentation      Feedback   NaN  \n",
       "3     Feature       Feedback   Tech Support           NaN   NaN  \n",
       "4     Product  Documentation       Feedback           NaN   NaN  "
      ]
     },
     "execution_count": 2,
     "metadata": {},
     "output_type": "execute_result"
    }
   ],
   "source": [
    "df = pd.read_csv(\"Cleaned_Tickets.csv\")\n",
    "print(df.shape)\n",
    "print(df.columns)\n",
    "df.head()"
   ]
  },
  {
   "cell_type": "code",
   "execution_count": 3,
   "id": "f4b3042a",
   "metadata": {},
   "outputs": [
    {
     "name": "stdout",
     "output_type": "stream",
     "text": [
      "subject           0\n",
      "body              0\n",
      "answer            3\n",
      "type              0\n",
      "department        0\n",
      "priority          0\n",
      "tag_1             0\n",
      "tag_2             0\n",
      "tag_3             0\n",
      "tag_4          2556\n",
      "tag_5          2603\n",
      "tag_6          3988\n",
      "tag_7          9317\n",
      "tag_8         13637\n",
      "dtype: int64\n"
     ]
    }
   ],
   "source": [
    "print(df.isnull().sum())"
   ]
  },
  {
   "cell_type": "code",
   "execution_count": 4,
   "id": "28713551",
   "metadata": {},
   "outputs": [],
   "source": [
    "tag_columns  = [\"tag_1\", \"tag_2\", \"tag_3\"]\n",
    "df[\"text\"] = df[\"subject\"].fillna(\"\") + \" \" + df[\"body\"].fillna(\"\")"
   ]
  },
  {
   "cell_type": "code",
   "execution_count": 5,
   "id": "cfce7a7f",
   "metadata": {},
   "outputs": [],
   "source": [
    "# Flatten all tag columns into one list\n",
    "all_tags = df[tag_columns].values.flatten()\n",
    "all_tags = [tag for tag in all_tags if pd.notnull(tag)]\n",
    "unique_tags = sorted(set(all_tags))\n",
    "\n",
    "tag_counter = Counter(all_tags)\n"
   ]
  },
  {
   "cell_type": "code",
   "execution_count": 6,
   "id": "468b84b9",
   "metadata": {},
   "outputs": [
    {
     "data": {
      "text/html": [
       "<div>\n",
       "<style scoped>\n",
       "    .dataframe tbody tr th:only-of-type {\n",
       "        vertical-align: middle;\n",
       "    }\n",
       "\n",
       "    .dataframe tbody tr th {\n",
       "        vertical-align: top;\n",
       "    }\n",
       "\n",
       "    .dataframe thead th {\n",
       "        text-align: right;\n",
       "    }\n",
       "</style>\n",
       "<table border=\"1\" class=\"dataframe\">\n",
       "  <thead>\n",
       "    <tr style=\"text-align: right;\">\n",
       "      <th></th>\n",
       "      <th>tag</th>\n",
       "      <th>count</th>\n",
       "    </tr>\n",
       "  </thead>\n",
       "  <tbody>\n",
       "    <tr>\n",
       "      <th>0</th>\n",
       "      <td>Performance</td>\n",
       "      <td>6607</td>\n",
       "    </tr>\n",
       "    <tr>\n",
       "      <th>1</th>\n",
       "      <td>IT</td>\n",
       "      <td>5153</td>\n",
       "    </tr>\n",
       "    <tr>\n",
       "      <th>2</th>\n",
       "      <td>Feedback</td>\n",
       "      <td>3903</td>\n",
       "    </tr>\n",
       "    <tr>\n",
       "      <th>3</th>\n",
       "      <td>Security</td>\n",
       "      <td>3677</td>\n",
       "    </tr>\n",
       "    <tr>\n",
       "      <th>4</th>\n",
       "      <td>Bug</td>\n",
       "      <td>3649</td>\n",
       "    </tr>\n",
       "    <tr>\n",
       "      <th>5</th>\n",
       "      <td>Feature</td>\n",
       "      <td>3162</td>\n",
       "    </tr>\n",
       "    <tr>\n",
       "      <th>6</th>\n",
       "      <td>Disruption</td>\n",
       "      <td>2430</td>\n",
       "    </tr>\n",
       "    <tr>\n",
       "      <th>7</th>\n",
       "      <td>Documentation</td>\n",
       "      <td>2342</td>\n",
       "    </tr>\n",
       "    <tr>\n",
       "      <th>8</th>\n",
       "      <td>Outage</td>\n",
       "      <td>2222</td>\n",
       "    </tr>\n",
       "    <tr>\n",
       "      <th>9</th>\n",
       "      <td>Network</td>\n",
       "      <td>2003</td>\n",
       "    </tr>\n",
       "  </tbody>\n",
       "</table>\n",
       "</div>"
      ],
      "text/plain": [
       "             tag  count\n",
       "0    Performance   6607\n",
       "1             IT   5153\n",
       "2       Feedback   3903\n",
       "3       Security   3677\n",
       "4            Bug   3649\n",
       "5        Feature   3162\n",
       "6     Disruption   2430\n",
       "7  Documentation   2342\n",
       "8         Outage   2222\n",
       "9        Network   2003"
      ]
     },
     "execution_count": 6,
     "metadata": {},
     "output_type": "execute_result"
    }
   ],
   "source": [
    "tag_freq_df = pd.DataFrame.from_dict(tag_counter, orient=\"index\", columns=[\"count\"])\n",
    "tag_freq_df = tag_freq_df.sort_values(\"count\", ascending=False)\n",
    "tag_freq_df.reset_index(inplace=True)\n",
    "tag_freq_df.columns = [\"tag\", \"count\"]\n",
    "\n",
    "tag_freq_df.head(10)"
   ]
  },
  {
   "cell_type": "code",
   "execution_count": 7,
   "id": "1851a33e",
   "metadata": {},
   "outputs": [
    {
     "name": "stdout",
     "output_type": "stream",
     "text": [
      "Total unique tags: 367\n",
      "Tags appearing only once: 139\n",
      "Tags appearing <= 5 times: 242\n",
      "Tags appearing >= 100 times: 37\n"
     ]
    }
   ],
   "source": [
    "print(f\"Total unique tags: {len(tag_freq_df)}\")\n",
    "print(f\"Tags appearing only once: {(tag_freq_df['count'] == 1).sum()}\")\n",
    "print(f\"Tags appearing <= 5 times: {(tag_freq_df['count'] <= 5).sum()}\")\n",
    "print(f\"Tags appearing >= 100 times: {(tag_freq_df['count'] >= 100).sum()}\")"
   ]
  },
  {
   "cell_type": "code",
   "execution_count": 8,
   "id": "63a14c55",
   "metadata": {},
   "outputs": [
    {
     "data": {
      "image/png": "[encoded data removed]",
      "text/plain": [
       "<Figure size 1000x500 with 1 Axes>"
      ]
     },
     "metadata": {},
     "output_type": "display_data"
    }
   ],
   "source": [
    "plt.figure(figsize=(10, 5))\n",
    "plt.hist(tag_freq_df[\"count\"], bins=50, log=True)\n",
    "plt.title(\"Tag Frequency Distribution (log scale)\")\n",
    "plt.xlabel(\"Number of occurrences\")\n",
    "plt.ylabel(\"Number of tags\")\n",
    "plt.show()"
   ]
  },
  {
   "cell_type": "code",
   "execution_count": 9,
   "id": "d02a1a33",
   "metadata": {},
   "outputs": [
    {
     "data": {
      "image/png": "[encoded data removed]",
      "text/plain": [
       "<Figure size 1200x600 with 1 Axes>"
      ]
     },
     "metadata": {},
     "output_type": "display_data"
    }
   ],
   "source": [
    "top_n = 20\n",
    "\n",
    "plt.figure(figsize=(12, 6))\n",
    "plt.barh(tag_freq_df[\"tag\"][:top_n][::-1], tag_freq_df[\"count\"][:top_n][::-1])\n",
    "plt.title(f\"Top {top_n} Most Frequent Tags\")\n",
    "plt.xlabel(\"Occurrences\")\n",
    "plt.show()"
   ]
  },
  {
   "cell_type": "code",
   "execution_count": 10,
   "id": "4b46166f",
   "metadata": {},
   "outputs": [
    {
     "name": "stderr",
     "output_type": "stream",
     "text": [
      "Batches:   0%|          | 0/12 [00:00<?, ?it/s]c:\\Users\\chria\\Documents\\Deep Learning\\tickets-project\\.venv\\Lib\\site-packages\\torch\\nn\\modules\\module.py:1747: FutureWarning: `encoder_attention_mask` is deprecated and will be removed in version 4.55.0 for `BertSdpaSelfAttention.forward`.\n",
      "  return forward_call(*args, **kwargs)\n",
      "Batches: 100%|██████████| 12/12 [00:00<00:00, 47.02it/s]\n"
     ]
    }
   ],
   "source": [
    "# Embed tags using sentence-transformers\n",
    "model = SentenceTransformer(\"all-MiniLM-L6-v2\")\n",
    "\n",
    "tag_embeddings = model.encode(unique_tags, show_progress_bar=True)"
   ]
  },
  {
   "cell_type": "code",
   "execution_count": 11,
   "id": "a0d107d9",
   "metadata": {},
   "outputs": [],
   "source": [
    "# Cluster tags with KMeans\n",
    "n_clusters = 15\n",
    "kmeans = KMeans(n_clusters=n_clusters, random_state=42)\n",
    "cluster_ids = kmeans.fit_predict(tag_embeddings)"
   ]
  },
  {
   "cell_type": "code",
   "execution_count": 12,
   "id": "3f4efd54",
   "metadata": {},
   "outputs": [],
   "source": [
    "# Create tag_to_cluster mapping\n",
    "tag_to_cluster = {tag: f\"Cluster_{cid}\" for tag, cid in zip(unique_tags, cluster_ids)}\n",
    "\n",
    "# Reverse mapping\n",
    "cluster_to_tags = defaultdict(list)\n",
    "for tag, cluster in tag_to_cluster.items():\n",
    "    cluster_to_tags[cluster].append(tag)\n"
   ]
  },
  {
   "cell_type": "code",
   "execution_count": 117,
   "id": "cb976459",
   "metadata": {},
   "outputs": [],
   "source": [
    "# Create cluster ID mappings\n",
    "cluster_list = sorted(cluster_to_tags.keys())\n",
    "cluster2id = {cluster: i for i, cluster in enumerate(cluster_list)}\n",
    "id2cluster = {i: cluster for cluster, i in cluster2id.items()}\n",
    "\n",
    "# Create tag ID mappings (filtered to tags in tag_to_cluster only)\n",
    "tag_list = sorted(tag_to_cluster.keys())\n",
    "tag2id = {tag: i for i, tag in enumerate(tag_list)}\n",
    "id2tag = {i: tag for tag, i in tag2id.items()}\n",
    "\n",
    "global_tag2id = tag2id.copy()\n",
    "global_id2tag = id2tag.copy()"
   ]
  },
  {
   "cell_type": "code",
   "execution_count": 14,
   "id": "d54277ad",
   "metadata": {},
   "outputs": [],
   "source": [
    "def encode_clusters(row):\n",
    "    tags = [row[col] for col in tag_columns if pd.notnull(row[col])]\n",
    "    clusters = set(tag_to_cluster[t] for t in tags if t in tag_to_cluster)\n",
    "    vec = np.zeros(len(cluster2id), dtype=np.float32)\n",
    "    for c in clusters:\n",
    "        vec[cluster2id[c]] = 1.0\n",
    "    return vec\n",
    "\n",
    "def encode_tags(row):\n",
    "    tags = [row[col] for col in tag_columns if pd.notnull(row[col])]\n",
    "    vec = np.zeros(len(tag2id), dtype=np.float32)\n",
    "    for t in tags:\n",
    "        if t in tag2id:\n",
    "            vec[tag2id[t]] = 1.0\n",
    "    return vec"
   ]
  },
  {
   "cell_type": "code",
   "execution_count": 15,
   "id": "9eca8ef1",
   "metadata": {},
   "outputs": [],
   "source": [
    "df[\"cluster_vector\"] = df.apply(encode_clusters, axis=1)\n",
    "df[\"tag_vector\"] = df.apply(encode_tags, axis=1)"
   ]
  },
  {
   "cell_type": "code",
   "execution_count": 16,
   "id": "875c7031",
   "metadata": {},
   "outputs": [
    {
     "name": "stdout",
     "output_type": "stream",
     "text": [
      "Silhouette Score (overall): 0.0591\n",
      "Davies–Bouldin Index: 3.0944\n",
      "    Cluster ID  Size  Mean Silhouette\n",
      "4            4    46         0.001731\n",
      "12          12    51         0.001940\n",
      "7            7    49         0.003358\n",
      "6            6    37         0.019771\n",
      "0            0    26         0.044749\n",
      "8            8    20         0.058097\n",
      "3            3    18         0.075430\n",
      "5            5    15         0.079574\n",
      "10          10    19         0.094758\n",
      "9            9    19         0.095636\n"
     ]
    },
    {
     "data": {
      "image/png": "[encoded data removed]",
      "text/plain": [
       "<Figure size 1000x500 with 1 Axes>"
      ]
     },
     "metadata": {},
     "output_type": "display_data"
    }
   ],
   "source": [
    "# Clustering Metrics\n",
    "cluster_ids_str = [tag_to_cluster[tag] for tag in unique_tags]\n",
    "\n",
    "X = np.vstack(tag_embeddings)\n",
    "y = LabelEncoder().fit_transform(cluster_ids_str)\n",
    "\n",
    "sil_score = silhouette_score(X, y)\n",
    "db_index = davies_bouldin_score(X, y)\n",
    "\n",
    "print(f\"Silhouette Score (overall): {sil_score:.4f}\")\n",
    "print(f\"Davies–Bouldin Index: {db_index:.4f}\")\n",
    "\n",
    "# Per-cluster silhouette scores\n",
    "silhouette_vals = silhouette_samples(X, y)\n",
    "\n",
    "cluster_metrics = []\n",
    "for cluster_id in np.unique(y):\n",
    "    mask = y == cluster_id\n",
    "    size = np.sum(mask)\n",
    "    mean_sil = silhouette_vals[mask].mean()\n",
    "    cluster_metrics.append({\n",
    "        \"Cluster ID\": cluster_id,\n",
    "        \"Size\": size,\n",
    "        \"Mean Silhouette\": mean_sil\n",
    "    })\n",
    "\n",
    "cluster_metrics_df = pd.DataFrame(cluster_metrics).sort_values(by=\"Mean Silhouette\")\n",
    "print(cluster_metrics_df.head(10))\n",
    "\n",
    "# Mean silhouette per cluster plot\n",
    "plt.figure(figsize=(10, 5))\n",
    "plt.bar(cluster_metrics_df[\"Cluster ID\"], cluster_metrics_df[\"Mean Silhouette\"])\n",
    "plt.xlabel(\"Cluster ID\")\n",
    "plt.ylabel(\"Mean Silhouette Score\")\n",
    "plt.title(f\"Mean Silhouette Score per Cluster (k = {n_clusters})\")\n",
    "plt.grid(True)\n",
    "plt.tight_layout()\n",
    "plt.show()"
   ]
  },
  {
   "cell_type": "code",
   "execution_count": 17,
   "id": "3a911037",
   "metadata": {},
   "outputs": [
    {
     "data": {
      "image/png": "[encoded data removed]",
      "text/plain": [
       "<Figure size 640x480 with 1 Axes>"
      ]
     },
     "metadata": {},
     "output_type": "display_data"
    }
   ],
   "source": [
    "# Elbow method\n",
    "sse = []\n",
    "K = range(2, 40)\n",
    "\n",
    "for k in K:\n",
    "    kmeans = KMeans(n_clusters=k, random_state=42)\n",
    "    kmeans.fit(X)\n",
    "    sse.append(kmeans.inertia_)\n",
    "\n",
    "plt.plot(K, sse, marker='o')\n",
    "plt.xlabel(\"Number of Clusters (k)\")\n",
    "plt.ylabel(\"Inertia (SSE)\")\n",
    "plt.title(\"Elbow Method for Optimal k\")\n",
    "plt.grid(True)\n",
    "plt.tight_layout()\n",
    "plt.show()"
   ]
  },
  {
   "cell_type": "code",
   "execution_count": 18,
   "id": "697b2979",
   "metadata": {},
   "outputs": [
    {
     "name": "stdout",
     "output_type": "stream",
     "text": [
      "Train: 13069, Val: 1634, Test: 1634\n"
     ]
    }
   ],
   "source": [
    "# Training-Validation-Test split\n",
    "train_df, temp_df = train_test_split(df, test_size=0.2, random_state=42)\n",
    "val_df, test_df = train_test_split(temp_df, test_size=0.5, random_state=42)\n",
    "\n",
    "print(f\"Train: {len(train_df)}, Val: {len(val_df)}, Test: {len(test_df)}\")"
   ]
  },
  {
   "cell_type": "code",
   "execution_count": 19,
   "id": "22b83682",
   "metadata": {},
   "outputs": [],
   "source": [
    "tokenizer = AutoTokenizer.from_pretrained(\"bert-base-cased\")\n",
    "\n",
    "def tokenize_texts(text_list):\n",
    "    return tokenizer(\n",
    "        text_list,\n",
    "        padding=True,\n",
    "        truncation=True,\n",
    "        max_length=512,\n",
    "        return_tensors=\"pt\"\n",
    "    )"
   ]
  },
  {
   "cell_type": "code",
   "execution_count": 20,
   "id": "d490a6e3",
   "metadata": {},
   "outputs": [],
   "source": [
    "train_enc = tokenize_texts(train_df[\"text\"].tolist())\n",
    "val_enc   = tokenize_texts(val_df[\"text\"].tolist())\n",
    "test_enc  = tokenize_texts(test_df[\"text\"].tolist())"
   ]
  },
  {
   "cell_type": "code",
   "execution_count": 21,
   "id": "509a4667",
   "metadata": {},
   "outputs": [],
   "source": [
    "class ClusterDataset(Dataset):\n",
    "    def __init__(self, encodings, cluster_vectors):\n",
    "        self.encodings = encodings\n",
    "        self.cluster_vectors = cluster_vectors\n",
    "\n",
    "    def __len__(self):\n",
    "        return len(self.cluster_vectors)\n",
    "\n",
    "    def __getitem__(self, idx):\n",
    "        return {\n",
    "            \"input_ids\": self.encodings[\"input_ids\"][idx],\n",
    "            \"attention_mask\": self.encodings[\"attention_mask\"][idx],\n",
    "            \"labels\": torch.tensor(self.cluster_vectors[idx], dtype=torch.float32)\n",
    "        }"
   ]
  },
  {
   "cell_type": "code",
   "execution_count": 22,
   "id": "8351bf78",
   "metadata": {},
   "outputs": [],
   "source": [
    "class TagDataset(Dataset):\n",
    "    def __init__(self, encodings, tag_vectors):\n",
    "        self.encodings = encodings\n",
    "        self.tag_vectors = tag_vectors\n",
    "\n",
    "    def __len__(self):\n",
    "        return len(self.tag_vectors)\n",
    "\n",
    "    def __getitem__(self, idx):\n",
    "        return {\n",
    "            \"input_ids\": self.encodings[\"input_ids\"][idx],\n",
    "            \"attention_mask\": self.encodings[\"attention_mask\"][idx],\n",
    "            \"labels\": torch.tensor(self.tag_vectors[idx], dtype=torch.float32)\n",
    "        }"
   ]
  },
  {
   "cell_type": "code",
   "execution_count": 23,
   "id": "48e6d2c3",
   "metadata": {},
   "outputs": [],
   "source": [
    "train_cluster_ds = ClusterDataset(train_enc, train_df[\"cluster_vector\"].tolist())\n",
    "val_cluster_ds   = ClusterDataset(val_enc,   val_df[\"cluster_vector\"].tolist())\n",
    "test_cluster_ds  = ClusterDataset(test_enc,  test_df[\"cluster_vector\"].tolist())"
   ]
  },
  {
   "cell_type": "code",
   "execution_count": 24,
   "id": "cd4721b6",
   "metadata": {},
   "outputs": [],
   "source": [
    "train_cluster_loader = DataLoader(train_cluster_ds, batch_size=16, shuffle=True)\n",
    "val_cluster_loader   = DataLoader(val_cluster_ds, batch_size=16)\n",
    "test_cluster_loader  = DataLoader(test_cluster_ds, batch_size=16)"
   ]
  },
  {
   "cell_type": "code",
   "execution_count": 25,
   "id": "e8c0866e",
   "metadata": {},
   "outputs": [],
   "source": [
    "class ClusterClassifier(nn.Module):\n",
    "    def __init__(self, num_clusters):\n",
    "        super().__init__()\n",
    "        self.bert = AutoModel.from_pretrained(\"bert-base-cased\")\n",
    "        self.dropout1 = nn.Dropout(0.3)\n",
    "        self.hidden = nn.Linear(self.bert.config.hidden_size, 256)\n",
    "        self.relu = nn.ReLU()\n",
    "        self.dropout2 = nn.Dropout(0.3)\n",
    "        self.classifier = nn.Linear(256, num_clusters)\n",
    "\n",
    "    def forward(self, input_ids, attention_mask):\n",
    "        outputs = self.bert(input_ids=input_ids, attention_mask=attention_mask)\n",
    "        pooled_output = outputs.pooler_output  # shape: [batch_size, 768]\n",
    "        \n",
    "        x = self.dropout1(pooled_output)\n",
    "        x = self.hidden(x)         # shape: [batch_size, 256]\n",
    "        x = self.relu(x)\n",
    "        x = self.dropout2(x)\n",
    "        logits = self.classifier(x)  # shape: [batch_size, num_clusters]\n",
    "        return logits"
   ]
  },
  {
   "cell_type": "code",
   "execution_count": 26,
   "id": "6c26f6b4",
   "metadata": {},
   "outputs": [],
   "source": [
    "device = torch.device(\"cuda\" if torch.cuda.is_available() else \"cpu\")\n"
   ]
  },
  {
   "cell_type": "code",
   "execution_count": 27,
   "id": "2ebf54e0",
   "metadata": {},
   "outputs": [],
   "source": [
    "def train_stage1_with_early_stopping(\n",
    "    model,\n",
    "    train_loader,\n",
    "    val_loader,\n",
    "    optimizer,\n",
    "    criterion,\n",
    "    device,\n",
    "    num_epochs=10,\n",
    "    patience=3,\n",
    "    save_path=\"best_stage1.pt\"\n",
    "):\n",
    "    model.to(device)\n",
    "    best_val_loss = float(\"inf\")\n",
    "    epochs_no_improve = 0\n",
    "    history = {\"train_loss\": [], \"val_loss\": []}\n",
    "\n",
    "    for epoch in range(1, num_epochs + 1):\n",
    "        model.train()\n",
    "        train_loss = 0\n",
    "\n",
    "        for batch in tqdm(train_loader, desc=f\"Epoch {epoch} - Training\"):\n",
    "            input_ids = batch[\"input_ids\"].to(device)\n",
    "            attention_mask = batch[\"attention_mask\"].to(device)\n",
    "            labels = batch[\"labels\"].to(device)\n",
    "\n",
    "            optimizer.zero_grad()\n",
    "            logits = model(input_ids, attention_mask)\n",
    "            loss = criterion(logits, labels)\n",
    "            loss.backward()\n",
    "            optimizer.step()\n",
    "\n",
    "            train_loss += loss.item()\n",
    "\n",
    "        avg_train_loss = train_loss / len(train_loader)\n",
    "\n",
    "        model.eval()\n",
    "        val_loss = 0\n",
    "        with torch.no_grad():\n",
    "            for batch in val_loader:\n",
    "                input_ids = batch[\"input_ids\"].to(device)\n",
    "                attention_mask = batch[\"attention_mask\"].to(device)\n",
    "                labels = batch[\"labels\"].to(device)\n",
    "\n",
    "                logits = model(input_ids, attention_mask)\n",
    "                loss = criterion(logits, labels)\n",
    "                val_loss += loss.item()\n",
    "\n",
    "        avg_val_loss = val_loss / len(val_loader)\n",
    "\n",
    "        # Store loss per epoch\n",
    "        history[\"train_loss\"].append(avg_train_loss)\n",
    "        history[\"val_loss\"].append(avg_val_loss)\n",
    "\n",
    "        print(f\"Epoch {epoch} - Train Loss: {avg_train_loss:.4f} - Val Loss: {avg_val_loss:.4f}\")\n",
    "\n",
    "        if avg_val_loss < best_val_loss:\n",
    "            print(\"New best model! Saving...\")\n",
    "            best_val_loss = avg_val_loss\n",
    "            torch.save(model.state_dict(), save_path)\n",
    "            epochs_no_improve = 0\n",
    "        else:\n",
    "            epochs_no_improve += 1\n",
    "            print(f\"No improvement for {epochs_no_improve} epoch(s).\")\n",
    "\n",
    "        if epochs_no_improve >= patience:\n",
    "            print(\"Early stopping triggered.\")\n",
    "            break\n",
    "\n",
    "    print(f\"Training complete. Best val loss: {best_val_loss:.4f}\")\n",
    "    return history\n",
    "\n"
   ]
  },
  {
   "cell_type": "code",
   "execution_count": 28,
   "id": "16b73a25",
   "metadata": {},
   "outputs": [
    {
     "name": "stderr",
     "output_type": "stream",
     "text": [
      "Epoch 1 - Training:   0%|          | 0/817 [00:00<?, ?it/s]c:\\Users\\chria\\Documents\\Deep Learning\\tickets-project\\.venv\\Lib\\site-packages\\torch\\nn\\modules\\module.py:1747: FutureWarning: `encoder_attention_mask` is deprecated and will be removed in version 4.55.0 for `BertSdpaSelfAttention.forward`.\n",
      "  return forward_call(*args, **kwargs)\n",
      "Epoch 1 - Training: 100%|██████████| 817/817 [01:00<00:00, 13.59it/s]\n"
     ]
    },
    {
     "name": "stdout",
     "output_type": "stream",
     "text": [
      "Epoch 1 - Train Loss: 0.2383 - Val Loss: 0.1548\n",
      "New best model! Saving...\n"
     ]
    },
    {
     "name": "stderr",
     "output_type": "stream",
     "text": [
      "Epoch 2 - Training: 100%|██████████| 817/817 [00:59<00:00, 13.66it/s]\n"
     ]
    },
    {
     "name": "stdout",
     "output_type": "stream",
     "text": [
      "Epoch 2 - Train Loss: 0.1513 - Val Loss: 0.1348\n",
      "New best model! Saving...\n"
     ]
    },
    {
     "name": "stderr",
     "output_type": "stream",
     "text": [
      "Epoch 3 - Training: 100%|██████████| 817/817 [00:59<00:00, 13.68it/s]\n"
     ]
    },
    {
     "name": "stdout",
     "output_type": "stream",
     "text": [
      "Epoch 3 - Train Loss: 0.1305 - Val Loss: 0.1237\n",
      "New best model! Saving...\n"
     ]
    },
    {
     "name": "stderr",
     "output_type": "stream",
     "text": [
      "Epoch 4 - Training: 100%|██████████| 817/817 [00:59<00:00, 13.68it/s]\n"
     ]
    },
    {
     "name": "stdout",
     "output_type": "stream",
     "text": [
      "Epoch 4 - Train Loss: 0.1119 - Val Loss: 0.1218\n",
      "New best model! Saving...\n"
     ]
    },
    {
     "name": "stderr",
     "output_type": "stream",
     "text": [
      "Epoch 5 - Training: 100%|██████████| 817/817 [01:00<00:00, 13.59it/s]\n"
     ]
    },
    {
     "name": "stdout",
     "output_type": "stream",
     "text": [
      "Epoch 5 - Train Loss: 0.0969 - Val Loss: 0.1205\n",
      "New best model! Saving...\n"
     ]
    },
    {
     "name": "stderr",
     "output_type": "stream",
     "text": [
      "Epoch 6 - Training: 100%|██████████| 817/817 [01:01<00:00, 13.32it/s]\n"
     ]
    },
    {
     "name": "stdout",
     "output_type": "stream",
     "text": [
      "Epoch 6 - Train Loss: 0.0821 - Val Loss: 0.1250\n",
      "No improvement for 1 epoch(s).\n"
     ]
    },
    {
     "name": "stderr",
     "output_type": "stream",
     "text": [
      "Epoch 7 - Training: 100%|██████████| 817/817 [01:00<00:00, 13.52it/s]\n"
     ]
    },
    {
     "name": "stdout",
     "output_type": "stream",
     "text": [
      "Epoch 7 - Train Loss: 0.0699 - Val Loss: 0.1315\n",
      "No improvement for 2 epoch(s).\n"
     ]
    },
    {
     "name": "stderr",
     "output_type": "stream",
     "text": [
      "Epoch 8 - Training: 100%|██████████| 817/817 [01:00<00:00, 13.49it/s]\n"
     ]
    },
    {
     "name": "stdout",
     "output_type": "stream",
     "text": [
      "Epoch 8 - Train Loss: 0.0611 - Val Loss: 0.1336\n",
      "No improvement for 3 epoch(s).\n",
      "Early stopping triggered.\n",
      "Training complete. Best val loss: 0.1205\n"
     ]
    }
   ],
   "source": [
    "model = ClusterClassifier(num_clusters=len(cluster2id))\n",
    "optimizer = torch.optim.AdamW(model.parameters(), lr=2e-5)\n",
    "criterion = torch.nn.BCEWithLogitsLoss()\n",
    "\n",
    "history = train_stage1_with_early_stopping(\n",
    "    model=model,\n",
    "    train_loader=train_cluster_loader,\n",
    "    val_loader=val_cluster_loader,\n",
    "    optimizer=optimizer,\n",
    "    criterion=criterion,\n",
    "    device=device,\n",
    "    num_epochs=10,\n",
    "    patience=3,\n",
    "    save_path=\"best_stage1.pt\"\n",
    ")"
   ]
  },
  {
   "cell_type": "code",
   "execution_count": 29,
   "id": "f30deb70",
   "metadata": {},
   "outputs": [
    {
     "data": {
      "image/png": "[encoded data removed]",
      "text/plain": [
       "<Figure size 800x500 with 1 Axes>"
      ]
     },
     "metadata": {},
     "output_type": "display_data"
    }
   ],
   "source": [
    "# Plot the loss curves\n",
    "epochs = list(range(1, len(history[\"train_loss\"]) + 1))\n",
    "\n",
    "plt.figure(figsize=(8, 5))\n",
    "plt.plot(epochs, history[\"train_loss\"], label=\"Train Loss\", marker='o')\n",
    "plt.plot(epochs, history[\"val_loss\"], label=\"Val Loss\", marker='s')\n",
    "plt.xlabel(\"Epoch\")\n",
    "plt.ylabel(\"Loss\")\n",
    "plt.title(\"Stage 1: Training vs Validation Loss\")\n",
    "plt.xticks(epochs)\n",
    "plt.legend()\n",
    "plt.grid(True)\n",
    "plt.tight_layout()\n",
    "plt.show()"
   ]
  },
  {
   "cell_type": "code",
   "execution_count": 30,
   "id": "7304f31a",
   "metadata": {},
   "outputs": [
    {
     "name": "stderr",
     "output_type": "stream",
     "text": [
      "C:\\Users\\chria\\AppData\\Local\\Temp\\ipykernel_17604\\1686579958.py:1: FutureWarning: You are using `torch.load` with `weights_only=False` (the current default value), which uses the default pickle module implicitly. It is possible to construct malicious pickle data which will execute arbitrary code during unpickling (See https://github.com/pytorch/pytorch/blob/main/SECURITY.md#untrusted-models for more details). In a future release, the default value for `weights_only` will be flipped to `True`. This limits the functions that could be executed during unpickling. Arbitrary objects will no longer be allowed to be loaded via this mode unless they are explicitly allowlisted by the user via `torch.serialization.add_safe_globals`. We recommend you start setting `weights_only=True` for any use case where you don't have full control of the loaded file. Please open an issue on GitHub for any issues related to this experimental feature.\n",
      "  model.load_state_dict(torch.load(\"best_stage1.pt\"))\n"
     ]
    },
    {
     "data": {
      "text/plain": [
       "ClusterClassifier(\n",
       "  (bert): BertModel(\n",
       "    (embeddings): BertEmbeddings(\n",
       "      (word_embeddings): Embedding(28996, 768, padding_idx=0)\n",
       "      (position_embeddings): Embedding(512, 768)\n",
       "      (token_type_embeddings): Embedding(2, 768)\n",
       "      (LayerNorm): LayerNorm((768,), eps=1e-12, elementwise_affine=True)\n",
       "      (dropout): Dropout(p=0.1, inplace=False)\n",
       "    )\n",
       "    (encoder): BertEncoder(\n",
       "      (layer): ModuleList(\n",
       "        (0-11): 12 x BertLayer(\n",
       "          (attention): BertAttention(\n",
       "            (self): BertSdpaSelfAttention(\n",
       "              (query): Linear(in_features=768, out_features=768, bias=True)\n",
       "              (key): Linear(in_features=768, out_features=768, bias=True)\n",
       "              (value): Linear(in_features=768, out_features=768, bias=True)\n",
       "              (dropout): Dropout(p=0.1, inplace=False)\n",
       "            )\n",
       "            (output): BertSelfOutput(\n",
       "              (dense): Linear(in_features=768, out_features=768, bias=True)\n",
       "              (LayerNorm): LayerNorm((768,), eps=1e-12, elementwise_affine=True)\n",
       "              (dropout): Dropout(p=0.1, inplace=False)\n",
       "            )\n",
       "          )\n",
       "          (intermediate): BertIntermediate(\n",
       "            (dense): Linear(in_features=768, out_features=3072, bias=True)\n",
       "            (intermediate_act_fn): GELUActivation()\n",
       "          )\n",
       "          (output): BertOutput(\n",
       "            (dense): Linear(in_features=3072, out_features=768, bias=True)\n",
       "            (LayerNorm): LayerNorm((768,), eps=1e-12, elementwise_affine=True)\n",
       "            (dropout): Dropout(p=0.1, inplace=False)\n",
       "          )\n",
       "        )\n",
       "      )\n",
       "    )\n",
       "    (pooler): BertPooler(\n",
       "      (dense): Linear(in_features=768, out_features=768, bias=True)\n",
       "      (activation): Tanh()\n",
       "    )\n",
       "  )\n",
       "  (dropout1): Dropout(p=0.3, inplace=False)\n",
       "  (hidden): Linear(in_features=768, out_features=256, bias=True)\n",
       "  (relu): ReLU()\n",
       "  (dropout2): Dropout(p=0.3, inplace=False)\n",
       "  (classifier): Linear(in_features=256, out_features=15, bias=True)\n",
       ")"
      ]
     },
     "execution_count": 30,
     "metadata": {},
     "output_type": "execute_result"
    }
   ],
   "source": [
    "model.load_state_dict(torch.load(\"best_stage1.pt\"))\n",
    "model.eval()"
   ]
  },
  {
   "cell_type": "code",
   "execution_count": 31,
   "id": "be61c075",
   "metadata": {},
   "outputs": [],
   "source": [
    "from sklearn.metrics import f1_score, precision_score, recall_score\n",
    "\n",
    "def predict_cluster_outputs(model, dataloader, threshold=0.3):\n",
    "    model.eval()\n",
    "    all_preds = []\n",
    "    all_labels = []\n",
    "\n",
    "    with torch.no_grad():\n",
    "        for batch in dataloader:\n",
    "            input_ids = batch[\"input_ids\"].to(device)\n",
    "            attention_mask = batch[\"attention_mask\"].to(device)\n",
    "            labels = batch[\"labels\"].cpu().numpy()\n",
    "            logits = model(input_ids, attention_mask)\n",
    "            probs = torch.sigmoid(logits).cpu().numpy()\n",
    "            preds = (probs >= threshold).astype(int)\n",
    "\n",
    "            all_preds.append(preds)\n",
    "            all_labels.append(labels)\n",
    "\n",
    "    return np.vstack(all_preds), np.vstack(all_labels)"
   ]
  },
  {
   "cell_type": "code",
   "execution_count": 32,
   "id": "810d6931",
   "metadata": {},
   "outputs": [
    {
     "name": "stdout",
     "output_type": "stream",
     "text": [
      "F1 Score:      0.8504\n",
      "Precision:     0.8191\n",
      "Recall:        0.8842\n"
     ]
    }
   ],
   "source": [
    "y_pred, y_true = predict_cluster_outputs(model, val_cluster_loader)\n",
    "\n",
    "f1 = f1_score(y_true, y_pred, average=\"micro\")\n",
    "precision = precision_score(y_true, y_pred, average=\"micro\")\n",
    "recall = recall_score(y_true, y_pred, average=\"micro\")\n",
    "\n",
    "print(f\"F1 Score:      {f1:.4f}\")\n",
    "print(f\"Precision:     {precision:.4f}\")\n",
    "print(f\"Recall:        {recall:.4f}\")\n"
   ]
  },
  {
   "cell_type": "code",
   "execution_count": 33,
   "id": "7d2714cc",
   "metadata": {},
   "outputs": [
    {
     "name": "stdout",
     "output_type": "stream",
     "text": [
      "Cluster  0 → 11939 samples | 26 tags\n",
      "Cluster  1 → 62 samples | 15 tags\n",
      "Cluster  2 → 93 samples | 10 tags\n",
      "Cluster  3 → 5812 samples | 18 tags\n",
      "Cluster  4 → 6187 samples | 46 tags\n",
      "Cluster  5 → 46 samples | 15 tags\n",
      "Cluster  6 → 1402 samples | 37 tags\n",
      "Cluster  7 → 1952 samples | 49 tags\n",
      "Cluster  8 → 510 samples | 20 tags\n",
      "Cluster  9 → 372 samples | 19 tags\n",
      "Cluster 10 → 280 samples | 19 tags\n",
      "Cluster 11 → 138 samples | 15 tags\n",
      "Cluster 12 → 10166 samples | 51 tags\n",
      "Cluster 13 → 22 samples | 12 tags\n",
      "Cluster 14 → 118 samples | 15 tags\n"
     ]
    },
    {
     "data": {
      "text/html": [
       "<div>\n",
       "<style scoped>\n",
       "    .dataframe tbody tr th:only-of-type {\n",
       "        vertical-align: middle;\n",
       "    }\n",
       "\n",
       "    .dataframe tbody tr th {\n",
       "        vertical-align: top;\n",
       "    }\n",
       "\n",
       "    .dataframe thead th {\n",
       "        text-align: right;\n",
       "    }\n",
       "</style>\n",
       "<table border=\"1\" class=\"dataframe\">\n",
       "  <thead>\n",
       "    <tr style=\"text-align: right;\">\n",
       "      <th></th>\n",
       "      <th>subject</th>\n",
       "      <th>body</th>\n",
       "      <th>tags</th>\n",
       "    </tr>\n",
       "  </thead>\n",
       "  <tbody>\n",
       "    <tr>\n",
       "      <th>0</th>\n",
       "      <td>Query About Smart Home System Integration Feat...</td>\n",
       "      <td>Dear Customer Support Team, I hope this messag...</td>\n",
       "      <td>[Product]</td>\n",
       "    </tr>\n",
       "    <tr>\n",
       "      <th>1</th>\n",
       "      <td>Question About Marketing Agency Software Compa...</td>\n",
       "      <td>Dear Support Team, I hope this message reaches...</td>\n",
       "      <td>[Product, Feedback]</td>\n",
       "    </tr>\n",
       "    <tr>\n",
       "      <th>2</th>\n",
       "      <td>Feature Query</td>\n",
       "      <td>Dear Customer Support, I hope this message rea...</td>\n",
       "      <td>[Product]</td>\n",
       "    </tr>\n",
       "    <tr>\n",
       "      <th>3</th>\n",
       "      <td>Immediate Help Needed: Technical Problem with ...</td>\n",
       "      <td>Dear Customer Support Team, I am submitting a ...</td>\n",
       "      <td>[Bug, Crash]</td>\n",
       "    </tr>\n",
       "    <tr>\n",
       "      <th>4</th>\n",
       "      <td>Inquiry for Detailed Information on Agency Off...</td>\n",
       "      <td>Dear Customer Support Team, I hope this messag...</td>\n",
       "      <td>[Product, Feedback]</td>\n",
       "    </tr>\n",
       "  </tbody>\n",
       "</table>\n",
       "</div>"
      ],
      "text/plain": [
       "                                             subject  \\\n",
       "0  Query About Smart Home System Integration Feat...   \n",
       "1  Question About Marketing Agency Software Compa...   \n",
       "2                                      Feature Query   \n",
       "3  Immediate Help Needed: Technical Problem with ...   \n",
       "4  Inquiry for Detailed Information on Agency Off...   \n",
       "\n",
       "                                                body                 tags  \n",
       "0  Dear Customer Support Team, I hope this messag...            [Product]  \n",
       "1  Dear Support Team, I hope this message reaches...  [Product, Feedback]  \n",
       "2  Dear Customer Support, I hope this message rea...            [Product]  \n",
       "3  Dear Customer Support Team, I am submitting a ...         [Bug, Crash]  \n",
       "4  Dear Customer Support Team, I hope this messag...  [Product, Feedback]  "
      ]
     },
     "execution_count": 33,
     "metadata": {},
     "output_type": "execute_result"
    }
   ],
   "source": [
    "cluster_dataframes = {}\n",
    "\n",
    "for cluster_name in cluster_list:\n",
    "    cluster_id = cluster2id[cluster_name]\n",
    "    valid_tags = set(cluster_to_tags[cluster_name])\n",
    "\n",
    "    filtered_rows = []\n",
    "\n",
    "    for _, row in df.iterrows():\n",
    "        tags = [row[col] for col in tag_columns if pd.notnull(row[col])]\n",
    "        relevant_tags = [t for t in tags if t in valid_tags]\n",
    "        if not relevant_tags:\n",
    "            continue\n",
    "\n",
    "        filtered_rows.append({\n",
    "            \"subject\": row[\"subject\"],\n",
    "            \"body\": row[\"body\"],\n",
    "            \"tags\": relevant_tags  # Only tags from this cluster\n",
    "        })\n",
    "\n",
    "    cluster_df = pd.DataFrame(filtered_rows)\n",
    "    cluster_dataframes[cluster_id] = cluster_df\n",
    "\n",
    "    print(f\"Cluster {cluster_id:2d} → {len(cluster_df)} samples | {len(valid_tags)} tags\")\n",
    "\n",
    "# Optional: preview first few rows of a cluster\n",
    "cluster_dataframes[0].head()"
   ]
  },
  {
   "cell_type": "code",
   "execution_count": 34,
   "id": "06477cc6",
   "metadata": {},
   "outputs": [
    {
     "name": "stdout",
     "output_type": "stream",
     "text": [
      "Processing Cluster  0 ...\n",
      "Cluster  0 → 11939 samples | 26 tag(s)\n",
      "Processing Cluster  1 ...\n",
      "Cluster  1 → 62 samples | 15 tag(s)\n",
      "Processing Cluster  2 ...\n",
      "Cluster  2 → 93 samples | 10 tag(s)\n",
      "Processing Cluster  3 ...\n",
      "Cluster  3 → 5812 samples | 18 tag(s)\n",
      "Processing Cluster  4 ...\n",
      "Cluster  4 → 6187 samples | 46 tag(s)\n",
      "Processing Cluster  5 ...\n",
      "Cluster  5 → 46 samples | 15 tag(s)\n",
      "Processing Cluster  6 ...\n",
      "Cluster  6 → 1402 samples | 37 tag(s)\n",
      "Processing Cluster  7 ...\n",
      "Cluster  7 → 1952 samples | 49 tag(s)\n",
      "Processing Cluster  8 ...\n",
      "Cluster  8 → 510 samples | 20 tag(s)\n",
      "Processing Cluster  9 ...\n",
      "Cluster  9 → 372 samples | 19 tag(s)\n",
      "Processing Cluster 10 ...\n",
      "Cluster 10 → 280 samples | 19 tag(s)\n",
      "Processing Cluster 11 ...\n",
      "Cluster 11 → 138 samples | 15 tag(s)\n",
      "Processing Cluster 12 ...\n",
      "Cluster 12 → 10166 samples | 51 tag(s)\n",
      "Processing Cluster 13 ...\n",
      "Cluster 13 → 22 samples | 12 tag(s)\n",
      "Processing Cluster 14 ...\n",
      "Cluster 14 → 118 samples | 15 tag(s)\n"
     ]
    }
   ],
   "source": [
    "class TagDataset(Dataset):\n",
    "    def __init__(self, encodings, tag_vectors):\n",
    "        self.encodings = encodings\n",
    "        self.tag_vectors = tag_vectors\n",
    "\n",
    "    def __len__(self):\n",
    "        return len(self.tag_vectors)\n",
    "\n",
    "    def __getitem__(self, idx):\n",
    "        return {\n",
    "            'input_ids': self.encodings['input_ids'][idx],\n",
    "            'attention_mask': self.encodings['attention_mask'][idx],\n",
    "            'labels': torch.tensor(self.tag_vectors[idx], dtype=torch.float32)\n",
    "        }\n",
    "\n",
    "cluster_datasets = {}\n",
    "\n",
    "for cluster_id, df_cluster in cluster_dataframes.items():\n",
    "    print(f\"Processing Cluster {cluster_id:2d} ...\")\n",
    "\n",
    "    # tag vocabulary\n",
    "    all_tags = sorted(set(tag for tags in df_cluster[\"tags\"] for tag in tags))\n",
    "    tag2id = {tag: i for i, tag in enumerate(all_tags)}\n",
    "    id2tag = {i: tag for tag, i in tag2id.items()}\n",
    "    vocab_size = len(tag2id)\n",
    "\n",
    "    # tokenize text\n",
    "    texts = (df_cluster[\"subject\"] + \" \" + df_cluster[\"body\"]).tolist()\n",
    "    encodings = tokenizer(\n",
    "        texts,\n",
    "        padding=True,\n",
    "        truncation=True,\n",
    "        max_length=512,\n",
    "        return_tensors=\"pt\"\n",
    "    )\n",
    "\n",
    "    # multi-hot tag vectors\n",
    "    tag_vectors = []\n",
    "    for tags in df_cluster[\"tags\"]:\n",
    "        vec = np.zeros(vocab_size, dtype=np.float32)\n",
    "        for tag in tags:\n",
    "            if tag in tag2id:\n",
    "                vec[tag2id[tag]] = 1.0\n",
    "        tag_vectors.append(vec)\n",
    "\n",
    "    dataset = TagDataset(encodings, tag_vectors)\n",
    "    cluster_datasets[cluster_id] = {\n",
    "        \"dataset\": dataset,\n",
    "        \"tag2id\": tag2id,\n",
    "        \"id2tag\": id2tag\n",
    "    }\n",
    "\n",
    "    print(f\"Cluster {cluster_id:2d} → {len(dataset)} samples | {vocab_size} tag(s)\")"
   ]
  },
  {
   "cell_type": "code",
   "execution_count": 35,
   "id": "e6f12a7c",
   "metadata": {},
   "outputs": [],
   "source": [
    "class TagClassifier(nn.Module):\n",
    "    def __init__(self, hidden_size, num_labels):\n",
    "        super(TagClassifier, self).__init__()\n",
    "        self.model = AutoModel.from_pretrained(\"bert-base-cased\")\n",
    "        self.dropout = nn.Dropout(0.3)\n",
    "        self.classifier = nn.Sequential(\n",
    "            nn.Linear(self.model.config.hidden_size, hidden_size),\n",
    "            nn.ReLU(),\n",
    "            nn.Dropout(0.3),\n",
    "            nn.Linear(hidden_size, num_labels)\n",
    "        )\n",
    "\n",
    "    def forward(self, input_ids, attention_mask):\n",
    "        outputs = self.model(input_ids=input_ids, attention_mask=attention_mask)\n",
    "        pooled_output = outputs.pooler_output  # shape: (batch_size, hidden_dim)\n",
    "        pooled_output = self.dropout(pooled_output)\n",
    "        return self.classifier(pooled_output)"
   ]
  },
  {
   "cell_type": "code",
   "execution_count": 46,
   "id": "fb429d49",
   "metadata": {},
   "outputs": [],
   "source": [
    "def compute_pos_weights(labels_tensor):\n",
    "    # labels_tensor shape: (num_samples, num_tags)\n",
    "    total_samples = labels_tensor.shape[0]\n",
    "    pos_counts = labels_tensor.sum(dim=0)\n",
    "    neg_counts = total_samples - pos_counts\n",
    "    weights = neg_counts / (pos_counts + 1e-5)  # avoid division by zero\n",
    "    return weights"
   ]
  },
  {
   "cell_type": "code",
   "execution_count": 47,
   "id": "04b162a2",
   "metadata": {},
   "outputs": [],
   "source": [
    "def train_tag_model(dataset, cluster_id, tag2id, epochs=10, batch_size=16, hidden_size=256, device=\"cuda\"):\n",
    "    train_indices, val_indices = train_test_split(list(range(len(dataset))), test_size=0.1, random_state=42)\n",
    "\n",
    "    train_subset = torch.utils.data.Subset(dataset, train_indices)\n",
    "    val_subset = torch.utils.data.Subset(dataset, val_indices)\n",
    "\n",
    "    train_loader = DataLoader(train_subset, batch_size=batch_size, shuffle=True)\n",
    "    val_loader = DataLoader(val_subset, batch_size=batch_size)\n",
    "\n",
    "    model = TagClassifier(hidden_size=hidden_size, num_labels=len(tag2id)).to(device)\n",
    "    optimizer = torch.optim.AdamW(model.parameters(), lr=2e-5)\n",
    "    train_labels = torch.stack([dataset[i][\"labels\"] for i in train_indices])\n",
    "    pos_weights = compute_pos_weights(train_labels)\n",
    "\n",
    "    criterion = nn.BCEWithLogitsLoss(pos_weight=pos_weights.to(device))\n",
    "    best_val_loss = float('inf')\n",
    "    patience = 3\n",
    "    patience_counter = 0\n",
    "\n",
    "    for epoch in range(epochs):\n",
    "        model.train()\n",
    "        total_loss = 0\n",
    "        for batch in tqdm(train_loader, desc=f\"Cluster {cluster_id} - Epoch {epoch+1} - Training\"):\n",
    "            input_ids = batch['input_ids'].to(device)\n",
    "            attention_mask = batch['attention_mask'].to(device)\n",
    "            labels = batch['labels'].to(device)\n",
    "\n",
    "            optimizer.zero_grad()\n",
    "            outputs = model(input_ids, attention_mask)\n",
    "            loss = criterion(outputs, labels)\n",
    "            loss.backward()\n",
    "            optimizer.step()\n",
    "            total_loss += loss.item()\n",
    "\n",
    "        avg_train_loss = total_loss / len(train_loader)\n",
    "\n",
    "        # Validation\n",
    "        model.eval()\n",
    "        val_loss = 0\n",
    "        with torch.no_grad():\n",
    "            for batch in val_loader:\n",
    "                input_ids = batch['input_ids'].to(device)\n",
    "                attention_mask = batch['attention_mask'].to(device)\n",
    "                labels = batch['labels'].to(device)\n",
    "                outputs = model(input_ids, attention_mask)\n",
    "                loss = criterion(outputs, labels)\n",
    "                val_loss += loss.item()\n",
    "\n",
    "        avg_val_loss = val_loss / len(val_loader)\n",
    "\n",
    "        print(f\"Epoch {epoch+1} - Train Loss: {avg_train_loss:.4f} - Val Loss: {avg_val_loss:.4f}\")\n",
    "\n",
    "        if avg_val_loss < best_val_loss:\n",
    "            best_val_loss = avg_val_loss\n",
    "            patience_counter = 0\n",
    "            torch.save(model.state_dict(), f\"cluster_{cluster_id}_model.pt\")\n",
    "            print(\"Saved best model.\")\n",
    "        else:\n",
    "            patience_counter += 1\n",
    "            if patience_counter >= patience:\n",
    "                print(\"Early stopping.\")\n",
    "                break\n",
    "\n",
    "    return model\n"
   ]
  },
  {
   "cell_type": "code",
   "execution_count": 48,
   "id": "b754905c",
   "metadata": {},
   "outputs": [
    {
     "name": "stdout",
     "output_type": "stream",
     "text": [
      "\n",
      "Training model for Cluster 0\n"
     ]
    },
    {
     "name": "stderr",
     "output_type": "stream",
     "text": [
      "Cluster 0 - Epoch 1 - Training:   0%|          | 0/672 [00:00<?, ?it/s]c:\\Users\\chria\\Documents\\Deep Learning\\tickets-project\\.venv\\Lib\\site-packages\\torch\\nn\\modules\\module.py:1747: FutureWarning: `encoder_attention_mask` is deprecated and will be removed in version 4.55.0 for `BertSdpaSelfAttention.forward`.\n",
      "  return forward_call(*args, **kwargs)\n",
      "Cluster 0 - Epoch 1 - Training: 100%|██████████| 672/672 [00:49<00:00, 13.63it/s]\n"
     ]
    },
    {
     "name": "stdout",
     "output_type": "stream",
     "text": [
      "Epoch 1 - Train Loss: 1.4242 - Val Loss: 48408.3211\n",
      "Saved best model.\n"
     ]
    },
    {
     "name": "stderr",
     "output_type": "stream",
     "text": [
      "Cluster 0 - Epoch 2 - Training: 100%|██████████| 672/672 [00:49<00:00, 13.58it/s]\n"
     ]
    },
    {
     "name": "stdout",
     "output_type": "stream",
     "text": [
      "Epoch 2 - Train Loss: 1.4020 - Val Loss: 54254.8365\n"
     ]
    },
    {
     "name": "stderr",
     "output_type": "stream",
     "text": [
      "Cluster 0 - Epoch 3 - Training: 100%|██████████| 672/672 [00:50<00:00, 13.30it/s]\n"
     ]
    },
    {
     "name": "stdout",
     "output_type": "stream",
     "text": [
      "Epoch 3 - Train Loss: 1.4404 - Val Loss: 54118.5189\n"
     ]
    },
    {
     "name": "stderr",
     "output_type": "stream",
     "text": [
      "Cluster 0 - Epoch 4 - Training: 100%|██████████| 672/672 [00:50<00:00, 13.24it/s]\n"
     ]
    },
    {
     "name": "stdout",
     "output_type": "stream",
     "text": [
      "Epoch 4 - Train Loss: 1.3355 - Val Loss: 55526.8069\n",
      "Early stopping.\n",
      "\n",
      "Training model for Cluster 1\n"
     ]
    },
    {
     "name": "stderr",
     "output_type": "stream",
     "text": [
      "Cluster 1 - Epoch 1 - Training: 100%|██████████| 4/4 [00:00<00:00, 19.99it/s]\n"
     ]
    },
    {
     "name": "stdout",
     "output_type": "stream",
     "text": [
      "Epoch 1 - Train Loss: 1.2225 - Val Loss: 49747.6367\n",
      "Saved best model.\n"
     ]
    },
    {
     "name": "stderr",
     "output_type": "stream",
     "text": [
      "Cluster 1 - Epoch 2 - Training: 100%|██████████| 4/4 [00:00<00:00, 19.99it/s]\n"
     ]
    },
    {
     "name": "stdout",
     "output_type": "stream",
     "text": [
      "Epoch 2 - Train Loss: 1.2265 - Val Loss: 51274.6680\n"
     ]
    },
    {
     "name": "stderr",
     "output_type": "stream",
     "text": [
      "Cluster 1 - Epoch 3 - Training: 100%|██████████| 4/4 [00:00<00:00, 20.09it/s]\n"
     ]
    },
    {
     "name": "stdout",
     "output_type": "stream",
     "text": [
      "Epoch 3 - Train Loss: 1.2893 - Val Loss: 52120.4180\n"
     ]
    },
    {
     "name": "stderr",
     "output_type": "stream",
     "text": [
      "Cluster 1 - Epoch 4 - Training: 100%|██████████| 4/4 [00:00<00:00, 20.15it/s]\n"
     ]
    },
    {
     "name": "stdout",
     "output_type": "stream",
     "text": [
      "Epoch 4 - Train Loss: 1.1919 - Val Loss: 53381.6836\n",
      "Early stopping.\n",
      "\n",
      "Training model for Cluster 2\n"
     ]
    },
    {
     "name": "stderr",
     "output_type": "stream",
     "text": [
      "Cluster 2 - Epoch 1 - Training: 100%|██████████| 6/6 [00:00<00:00, 20.73it/s]\n"
     ]
    },
    {
     "name": "stdout",
     "output_type": "stream",
     "text": [
      "Epoch 1 - Train Loss: 1.1618 - Val Loss: 62172.7930\n",
      "Saved best model.\n"
     ]
    },
    {
     "name": "stderr",
     "output_type": "stream",
     "text": [
      "Cluster 2 - Epoch 2 - Training: 100%|██████████| 6/6 [00:00<00:00, 21.44it/s]\n"
     ]
    },
    {
     "name": "stdout",
     "output_type": "stream",
     "text": [
      "Epoch 2 - Train Loss: 1.1894 - Val Loss: 67121.4922\n"
     ]
    },
    {
     "name": "stderr",
     "output_type": "stream",
     "text": [
      "Cluster 2 - Epoch 3 - Training: 100%|██████████| 6/6 [00:00<00:00, 20.84it/s]\n"
     ]
    },
    {
     "name": "stdout",
     "output_type": "stream",
     "text": [
      "Epoch 3 - Train Loss: 1.1021 - Val Loss: 68571.3828\n"
     ]
    },
    {
     "name": "stderr",
     "output_type": "stream",
     "text": [
      "Cluster 2 - Epoch 4 - Training: 100%|██████████| 6/6 [00:00<00:00, 21.27it/s]\n"
     ]
    },
    {
     "name": "stdout",
     "output_type": "stream",
     "text": [
      "Epoch 4 - Train Loss: 1.1267 - Val Loss: 66147.0000\n",
      "Early stopping.\n",
      "\n",
      "Training model for Cluster 3\n"
     ]
    },
    {
     "name": "stderr",
     "output_type": "stream",
     "text": [
      "Cluster 3 - Epoch 1 - Training: 100%|██████████| 327/327 [00:24<00:00, 13.37it/s]\n"
     ]
    },
    {
     "name": "stdout",
     "output_type": "stream",
     "text": [
      "Epoch 1 - Train Loss: 1.2339 - Val Loss: 117030.1055\n",
      "Saved best model.\n"
     ]
    },
    {
     "name": "stderr",
     "output_type": "stream",
     "text": [
      "Cluster 3 - Epoch 2 - Training: 100%|██████████| 327/327 [00:24<00:00, 13.36it/s]\n"
     ]
    },
    {
     "name": "stdout",
     "output_type": "stream",
     "text": [
      "Epoch 2 - Train Loss: 1.2702 - Val Loss: 130367.0631\n"
     ]
    },
    {
     "name": "stderr",
     "output_type": "stream",
     "text": [
      "Cluster 3 - Epoch 3 - Training: 100%|██████████| 327/327 [00:24<00:00, 13.57it/s]\n"
     ]
    },
    {
     "name": "stdout",
     "output_type": "stream",
     "text": [
      "Epoch 3 - Train Loss: 1.2595 - Val Loss: 156215.1203\n"
     ]
    },
    {
     "name": "stderr",
     "output_type": "stream",
     "text": [
      "Cluster 3 - Epoch 4 - Training: 100%|██████████| 327/327 [00:25<00:00, 13.03it/s]\n"
     ]
    },
    {
     "name": "stdout",
     "output_type": "stream",
     "text": [
      "Epoch 4 - Train Loss: 1.2257 - Val Loss: 194866.8706\n",
      "Early stopping.\n",
      "\n",
      "Training model for Cluster 4\n"
     ]
    },
    {
     "name": "stderr",
     "output_type": "stream",
     "text": [
      "Cluster 4 - Epoch 1 - Training: 100%|██████████| 348/348 [00:25<00:00, 13.63it/s]\n"
     ]
    },
    {
     "name": "stdout",
     "output_type": "stream",
     "text": [
      "Epoch 1 - Train Loss: 1.3795 - Val Loss: 18302.0966\n",
      "Saved best model.\n"
     ]
    },
    {
     "name": "stderr",
     "output_type": "stream",
     "text": [
      "Cluster 4 - Epoch 2 - Training: 100%|██████████| 348/348 [00:25<00:00, 13.59it/s]\n"
     ]
    },
    {
     "name": "stdout",
     "output_type": "stream",
     "text": [
      "Epoch 2 - Train Loss: 1.4068 - Val Loss: 20598.3356\n"
     ]
    },
    {
     "name": "stderr",
     "output_type": "stream",
     "text": [
      "Cluster 4 - Epoch 3 - Training: 100%|██████████| 348/348 [00:27<00:00, 12.80it/s]\n"
     ]
    },
    {
     "name": "stdout",
     "output_type": "stream",
     "text": [
      "Epoch 3 - Train Loss: 1.3853 - Val Loss: 21663.0295\n"
     ]
    },
    {
     "name": "stderr",
     "output_type": "stream",
     "text": [
      "Cluster 4 - Epoch 4 - Training: 100%|██████████| 348/348 [00:27<00:00, 12.82it/s]\n"
     ]
    },
    {
     "name": "stdout",
     "output_type": "stream",
     "text": [
      "Epoch 4 - Train Loss: 1.4181 - Val Loss: 28303.8516\n",
      "Early stopping.\n",
      "\n",
      "Training model for Cluster 5\n"
     ]
    },
    {
     "name": "stderr",
     "output_type": "stream",
     "text": [
      "Cluster 5 - Epoch 1 - Training: 100%|██████████| 3/3 [00:00<00:00, 18.46it/s]\n"
     ]
    },
    {
     "name": "stdout",
     "output_type": "stream",
     "text": [
      "Epoch 1 - Train Loss: 1.3235 - Val Loss: 1.2279\n",
      "Saved best model.\n"
     ]
    },
    {
     "name": "stderr",
     "output_type": "stream",
     "text": [
      "Cluster 5 - Epoch 2 - Training: 100%|██████████| 3/3 [00:00<00:00, 18.69it/s]\n"
     ]
    },
    {
     "name": "stdout",
     "output_type": "stream",
     "text": [
      "Epoch 2 - Train Loss: 1.2748 - Val Loss: 1.2340\n"
     ]
    },
    {
     "name": "stderr",
     "output_type": "stream",
     "text": [
      "Cluster 5 - Epoch 3 - Training: 100%|██████████| 3/3 [00:00<00:00, 18.60it/s]"
     ]
    },
    {
     "name": "stdout",
     "output_type": "stream",
     "text": [
      "Epoch 3 - Train Loss: 1.3462 - Val Loss: 1.2172\n"
     ]
    },
    {
     "name": "stderr",
     "output_type": "stream",
     "text": [
      "\n"
     ]
    },
    {
     "name": "stdout",
     "output_type": "stream",
     "text": [
      "Saved best model.\n"
     ]
    },
    {
     "name": "stderr",
     "output_type": "stream",
     "text": [
      "Cluster 5 - Epoch 4 - Training: 100%|██████████| 3/3 [00:00<00:00, 18.60it/s]\n"
     ]
    },
    {
     "name": "stdout",
     "output_type": "stream",
     "text": [
      "Epoch 4 - Train Loss: 1.4161 - Val Loss: 1.2175\n"
     ]
    },
    {
     "name": "stderr",
     "output_type": "stream",
     "text": [
      "Cluster 5 - Epoch 5 - Training: 100%|██████████| 3/3 [00:00<00:00, 18.97it/s]"
     ]
    },
    {
     "name": "stdout",
     "output_type": "stream",
     "text": [
      "Epoch 5 - Train Loss: 1.2739 - Val Loss: 1.2224"
     ]
    },
    {
     "name": "stderr",
     "output_type": "stream",
     "text": [
      "\n"
     ]
    },
    {
     "name": "stdout",
     "output_type": "stream",
     "text": [
      "\n"
     ]
    },
    {
     "name": "stderr",
     "output_type": "stream",
     "text": [
      "Cluster 5 - Epoch 6 - Training: 100%|██████████| 3/3 [00:00<00:00, 18.46it/s]\n"
     ]
    },
    {
     "name": "stdout",
     "output_type": "stream",
     "text": [
      "Epoch 6 - Train Loss: 1.2636 - Val Loss: 1.2224\n",
      "Early stopping.\n",
      "\n",
      "Training model for Cluster 6\n"
     ]
    },
    {
     "name": "stderr",
     "output_type": "stream",
     "text": [
      "Cluster 6 - Epoch 1 - Training: 100%|██████████| 79/79 [00:05<00:00, 13.28it/s]\n"
     ]
    },
    {
     "name": "stdout",
     "output_type": "stream",
     "text": [
      "Epoch 1 - Train Loss: 1.3356 - Val Loss: 1.4860\n",
      "Saved best model.\n"
     ]
    },
    {
     "name": "stderr",
     "output_type": "stream",
     "text": [
      "Cluster 6 - Epoch 2 - Training: 100%|██████████| 79/79 [00:05<00:00, 13.22it/s]\n"
     ]
    },
    {
     "name": "stdout",
     "output_type": "stream",
     "text": [
      "Epoch 2 - Train Loss: 1.3192 - Val Loss: 1.5280\n"
     ]
    },
    {
     "name": "stderr",
     "output_type": "stream",
     "text": [
      "Cluster 6 - Epoch 3 - Training: 100%|██████████| 79/79 [00:05<00:00, 13.24it/s]\n"
     ]
    },
    {
     "name": "stdout",
     "output_type": "stream",
     "text": [
      "Epoch 3 - Train Loss: 1.3163 - Val Loss: 1.5156\n"
     ]
    },
    {
     "name": "stderr",
     "output_type": "stream",
     "text": [
      "Cluster 6 - Epoch 4 - Training: 100%|██████████| 79/79 [00:05<00:00, 13.26it/s]\n"
     ]
    },
    {
     "name": "stdout",
     "output_type": "stream",
     "text": [
      "Epoch 4 - Train Loss: 1.3075 - Val Loss: 1.4982\n",
      "Early stopping.\n",
      "\n",
      "Training model for Cluster 7\n"
     ]
    },
    {
     "name": "stderr",
     "output_type": "stream",
     "text": [
      "Cluster 7 - Epoch 1 - Training: 100%|██████████| 110/110 [00:07<00:00, 13.79it/s]\n"
     ]
    },
    {
     "name": "stdout",
     "output_type": "stream",
     "text": [
      "Epoch 1 - Train Loss: 1.3825 - Val Loss: 1.6587\n",
      "Saved best model.\n"
     ]
    },
    {
     "name": "stderr",
     "output_type": "stream",
     "text": [
      "Cluster 7 - Epoch 2 - Training: 100%|██████████| 110/110 [00:07<00:00, 13.78it/s]\n"
     ]
    },
    {
     "name": "stdout",
     "output_type": "stream",
     "text": [
      "Epoch 2 - Train Loss: 1.3524 - Val Loss: 1.6263\n",
      "Saved best model.\n"
     ]
    },
    {
     "name": "stderr",
     "output_type": "stream",
     "text": [
      "Cluster 7 - Epoch 3 - Training: 100%|██████████| 110/110 [00:07<00:00, 13.75it/s]\n"
     ]
    },
    {
     "name": "stdout",
     "output_type": "stream",
     "text": [
      "Epoch 3 - Train Loss: 1.3959 - Val Loss: 1.6443\n"
     ]
    },
    {
     "name": "stderr",
     "output_type": "stream",
     "text": [
      "Cluster 7 - Epoch 4 - Training: 100%|██████████| 110/110 [00:07<00:00, 14.62it/s]\n"
     ]
    },
    {
     "name": "stdout",
     "output_type": "stream",
     "text": [
      "Epoch 4 - Train Loss: 1.3650 - Val Loss: 1.5868\n",
      "Saved best model.\n"
     ]
    },
    {
     "name": "stderr",
     "output_type": "stream",
     "text": [
      "Cluster 7 - Epoch 5 - Training: 100%|██████████| 110/110 [00:07<00:00, 14.73it/s]\n"
     ]
    },
    {
     "name": "stdout",
     "output_type": "stream",
     "text": [
      "Epoch 5 - Train Loss: 1.3702 - Val Loss: 1.6237\n"
     ]
    },
    {
     "name": "stderr",
     "output_type": "stream",
     "text": [
      "Cluster 7 - Epoch 6 - Training: 100%|██████████| 110/110 [00:07<00:00, 14.75it/s]\n"
     ]
    },
    {
     "name": "stdout",
     "output_type": "stream",
     "text": [
      "Epoch 6 - Train Loss: 1.3738 - Val Loss: 1.6251\n"
     ]
    },
    {
     "name": "stderr",
     "output_type": "stream",
     "text": [
      "Cluster 7 - Epoch 7 - Training: 100%|██████████| 110/110 [00:07<00:00, 14.71it/s]\n"
     ]
    },
    {
     "name": "stdout",
     "output_type": "stream",
     "text": [
      "Epoch 7 - Train Loss: 1.3778 - Val Loss: 1.6642\n",
      "Early stopping.\n",
      "\n",
      "Training model for Cluster 8\n"
     ]
    },
    {
     "name": "stderr",
     "output_type": "stream",
     "text": [
      "Cluster 8 - Epoch 1 - Training: 100%|██████████| 29/29 [00:01<00:00, 15.89it/s]\n"
     ]
    },
    {
     "name": "stdout",
     "output_type": "stream",
     "text": [
      "Epoch 1 - Train Loss: 1.3314 - Val Loss: 25833.4138\n",
      "Saved best model.\n"
     ]
    },
    {
     "name": "stderr",
     "output_type": "stream",
     "text": [
      "Cluster 8 - Epoch 2 - Training: 100%|██████████| 29/29 [00:01<00:00, 15.85it/s]\n"
     ]
    },
    {
     "name": "stdout",
     "output_type": "stream",
     "text": [
      "Epoch 2 - Train Loss: 1.3203 - Val Loss: 28024.4708\n"
     ]
    },
    {
     "name": "stderr",
     "output_type": "stream",
     "text": [
      "Cluster 8 - Epoch 3 - Training: 100%|██████████| 29/29 [00:01<00:00, 15.89it/s]\n"
     ]
    },
    {
     "name": "stdout",
     "output_type": "stream",
     "text": [
      "Epoch 3 - Train Loss: 1.2834 - Val Loss: 29469.6281\n"
     ]
    },
    {
     "name": "stderr",
     "output_type": "stream",
     "text": [
      "Cluster 8 - Epoch 4 - Training: 100%|██████████| 29/29 [00:01<00:00, 15.84it/s]\n"
     ]
    },
    {
     "name": "stdout",
     "output_type": "stream",
     "text": [
      "Epoch 4 - Train Loss: 1.2952 - Val Loss: 28175.1663\n",
      "Early stopping.\n",
      "\n",
      "Training model for Cluster 9\n"
     ]
    },
    {
     "name": "stderr",
     "output_type": "stream",
     "text": [
      "Cluster 9 - Epoch 1 - Training: 100%|██████████| 21/21 [00:01<00:00, 17.35it/s]\n"
     ]
    },
    {
     "name": "stdout",
     "output_type": "stream",
     "text": [
      "Epoch 1 - Train Loss: 1.2864 - Val Loss: 1.1365\n",
      "Saved best model.\n"
     ]
    },
    {
     "name": "stderr",
     "output_type": "stream",
     "text": [
      "Cluster 9 - Epoch 2 - Training: 100%|██████████| 21/21 [00:01<00:00, 17.50it/s]\n"
     ]
    },
    {
     "name": "stdout",
     "output_type": "stream",
     "text": [
      "Epoch 2 - Train Loss: 1.3005 - Val Loss: 1.1340\n",
      "Saved best model.\n"
     ]
    },
    {
     "name": "stderr",
     "output_type": "stream",
     "text": [
      "Cluster 9 - Epoch 3 - Training: 100%|██████████| 21/21 [00:01<00:00, 17.47it/s]\n"
     ]
    },
    {
     "name": "stdout",
     "output_type": "stream",
     "text": [
      "Epoch 3 - Train Loss: 1.3253 - Val Loss: 1.1347\n"
     ]
    },
    {
     "name": "stderr",
     "output_type": "stream",
     "text": [
      "Cluster 9 - Epoch 4 - Training: 100%|██████████| 21/21 [00:01<00:00, 17.45it/s]\n"
     ]
    },
    {
     "name": "stdout",
     "output_type": "stream",
     "text": [
      "Epoch 4 - Train Loss: 1.3093 - Val Loss: 1.1295\n",
      "Saved best model.\n"
     ]
    },
    {
     "name": "stderr",
     "output_type": "stream",
     "text": [
      "Cluster 9 - Epoch 5 - Training: 100%|██████████| 21/21 [00:01<00:00, 17.44it/s]\n"
     ]
    },
    {
     "name": "stdout",
     "output_type": "stream",
     "text": [
      "Epoch 5 - Train Loss: 1.3013 - Val Loss: 1.1283\n",
      "Saved best model.\n"
     ]
    },
    {
     "name": "stderr",
     "output_type": "stream",
     "text": [
      "Cluster 9 - Epoch 6 - Training: 100%|██████████| 21/21 [00:01<00:00, 17.36it/s]\n"
     ]
    },
    {
     "name": "stdout",
     "output_type": "stream",
     "text": [
      "Epoch 6 - Train Loss: 1.3195 - Val Loss: 1.1193\n",
      "Saved best model.\n"
     ]
    },
    {
     "name": "stderr",
     "output_type": "stream",
     "text": [
      "Cluster 9 - Epoch 7 - Training: 100%|██████████| 21/21 [00:01<00:00, 17.36it/s]\n"
     ]
    },
    {
     "name": "stdout",
     "output_type": "stream",
     "text": [
      "Epoch 7 - Train Loss: 1.3009 - Val Loss: 1.1167\n",
      "Saved best model.\n"
     ]
    },
    {
     "name": "stderr",
     "output_type": "stream",
     "text": [
      "Cluster 9 - Epoch 8 - Training: 100%|██████████| 21/21 [00:01<00:00, 17.44it/s]\n"
     ]
    },
    {
     "name": "stdout",
     "output_type": "stream",
     "text": [
      "Epoch 8 - Train Loss: 1.3118 - Val Loss: 1.1134\n",
      "Saved best model.\n"
     ]
    },
    {
     "name": "stderr",
     "output_type": "stream",
     "text": [
      "Cluster 9 - Epoch 9 - Training: 100%|██████████| 21/21 [00:01<00:00, 17.36it/s]\n"
     ]
    },
    {
     "name": "stdout",
     "output_type": "stream",
     "text": [
      "Epoch 9 - Train Loss: 1.2971 - Val Loss: 1.1030\n",
      "Saved best model.\n"
     ]
    },
    {
     "name": "stderr",
     "output_type": "stream",
     "text": [
      "Cluster 9 - Epoch 10 - Training: 100%|██████████| 21/21 [00:01<00:00, 17.42it/s]\n"
     ]
    },
    {
     "name": "stdout",
     "output_type": "stream",
     "text": [
      "Epoch 10 - Train Loss: 1.2663 - Val Loss: 1.1196\n",
      "\n",
      "Training model for Cluster 10\n"
     ]
    },
    {
     "name": "stderr",
     "output_type": "stream",
     "text": [
      "Cluster 10 - Epoch 1 - Training: 100%|██████████| 16/16 [00:00<00:00, 17.52it/s]\n"
     ]
    },
    {
     "name": "stdout",
     "output_type": "stream",
     "text": [
      "Epoch 1 - Train Loss: 1.3538 - Val Loss: 0.8188\n",
      "Saved best model.\n"
     ]
    },
    {
     "name": "stderr",
     "output_type": "stream",
     "text": [
      "Cluster 10 - Epoch 2 - Training: 100%|██████████| 16/16 [00:00<00:00, 17.35it/s]\n"
     ]
    },
    {
     "name": "stdout",
     "output_type": "stream",
     "text": [
      "Epoch 2 - Train Loss: 1.3532 - Val Loss: 0.8277\n"
     ]
    },
    {
     "name": "stderr",
     "output_type": "stream",
     "text": [
      "Cluster 10 - Epoch 3 - Training: 100%|██████████| 16/16 [00:00<00:00, 17.58it/s]\n"
     ]
    },
    {
     "name": "stdout",
     "output_type": "stream",
     "text": [
      "Epoch 3 - Train Loss: 1.3132 - Val Loss: 0.8375\n"
     ]
    },
    {
     "name": "stderr",
     "output_type": "stream",
     "text": [
      "Cluster 10 - Epoch 4 - Training: 100%|██████████| 16/16 [00:00<00:00, 17.56it/s]\n"
     ]
    },
    {
     "name": "stdout",
     "output_type": "stream",
     "text": [
      "Epoch 4 - Train Loss: 1.2934 - Val Loss: 0.8370\n",
      "Early stopping.\n",
      "\n",
      "Training model for Cluster 11\n"
     ]
    },
    {
     "name": "stderr",
     "output_type": "stream",
     "text": [
      "Cluster 11 - Epoch 1 - Training: 100%|██████████| 8/8 [00:00<00:00, 17.70it/s]\n"
     ]
    },
    {
     "name": "stdout",
     "output_type": "stream",
     "text": [
      "Epoch 1 - Train Loss: 1.3060 - Val Loss: 1.2555\n",
      "Saved best model.\n"
     ]
    },
    {
     "name": "stderr",
     "output_type": "stream",
     "text": [
      "Cluster 11 - Epoch 2 - Training: 100%|██████████| 8/8 [00:00<00:00, 17.57it/s]\n"
     ]
    },
    {
     "name": "stdout",
     "output_type": "stream",
     "text": [
      "Epoch 2 - Train Loss: 1.2796 - Val Loss: 1.2626\n"
     ]
    },
    {
     "name": "stderr",
     "output_type": "stream",
     "text": [
      "Cluster 11 - Epoch 3 - Training: 100%|██████████| 8/8 [00:00<00:00, 17.40it/s]\n"
     ]
    },
    {
     "name": "stdout",
     "output_type": "stream",
     "text": [
      "Epoch 3 - Train Loss: 1.2795 - Val Loss: 1.2448\n",
      "Saved best model.\n"
     ]
    },
    {
     "name": "stderr",
     "output_type": "stream",
     "text": [
      "Cluster 11 - Epoch 4 - Training: 100%|██████████| 8/8 [00:00<00:00, 17.58it/s]\n"
     ]
    },
    {
     "name": "stdout",
     "output_type": "stream",
     "text": [
      "Epoch 4 - Train Loss: 1.3147 - Val Loss: 1.2580\n"
     ]
    },
    {
     "name": "stderr",
     "output_type": "stream",
     "text": [
      "Cluster 11 - Epoch 5 - Training: 100%|██████████| 8/8 [00:00<00:00, 17.82it/s]\n"
     ]
    },
    {
     "name": "stdout",
     "output_type": "stream",
     "text": [
      "Epoch 5 - Train Loss: 1.2944 - Val Loss: 1.2483\n"
     ]
    },
    {
     "name": "stderr",
     "output_type": "stream",
     "text": [
      "Cluster 11 - Epoch 6 - Training: 100%|██████████| 8/8 [00:00<00:00, 17.65it/s]\n"
     ]
    },
    {
     "name": "stdout",
     "output_type": "stream",
     "text": [
      "Epoch 6 - Train Loss: 1.2962 - Val Loss: 1.2460\n",
      "Early stopping.\n",
      "\n",
      "Training model for Cluster 12\n"
     ]
    },
    {
     "name": "stderr",
     "output_type": "stream",
     "text": [
      "Cluster 12 - Epoch 1 - Training: 100%|██████████| 572/572 [00:41<00:00, 13.66it/s]\n"
     ]
    },
    {
     "name": "stdout",
     "output_type": "stream",
     "text": [
      "Epoch 1 - Train Loss: 1.3492 - Val Loss: 66790.0667\n",
      "Saved best model.\n"
     ]
    },
    {
     "name": "stderr",
     "output_type": "stream",
     "text": [
      "Cluster 12 - Epoch 2 - Training: 100%|██████████| 572/572 [00:41<00:00, 13.66it/s]\n"
     ]
    },
    {
     "name": "stdout",
     "output_type": "stream",
     "text": [
      "Epoch 2 - Train Loss: 1.3587 - Val Loss: 83801.0320\n"
     ]
    },
    {
     "name": "stderr",
     "output_type": "stream",
     "text": [
      "Cluster 12 - Epoch 3 - Training: 100%|██████████| 572/572 [00:41<00:00, 13.67it/s]\n"
     ]
    },
    {
     "name": "stdout",
     "output_type": "stream",
     "text": [
      "Epoch 3 - Train Loss: 1.3308 - Val Loss: 93606.1854\n"
     ]
    },
    {
     "name": "stderr",
     "output_type": "stream",
     "text": [
      "Cluster 12 - Epoch 4 - Training: 100%|██████████| 572/572 [00:42<00:00, 13.46it/s]\n"
     ]
    },
    {
     "name": "stdout",
     "output_type": "stream",
     "text": [
      "Epoch 4 - Train Loss: 1.3025 - Val Loss: 102486.7100\n",
      "Early stopping.\n",
      "\n",
      "Training model for Cluster 13\n"
     ]
    },
    {
     "name": "stderr",
     "output_type": "stream",
     "text": [
      "Cluster 13 - Epoch 1 - Training: 100%|██████████| 2/2 [00:00<00:00, 24.56it/s]\n"
     ]
    },
    {
     "name": "stdout",
     "output_type": "stream",
     "text": [
      "Epoch 1 - Train Loss: 1.1075 - Val Loss: 0.7093\n",
      "Saved best model.\n"
     ]
    },
    {
     "name": "stderr",
     "output_type": "stream",
     "text": [
      "Cluster 13 - Epoch 2 - Training: 100%|██████████| 2/2 [00:00<00:00, 25.20it/s]"
     ]
    },
    {
     "name": "stdout",
     "output_type": "stream",
     "text": [
      "Epoch 2 - Train Loss: 1.0840 - Val Loss: 0.7042\n"
     ]
    },
    {
     "name": "stderr",
     "output_type": "stream",
     "text": [
      "\n"
     ]
    },
    {
     "name": "stdout",
     "output_type": "stream",
     "text": [
      "Saved best model.\n"
     ]
    },
    {
     "name": "stderr",
     "output_type": "stream",
     "text": [
      "Cluster 13 - Epoch 3 - Training: 100%|██████████| 2/2 [00:00<00:00, 25.23it/s]\n"
     ]
    },
    {
     "name": "stdout",
     "output_type": "stream",
     "text": [
      "Epoch 3 - Train Loss: 1.3513 - Val Loss: 0.7045\n"
     ]
    },
    {
     "name": "stderr",
     "output_type": "stream",
     "text": [
      "Cluster 13 - Epoch 4 - Training: 100%|██████████| 2/2 [00:00<00:00, 25.43it/s]\n"
     ]
    },
    {
     "name": "stdout",
     "output_type": "stream",
     "text": [
      "Epoch 4 - Train Loss: 1.2441 - Val Loss: 0.7075\n"
     ]
    },
    {
     "name": "stderr",
     "output_type": "stream",
     "text": [
      "Cluster 13 - Epoch 5 - Training: 100%|██████████| 2/2 [00:00<00:00, 24.28it/s]\n"
     ]
    },
    {
     "name": "stdout",
     "output_type": "stream",
     "text": [
      "Epoch 5 - Train Loss: 1.1059 - Val Loss: 0.7040\n",
      "Saved best model.\n"
     ]
    },
    {
     "name": "stderr",
     "output_type": "stream",
     "text": [
      "Cluster 13 - Epoch 6 - Training: 100%|██████████| 2/2 [00:00<00:00, 24.84it/s]"
     ]
    },
    {
     "name": "stdout",
     "output_type": "stream",
     "text": [
      "Epoch 6 - Train Loss: 1.1384 - Val Loss: 0.6961\n"
     ]
    },
    {
     "name": "stderr",
     "output_type": "stream",
     "text": [
      "\n"
     ]
    },
    {
     "name": "stdout",
     "output_type": "stream",
     "text": [
      "Saved best model.\n"
     ]
    },
    {
     "name": "stderr",
     "output_type": "stream",
     "text": [
      "Cluster 13 - Epoch 7 - Training: 100%|██████████| 2/2 [00:00<00:00, 25.52it/s]"
     ]
    },
    {
     "name": "stdout",
     "output_type": "stream",
     "text": [
      "Epoch 7 - Train Loss: 1.1359 - Val Loss: 0.6926\n"
     ]
    },
    {
     "name": "stderr",
     "output_type": "stream",
     "text": [
      "\n"
     ]
    },
    {
     "name": "stdout",
     "output_type": "stream",
     "text": [
      "Saved best model.\n"
     ]
    },
    {
     "name": "stderr",
     "output_type": "stream",
     "text": [
      "Cluster 13 - Epoch 8 - Training: 100%|██████████| 2/2 [00:00<00:00, 24.85it/s]"
     ]
    },
    {
     "name": "stdout",
     "output_type": "stream",
     "text": [
      "Epoch 8 - Train Loss: 1.0720 - Val Loss: 0.6911\n"
     ]
    },
    {
     "name": "stderr",
     "output_type": "stream",
     "text": [
      "\n"
     ]
    },
    {
     "name": "stdout",
     "output_type": "stream",
     "text": [
      "Saved best model.\n"
     ]
    },
    {
     "name": "stderr",
     "output_type": "stream",
     "text": [
      "Cluster 13 - Epoch 9 - Training: 100%|██████████| 2/2 [00:00<00:00, 25.46it/s]"
     ]
    },
    {
     "name": "stdout",
     "output_type": "stream",
     "text": [
      "Epoch 9 - Train Loss: 1.2030 - Val Loss: 0.6898\n"
     ]
    },
    {
     "name": "stderr",
     "output_type": "stream",
     "text": [
      "\n"
     ]
    },
    {
     "name": "stdout",
     "output_type": "stream",
     "text": [
      "Saved best model.\n"
     ]
    },
    {
     "name": "stderr",
     "output_type": "stream",
     "text": [
      "Cluster 13 - Epoch 10 - Training: 100%|██████████| 2/2 [00:00<00:00, 25.04it/s]"
     ]
    },
    {
     "name": "stdout",
     "output_type": "stream",
     "text": [
      "Epoch 10 - Train Loss: 1.1814 - Val Loss: 0.7015\n",
      "\n",
      "Training model for Cluster 14\n"
     ]
    },
    {
     "name": "stderr",
     "output_type": "stream",
     "text": [
      "\n",
      "Cluster 14 - Epoch 1 - Training: 100%|██████████| 7/7 [00:00<00:00, 14.72it/s]\n"
     ]
    },
    {
     "name": "stdout",
     "output_type": "stream",
     "text": [
      "Epoch 1 - Train Loss: 1.3029 - Val Loss: 0.7641\n",
      "Saved best model.\n"
     ]
    },
    {
     "name": "stderr",
     "output_type": "stream",
     "text": [
      "Cluster 14 - Epoch 2 - Training: 100%|██████████| 7/7 [00:00<00:00, 14.61it/s]\n"
     ]
    },
    {
     "name": "stdout",
     "output_type": "stream",
     "text": [
      "Epoch 2 - Train Loss: 1.2742 - Val Loss: 0.7673\n"
     ]
    },
    {
     "name": "stderr",
     "output_type": "stream",
     "text": [
      "Cluster 14 - Epoch 3 - Training: 100%|██████████| 7/7 [00:00<00:00, 14.72it/s]\n"
     ]
    },
    {
     "name": "stdout",
     "output_type": "stream",
     "text": [
      "Epoch 3 - Train Loss: 1.3830 - Val Loss: 0.7846\n"
     ]
    },
    {
     "name": "stderr",
     "output_type": "stream",
     "text": [
      "Cluster 14 - Epoch 4 - Training: 100%|██████████| 7/7 [00:00<00:00, 14.73it/s]"
     ]
    },
    {
     "name": "stdout",
     "output_type": "stream",
     "text": [
      "Epoch 4 - Train Loss: 1.2960 - Val Loss: 0.8020\n",
      "Early stopping.\n"
     ]
    },
    {
     "name": "stderr",
     "output_type": "stream",
     "text": [
      "\n"
     ]
    }
   ],
   "source": [
    "tag_models = {}\n",
    "\n",
    "for cluster_id in range(len(cluster_datasets)):\n",
    "    data_info = cluster_datasets[cluster_id]\n",
    "    dataset = data_info[\"dataset\"]\n",
    "    tag2id = data_info[\"tag2id\"]\n",
    "\n",
    "    print(f\"\\nTraining model for Cluster {cluster_id}\")\n",
    "    model = train_tag_model(dataset, cluster_id, tag2id)\n",
    "    tag_models[cluster_id] = model"
   ]
  },
  {
   "cell_type": "code",
   "execution_count": 49,
   "id": "b818f05e",
   "metadata": {},
   "outputs": [
    {
     "name": "stderr",
     "output_type": "stream",
     "text": [
      "C:\\Users\\chria\\AppData\\Local\\Temp\\ipykernel_17604\\2803351376.py:9: FutureWarning: You are using `torch.load` with `weights_only=False` (the current default value), which uses the default pickle module implicitly. It is possible to construct malicious pickle data which will execute arbitrary code during unpickling (See https://github.com/pytorch/pytorch/blob/main/SECURITY.md#untrusted-models for more details). In a future release, the default value for `weights_only` will be flipped to `True`. This limits the functions that could be executed during unpickling. Arbitrary objects will no longer be allowed to be loaded via this mode unless they are explicitly allowlisted by the user via `torch.serialization.add_safe_globals`. We recommend you start setting `weights_only=True` for any use case where you don't have full control of the loaded file. Please open an issue on GitHub for any issues related to this experimental feature.\n",
      "  model.load_state_dict(torch.load(f\"cluster_{cluster_id}_model.pt\"))\n"
     ]
    }
   ],
   "source": [
    "# Evaluation of Tags Models\n",
    "tag_models = {}\n",
    "\n",
    "for cluster_id in range(len(cluster_datasets)):\n",
    "    data_info = cluster_datasets[cluster_id]\n",
    "    tag2id = data_info[\"tag2id\"]\n",
    "\n",
    "    model = TagClassifier(hidden_size=256, num_labels=len(tag2id))\n",
    "    model.load_state_dict(torch.load(f\"cluster_{cluster_id}_model.pt\"))\n",
    "    model.to(device)\n",
    "    model.eval()\n",
    "\n",
    "    tag_models[cluster_id] = model\n"
   ]
  },
  {
   "cell_type": "code",
   "execution_count": 53,
   "id": "a82a7609",
   "metadata": {},
   "outputs": [],
   "source": [
    "def evaluate_tag_model(model, dataset, cluster_id, tag2id, batch_size=16):\n",
    "    _, val_indices = train_test_split(list(range(len(dataset))), test_size=0.1, random_state=42)\n",
    "    val_subset = Subset(dataset, val_indices)\n",
    "    val_loader = DataLoader(val_subset, batch_size=batch_size)\n",
    "\n",
    "    all_preds, all_labels = [], []\n",
    "\n",
    "    model.eval()\n",
    "    with torch.no_grad():\n",
    "        for batch in val_loader:\n",
    "            input_ids = batch['input_ids'].to(device)\n",
    "            attention_mask = batch['attention_mask'].to(device)\n",
    "            labels = batch['labels'].cpu().numpy()\n",
    "\n",
    "            outputs = model(input_ids=input_ids, attention_mask=attention_mask)\n",
    "            probs = torch.sigmoid(outputs).cpu().numpy()\n",
    "            preds = (probs >= 0.5).astype(int)\n",
    "\n",
    "            all_preds.extend(preds)\n",
    "            all_labels.extend(labels)\n",
    "\n",
    "    precision = precision_score(all_labels, all_preds, average=\"micro\", zero_division=0)\n",
    "    recall = recall_score(all_labels, all_preds, average=\"micro\", zero_division=0)\n",
    "    f1 = f1_score(all_labels, all_preds, average=\"micro\", zero_division=0)\n",
    "\n",
    "    print(f\"Cluster {cluster_id} — F1: {f1:.4f}, Precision: {precision:.4f}, Recall: {recall:.4f}\")\n",
    "    return f1, precision, recall"
   ]
  },
  {
   "cell_type": "code",
   "execution_count": 54,
   "id": "99c67731",
   "metadata": {},
   "outputs": [
    {
     "name": "stderr",
     "output_type": "stream",
     "text": [
      "c:\\Users\\chria\\Documents\\Deep Learning\\tickets-project\\.venv\\Lib\\site-packages\\torch\\nn\\modules\\module.py:1747: FutureWarning: `encoder_attention_mask` is deprecated and will be removed in version 4.55.0 for `BertSdpaSelfAttention.forward`.\n",
      "  return forward_call(*args, **kwargs)\n"
     ]
    },
    {
     "name": "stdout",
     "output_type": "stream",
     "text": [
      "Cluster 0 — F1: 0.2064, Precision: 0.1227, Recall: 0.6494\n",
      "Cluster 1 — F1: 0.1429, Precision: 0.0794, Recall: 0.7143\n",
      "Cluster 2 — F1: 0.1224, Precision: 0.0769, Recall: 0.3000\n"
     ]
    },
    {
     "name": "stderr",
     "output_type": "stream",
     "text": [
      "c:\\Users\\chria\\Documents\\Deep Learning\\tickets-project\\.venv\\Lib\\site-packages\\torch\\nn\\modules\\module.py:1747: FutureWarning: `encoder_attention_mask` is deprecated and will be removed in version 4.55.0 for `BertSdpaSelfAttention.forward`.\n",
      "  return forward_call(*args, **kwargs)\n",
      "c:\\Users\\chria\\Documents\\Deep Learning\\tickets-project\\.venv\\Lib\\site-packages\\torch\\nn\\modules\\module.py:1747: FutureWarning: `encoder_attention_mask` is deprecated and will be removed in version 4.55.0 for `BertSdpaSelfAttention.forward`.\n",
      "  return forward_call(*args, **kwargs)\n",
      "c:\\Users\\chria\\Documents\\Deep Learning\\tickets-project\\.venv\\Lib\\site-packages\\torch\\nn\\modules\\module.py:1747: FutureWarning: `encoder_attention_mask` is deprecated and will be removed in version 4.55.0 for `BertSdpaSelfAttention.forward`.\n",
      "  return forward_call(*args, **kwargs)\n"
     ]
    },
    {
     "name": "stdout",
     "output_type": "stream",
     "text": [
      "Cluster 3 — F1: 0.4297, Precision: 0.2770, Recall: 0.9572\n"
     ]
    },
    {
     "name": "stderr",
     "output_type": "stream",
     "text": [
      "c:\\Users\\chria\\Documents\\Deep Learning\\tickets-project\\.venv\\Lib\\site-packages\\torch\\nn\\modules\\module.py:1747: FutureWarning: `encoder_attention_mask` is deprecated and will be removed in version 4.55.0 for `BertSdpaSelfAttention.forward`.\n",
      "  return forward_call(*args, **kwargs)\n"
     ]
    },
    {
     "name": "stdout",
     "output_type": "stream",
     "text": [
      "Cluster 4 — F1: 0.0828, Precision: 0.0473, Recall: 0.3333\n",
      "Cluster 5 — F1: 0.1951, Precision: 0.1111, Recall: 0.8000\n",
      "Cluster 6 — F1: 0.1188, Precision: 0.0658, Recall: 0.6064\n"
     ]
    },
    {
     "name": "stderr",
     "output_type": "stream",
     "text": [
      "c:\\Users\\chria\\Documents\\Deep Learning\\tickets-project\\.venv\\Lib\\site-packages\\torch\\nn\\modules\\module.py:1747: FutureWarning: `encoder_attention_mask` is deprecated and will be removed in version 4.55.0 for `BertSdpaSelfAttention.forward`.\n",
      "  return forward_call(*args, **kwargs)\n",
      "c:\\Users\\chria\\Documents\\Deep Learning\\tickets-project\\.venv\\Lib\\site-packages\\torch\\nn\\modules\\module.py:1747: FutureWarning: `encoder_attention_mask` is deprecated and will be removed in version 4.55.0 for `BertSdpaSelfAttention.forward`.\n",
      "  return forward_call(*args, **kwargs)\n",
      "c:\\Users\\chria\\Documents\\Deep Learning\\tickets-project\\.venv\\Lib\\site-packages\\torch\\nn\\modules\\module.py:1747: FutureWarning: `encoder_attention_mask` is deprecated and will be removed in version 4.55.0 for `BertSdpaSelfAttention.forward`.\n",
      "  return forward_call(*args, **kwargs)\n"
     ]
    },
    {
     "name": "stdout",
     "output_type": "stream",
     "text": [
      "Cluster 7 — F1: 0.1103, Precision: 0.0606, Recall: 0.6120\n",
      "Cluster 8 — F1: 0.0828, Precision: 0.0467, Recall: 0.3654\n",
      "Cluster 9 — F1: 0.1481, Precision: 0.0827, Recall: 0.7111\n",
      "Cluster 10 — F1: 0.2544, Precision: 0.1480, Recall: 0.9062\n",
      "Cluster 11 — F1: 0.2692, Precision: 0.1556, Recall: 1.0000\n"
     ]
    },
    {
     "name": "stderr",
     "output_type": "stream",
     "text": [
      "c:\\Users\\chria\\Documents\\Deep Learning\\tickets-project\\.venv\\Lib\\site-packages\\torch\\nn\\modules\\module.py:1747: FutureWarning: `encoder_attention_mask` is deprecated and will be removed in version 4.55.0 for `BertSdpaSelfAttention.forward`.\n",
      "  return forward_call(*args, **kwargs)\n",
      "c:\\Users\\chria\\Documents\\Deep Learning\\tickets-project\\.venv\\Lib\\site-packages\\torch\\nn\\modules\\module.py:1747: FutureWarning: `encoder_attention_mask` is deprecated and will be removed in version 4.55.0 for `BertSdpaSelfAttention.forward`.\n",
      "  return forward_call(*args, **kwargs)\n",
      "c:\\Users\\chria\\Documents\\Deep Learning\\tickets-project\\.venv\\Lib\\site-packages\\torch\\nn\\modules\\module.py:1747: FutureWarning: `encoder_attention_mask` is deprecated and will be removed in version 4.55.0 for `BertSdpaSelfAttention.forward`.\n",
      "  return forward_call(*args, **kwargs)\n",
      "c:\\Users\\chria\\Documents\\Deep Learning\\tickets-project\\.venv\\Lib\\site-packages\\torch\\nn\\modules\\module.py:1747: FutureWarning: `encoder_attention_mask` is deprecated and will be removed in version 4.55.0 for `BertSdpaSelfAttention.forward`.\n",
      "  return forward_call(*args, **kwargs)\n",
      "c:\\Users\\chria\\Documents\\Deep Learning\\tickets-project\\.venv\\Lib\\site-packages\\torch\\nn\\modules\\module.py:1747: FutureWarning: `encoder_attention_mask` is deprecated and will be removed in version 4.55.0 for `BertSdpaSelfAttention.forward`.\n",
      "  return forward_call(*args, **kwargs)\n"
     ]
    },
    {
     "name": "stdout",
     "output_type": "stream",
     "text": [
      "Cluster 12 — F1: 0.1750, Precision: 0.0994, Recall: 0.7298\n",
      "Cluster 13 — F1: 0.3000, Precision: 0.1765, Recall: 1.0000\n",
      "Cluster 14 — F1: 0.1412, Precision: 0.0822, Recall: 0.5000\n"
     ]
    },
    {
     "name": "stderr",
     "output_type": "stream",
     "text": [
      "c:\\Users\\chria\\Documents\\Deep Learning\\tickets-project\\.venv\\Lib\\site-packages\\torch\\nn\\modules\\module.py:1747: FutureWarning: `encoder_attention_mask` is deprecated and will be removed in version 4.55.0 for `BertSdpaSelfAttention.forward`.\n",
      "  return forward_call(*args, **kwargs)\n",
      "c:\\Users\\chria\\Documents\\Deep Learning\\tickets-project\\.venv\\Lib\\site-packages\\torch\\nn\\modules\\module.py:1747: FutureWarning: `encoder_attention_mask` is deprecated and will be removed in version 4.55.0 for `BertSdpaSelfAttention.forward`.\n",
      "  return forward_call(*args, **kwargs)\n"
     ]
    }
   ],
   "source": [
    "\n",
    "for cluster_id in range(len(cluster_datasets)):\n",
    "    dataset = cluster_datasets[cluster_id][\"dataset\"]\n",
    "    tag2id = cluster_datasets[cluster_id][\"tag2id\"]\n",
    "    model = tag_models[cluster_id]\n",
    "    evaluate_tag_model(model, dataset, cluster_id, tag2id)"
   ]
  },
  {
   "cell_type": "code",
   "execution_count": null,
   "id": "eadf521b",
   "metadata": {},
   "outputs": [
    {
     "name": "stdout",
     "output_type": "stream",
     "text": [
      "📊 Cluster 0 — Total Samples: 11939\n",
      "   IT: 5153\n",
      "   Feedback: 3903\n",
      "   Bug: 3649\n",
      "   Product: 1100\n",
      "   Crash: 671\n",
      "\n",
      "📊 Cluster 1 — Total Samples: 62\n",
      "   Software Update: 30\n",
      "   Update: 7\n",
      "   Cache: 6\n",
      "   Upgrade: 4\n",
      "   Outdated Software: 3\n",
      "\n",
      "📊 Cluster 2 — Total Samples: 93\n",
      "   Brand Development: 24\n",
      "   Branding: 16\n",
      "   Brand: 14\n",
      "   Brand Expansion: 13\n",
      "   Brand Growth: 13\n",
      "\n",
      "📊 Cluster 3 — Total Samples: 5812\n",
      "   Security: 3674\n",
      "   Disruption: 2430\n",
      "   Virus: 370\n",
      "   Alert: 186\n",
      "   Vulnerability: 56\n",
      "\n",
      "📊 Cluster 4 — Total Samples: 6187\n",
      "   Outage: 2222\n",
      "   Network: 2003\n",
      "   Tech Support: 1707\n",
      "   Hardware: 660\n",
      "   Maintenance: 195\n",
      "\n",
      "📊 Cluster 5 — Total Samples: 46\n",
      "   API: 26\n",
      "   Usability: 4\n",
      "   Tutorial: 3\n",
      "   UI/UX: 3\n",
      "   Dashboard: 2\n",
      "\n",
      "📊 Cluster 6 — Total Samples: 1402\n",
      "   Billing: 908\n",
      "   Payment: 742\n",
      "   Account: 294\n",
      "   Refund: 215\n",
      "   Login: 144\n",
      "\n",
      "📊 Cluster 7 — Total Samples: 1952\n",
      "   Sales: 1286\n",
      "   Marketing: 574\n",
      "   Lead: 251\n",
      "   Strategy: 187\n",
      "   Campaign: 112\n",
      "\n",
      "📊 Cluster 8 — Total Samples: 510\n",
      "   Software: 257\n",
      "   Integration: 192\n",
      "   Software Conflict: 29\n",
      "   Software Compatibility: 15\n",
      "   Deployment: 6\n",
      "\n",
      "📊 Cluster 9 — Total Samples: 372\n",
      "   Data Protection: 123\n",
      "   Data Breach: 111\n",
      "   Data Privacy: 65\n",
      "   Confidentiality: 48\n",
      "   Privacy: 29\n",
      "\n",
      "📊 Cluster 10 — Total Samples: 280\n",
      "   Analytics: 109\n",
      "   Data: 80\n",
      "   Data Analytics: 48\n",
      "   Database: 25\n",
      "   Data Integration: 14\n",
      "\n",
      "📊 Cluster 11 — Total Samples: 138\n",
      "   Healthcare: 88\n",
      "   Medical Data: 16\n",
      "   Hospital: 10\n",
      "   Medical Information: 6\n",
      "   Medical Records: 5\n",
      "\n",
      "📊 Cluster 12 — Total Samples: 10166\n",
      "   Performance: 6607\n",
      "   Feature: 3162\n",
      "   Documentation: 2342\n",
      "   Compliance: 221\n",
      "   Training: 52\n",
      "\n",
      "📊 Cluster 13 — Total Samples: 22\n",
      "   Cloud: 11\n",
      "   Cloud-Native: 2\n",
      "   Docker: 2\n",
      "   Smart Home: 1\n",
      "   Cloud Software: 1\n",
      "\n",
      "📊 Cluster 14 — Total Samples: 118\n",
      "   Digital Strategy: 55\n",
      "   Digital Marketing: 30\n",
      "   Digital: 13\n",
      "   Digital Campaign: 7\n",
      "   Digital Campaigns: 3\n",
      "\n"
     ]
    }
   ],
   "source": [
    "# Distribution of Tags in Clusters\n",
    "for cid, cluster in cluster_datasets.items():\n",
    "    tag2id = cluster[\"tag2id\"]\n",
    "    id2tag = cluster[\"id2tag\"]\n",
    "    dataset = cluster[\"dataset\"]\n",
    "\n",
    "    counts = Counter()\n",
    "\n",
    "    for i in range(len(dataset)):\n",
    "        item = dataset[i]\n",
    "        labels = item[\"labels\"]\n",
    "        indices = torch.where(labels == 1.0)[0]\n",
    "        for idx in indices:\n",
    "            tag = id2tag[idx.item()]\n",
    "            counts[tag] += 1\n",
    "\n",
    "    print(f\"Cluster {cid} — Total Samples: {len(dataset)}\")\n",
    "    for tag, count in counts.most_common(5):\n",
    "        print(f\"   {tag}: {count}\")\n",
    "    print()\n",
    "\n"
   ]
  },
  {
   "cell_type": "code",
   "execution_count": null,
   "id": "a05ba4a3",
   "metadata": {},
   "outputs": [
    {
     "name": "stderr",
     "output_type": "stream",
     "text": [
      "C:\\Users\\chria\\AppData\\Local\\Temp\\ipykernel_17604\\3066827398.py:14: FutureWarning: You are using `torch.load` with `weights_only=False` (the current default value), which uses the default pickle module implicitly. It is possible to construct malicious pickle data which will execute arbitrary code during unpickling (See https://github.com/pytorch/pytorch/blob/main/SECURITY.md#untrusted-models for more details). In a future release, the default value for `weights_only` will be flipped to `True`. This limits the functions that could be executed during unpickling. Arbitrary objects will no longer be allowed to be loaded via this mode unless they are explicitly allowlisted by the user via `torch.serialization.add_safe_globals`. We recommend you start setting `weights_only=True` for any use case where you don't have full control of the loaded file. Please open an issue on GitHub for any issues related to this experimental feature.\n",
      "  cluster_model.load_state_dict(torch.load(\"best_stage1.pt\"))\n"
     ]
    },
    {
     "name": "stdout",
     "output_type": "stream",
     "text": [
      "\n",
      "✅ Final Test Evaluation:\n",
      "Precision: 0.0549\n",
      "Recall:    0.3086\n",
      "F1 Score:  0.0932\n"
     ]
    }
   ],
   "source": [
    "from collections import Counter\n",
    "from sklearn.metrics import precision_score, recall_score, f1_score\n",
    "from torch.utils.data import DataLoader\n",
    "\n",
    "# Step 1: Tokenize and prepare test dataset\n",
    "test_texts = (test_df[\"subject\"] + \" \" + test_df[\"body\"]).tolist()\n",
    "test_enc = tokenizer(test_texts, padding=True, truncation=True, return_tensors=\"pt\")\n",
    "test_dataset = TagDataset(test_enc, test_df[\"tag_vector\"].tolist())\n",
    "test_loader = DataLoader(test_dataset, batch_size=16)\n",
    "\n",
    "# Step 2: Load cluster model\n",
    "n_clusters = len(cluster2id)\n",
    "cluster_model = ClusterClassifier(num_clusters=n_clusters)\n",
    "cluster_model.load_state_dict(torch.load(\"best_stage1.pt\"))\n",
    "cluster_model.to(device)\n",
    "cluster_model.eval()\n",
    "\n",
    "# Step 3: Predict cluster labels\n",
    "def predict_clusters(input_ids, attention_mask, model, threshold=0.5):\n",
    "    with torch.no_grad():\n",
    "        logits = model(input_ids=input_ids, attention_mask=attention_mask)\n",
    "        probs = torch.sigmoid(logits)\n",
    "        preds = (probs > threshold).float()  # shape: [batch_size, num_clusters]\n",
    "    return preds\n",
    "\n",
    "# Step 4: Predict tags for each predicted cluster\n",
    "def predict_tags_for_clusters(cluster_preds, input_ids, attention_mask, tag_models, cluster_datasets, threshold=0.5):\n",
    "    final_tag_preds = []\n",
    "\n",
    "    for b in range(cluster_preds.size(0)):\n",
    "        tag_output = []\n",
    "\n",
    "        for cluster_id in range(cluster_preds.size(1)):\n",
    "            if cluster_preds[b, cluster_id] == 1:\n",
    "                tag_model = tag_models.get(cluster_id)\n",
    "                if tag_model:\n",
    "                    tag2id = cluster_datasets[cluster_id][\"tag2id\"]\n",
    "                    num_labels = len(tag2id)\n",
    "\n",
    "                    with torch.no_grad():\n",
    "                        logits = tag_model(input_ids[b].unsqueeze(0), attention_mask[b].unsqueeze(0))\n",
    "                        probs = torch.sigmoid(logits).squeeze(0)\n",
    "                        preds = (probs > threshold).float().cpu().numpy()\n",
    "\n",
    "                    tag_output.append((cluster_id, preds, tag2id))\n",
    "\n",
    "        final_tag_preds.append(tag_output)\n",
    "\n",
    "    return final_tag_preds\n",
    "\n",
    "# Step 5: Full pipeline evaluation\n",
    "def evaluate_full_pipeline(test_dataset, cluster_model, tag_models, cluster_datasets, threshold=0.5):\n",
    "    all_preds = []\n",
    "    all_labels = []\n",
    "\n",
    "    cluster_model.eval()\n",
    "\n",
    "    for batch in test_loader:\n",
    "        input_ids = batch[\"input_ids\"].to(device)\n",
    "        attention_mask = batch[\"attention_mask\"].to(device)\n",
    "        true_labels = batch[\"labels\"].cpu().numpy()\n",
    "\n",
    "        cluster_preds = predict_clusters(input_ids, attention_mask, cluster_model, threshold)\n",
    "        tag_preds = predict_tags_for_clusters(cluster_preds, input_ids, attention_mask, tag_models, cluster_datasets, threshold)\n",
    "\n",
    "        for true, tag_pred in zip(true_labels, tag_preds):\n",
    "            pred_vec = np.zeros_like(true)\n",
    "\n",
    "            for cluster_id, preds, tag2id in tag_pred:\n",
    "                for tag_idx, val in enumerate(preds):\n",
    "                    if val == 1.0:\n",
    "                        pred_vec[tag_idx] = 1\n",
    "\n",
    "            all_preds.append(pred_vec)\n",
    "            all_labels.append(true)\n",
    "\n",
    "    precision = precision_score(all_labels, all_preds, average=\"micro\", zero_division=0)\n",
    "    recall = recall_score(all_labels, all_preds, average=\"micro\", zero_division=0)\n",
    "    f1 = f1_score(all_labels, all_preds, average=\"micro\", zero_division=0)\n",
    "\n",
    "    print(\"\\n✅ Final Test Evaluation:\")\n",
    "    print(f\"Precision: {precision:.4f}\")\n",
    "    print(f\"Recall:    {recall:.4f}\")\n",
    "    print(f\"F1 Score:  {f1:.4f}\")\n",
    "\n",
    "evaluate_full_pipeline(\n",
    "    test_dataset=test_dataset,\n",
    "    cluster_model=cluster_model,\n",
    "    tag_models=tag_models,\n",
    "    cluster_datasets=cluster_datasets,\n",
    "    threshold=0.5\n",
    ")"
   ]
  },
  {
   "cell_type": "code",
   "execution_count": null,
   "id": "b6596cb6",
   "metadata": {},
   "outputs": [
    {
     "name": "stderr",
     "output_type": "stream",
     "text": [
      "c:\\Users\\chria\\Documents\\Deep Learning\\tickets-project\\.venv\\Lib\\site-packages\\torch\\nn\\modules\\module.py:1747: FutureWarning: `encoder_attention_mask` is deprecated and will be removed in version 4.55.0 for `BertSdpaSelfAttention.forward`.\n",
      "  return forward_call(*args, **kwargs)\n"
     ]
    },
    {
     "name": "stdout",
     "output_type": "stream",
     "text": [
      "📦 Cluster 0 — F1: 0.0000, Precision: 0.0000, Recall: 0.0000\n",
      "📦 Cluster 1 — no matching predictions in test set\n",
      "📦 Cluster 2 — no matching predictions in test set\n"
     ]
    },
    {
     "name": "stderr",
     "output_type": "stream",
     "text": [
      "c:\\Users\\chria\\Documents\\Deep Learning\\tickets-project\\.venv\\Lib\\site-packages\\torch\\nn\\modules\\module.py:1747: FutureWarning: `encoder_attention_mask` is deprecated and will be removed in version 4.55.0 for `BertSdpaSelfAttention.forward`.\n",
      "  return forward_call(*args, **kwargs)\n"
     ]
    },
    {
     "name": "stdout",
     "output_type": "stream",
     "text": [
      "📦 Cluster 3 — F1: 0.0000, Precision: 0.0000, Recall: 0.0000\n",
      "📦 Cluster 4 — F1: 0.0000, Precision: 0.0000, Recall: 0.0000\n",
      "📦 Cluster 5 — no matching predictions in test set\n"
     ]
    },
    {
     "name": "stderr",
     "output_type": "stream",
     "text": [
      "c:\\Users\\chria\\Documents\\Deep Learning\\tickets-project\\.venv\\Lib\\site-packages\\torch\\nn\\modules\\module.py:1747: FutureWarning: `encoder_attention_mask` is deprecated and will be removed in version 4.55.0 for `BertSdpaSelfAttention.forward`.\n",
      "  return forward_call(*args, **kwargs)\n",
      "c:\\Users\\chria\\Documents\\Deep Learning\\tickets-project\\.venv\\Lib\\site-packages\\torch\\nn\\modules\\module.py:1747: FutureWarning: `encoder_attention_mask` is deprecated and will be removed in version 4.55.0 for `BertSdpaSelfAttention.forward`.\n",
      "  return forward_call(*args, **kwargs)\n"
     ]
    },
    {
     "name": "stdout",
     "output_type": "stream",
     "text": [
      "📦 Cluster 6 — F1: 0.1393, Precision: 0.0751, Recall: 0.9615\n",
      "📦 Cluster 7 — F1: 0.0000, Precision: 0.0000, Recall: 0.0000\n",
      "📦 Cluster 8 — no matching predictions in test set\n"
     ]
    },
    {
     "name": "stderr",
     "output_type": "stream",
     "text": [
      "c:\\Users\\chria\\Documents\\Deep Learning\\tickets-project\\.venv\\Lib\\site-packages\\torch\\nn\\modules\\module.py:1747: FutureWarning: `encoder_attention_mask` is deprecated and will be removed in version 4.55.0 for `BertSdpaSelfAttention.forward`.\n",
      "  return forward_call(*args, **kwargs)\n",
      "c:\\Users\\chria\\Documents\\Deep Learning\\tickets-project\\.venv\\Lib\\site-packages\\torch\\nn\\modules\\module.py:1747: FutureWarning: `encoder_attention_mask` is deprecated and will be removed in version 4.55.0 for `BertSdpaSelfAttention.forward`.\n",
      "  return forward_call(*args, **kwargs)\n"
     ]
    },
    {
     "name": "stdout",
     "output_type": "stream",
     "text": [
      "📦 Cluster 9 — no matching predictions in test set\n",
      "📦 Cluster 10 — no matching predictions in test set\n",
      "📦 Cluster 11 — no matching predictions in test set\n",
      "📦 Cluster 12 — F1: 0.0000, Precision: 0.0000, Recall: 0.0000\n",
      "📦 Cluster 13 — no matching predictions in test set\n",
      "📦 Cluster 14 — no matching predictions in test set\n"
     ]
    },
    {
     "name": "stderr",
     "output_type": "stream",
     "text": [
      "c:\\Users\\chria\\Documents\\Deep Learning\\tickets-project\\.venv\\Lib\\site-packages\\torch\\nn\\modules\\module.py:1747: FutureWarning: `encoder_attention_mask` is deprecated and will be removed in version 4.55.0 for `BertSdpaSelfAttention.forward`.\n",
      "  return forward_call(*args, **kwargs)\n"
     ]
    },
    {
     "data": {
      "text/plain": [
       "{0: (0.0, 0.0, 0.0),\n",
       " 3: (0.0, 0.0, 0.0),\n",
       " 4: (0.0, 0.0, 0.0),\n",
       " 6: (0.1392757660167131, 0.07507507507507508, 0.9615384615384616),\n",
       " 7: (0.0, 0.0, 0.0),\n",
       " 12: (0.0, 0.0, 0.0)}"
      ]
     },
     "execution_count": 112,
     "metadata": {},
     "output_type": "execute_result"
    }
   ],
   "source": [
    "def evaluate_stage2_per_cluster(test_loader, cluster_model, tag_models, cluster_datasets, threshold=0.5):\n",
    "    cluster_model.eval()\n",
    "    cluster_metrics = {}\n",
    "\n",
    "    for cluster_id, tag_model in tag_models.items():\n",
    "        tag_model.eval()\n",
    "        tag2id = cluster_datasets[cluster_id][\"tag2id\"]\n",
    "        num_tags = len(tag2id)\n",
    "\n",
    "        y_true = []\n",
    "        y_pred = []\n",
    "\n",
    "        for batch in test_loader:\n",
    "            input_ids = batch[\"input_ids\"].to(device)\n",
    "            attention_mask = batch[\"attention_mask\"].to(device)\n",
    "            labels = batch[\"labels\"].cpu().numpy()\n",
    "\n",
    "            with torch.no_grad():\n",
    "                cluster_logits = cluster_model(input_ids=input_ids, attention_mask=attention_mask)\n",
    "                cluster_probs = torch.sigmoid(cluster_logits).cpu().numpy()\n",
    "                predicted_clusters = (cluster_probs >= threshold).astype(int)\n",
    "\n",
    "                for i in range(len(predicted_clusters)):\n",
    "                    if predicted_clusters[i][cluster_id] != 1:\n",
    "                        continue  # skip if this sample doesn't belong to cluster\n",
    "\n",
    "                    input_id = input_ids[i].unsqueeze(0)\n",
    "                    attention = attention_mask[i].unsqueeze(0)\n",
    "                    tag_logits = tag_model(input_id, attention)\n",
    "                    tag_probs = torch.sigmoid(tag_logits).cpu().numpy()[0]\n",
    "                    pred = (tag_probs >= threshold).astype(int)\n",
    "\n",
    "                    y_true.append(labels[i][:num_tags])\n",
    "                    y_pred.append(pred)\n",
    "\n",
    "        if y_true:\n",
    "            precision = precision_score(y_true, y_pred, average=\"micro\", zero_division=0)\n",
    "            recall = recall_score(y_true, y_pred, average=\"micro\", zero_division=0)\n",
    "            f1 = f1_score(y_true, y_pred, average=\"micro\", zero_division=0)\n",
    "            cluster_metrics[cluster_id] = (f1, precision, recall)\n",
    "            print(f\"📦 Cluster {cluster_id} — F1: {f1:.4f}, Precision: {precision:.4f}, Recall: {recall:.4f}\")\n",
    "        else:\n",
    "            print(f\"📦 Cluster {cluster_id} — no matching predictions in test set\")\n",
    "\n",
    "    return cluster_metrics\n",
    "\n",
    "evaluate_stage2_per_cluster(\n",
    "    test_loader=test_loader,\n",
    "    cluster_model=cluster_model,\n",
    "    tag_models=tag_models,\n",
    "    cluster_datasets=cluster_datasets,\n",
    "    threshold=0.5\n",
    ")\n"
   ]
  },
  {
   "cell_type": "code",
   "execution_count": 113,
   "id": "28f50d9b",
   "metadata": {},
   "outputs": [
    {
     "name": "stdout",
     "output_type": "stream",
     "text": [
      "\n",
      "📊 Cluster distribution in test set:\n",
      "Cluster 0: 13 samples\n",
      "Cluster 1: 0 samples\n",
      "Cluster 2: 0 samples\n",
      "Cluster 3: 2 samples\n",
      "Cluster 4: 5 samples\n",
      "Cluster 5: 0 samples\n",
      "Cluster 6: 36 samples\n",
      "Cluster 7: 4 samples\n",
      "Cluster 8: 0 samples\n",
      "Cluster 9: 0 samples\n",
      "Cluster 10: 0 samples\n",
      "Cluster 11: 0 samples\n",
      "Cluster 12: 11 samples\n"
     ]
    }
   ],
   "source": [
    "def analyze_cluster_distribution(test_loader, cluster_model, threshold=0.5):\n",
    "    cluster_model.eval()\n",
    "    cluster_counts = Counter()\n",
    "\n",
    "    with torch.no_grad():\n",
    "        for batch in test_loader:\n",
    "            input_ids = batch[\"input_ids\"].to(device)\n",
    "            attention_mask = batch[\"attention_mask\"].to(device)\n",
    "\n",
    "            cluster_logits = cluster_model(input_ids=input_ids, attention_mask=attention_mask)\n",
    "            cluster_probs = torch.sigmoid(cluster_logits).cpu().numpy()\n",
    "            predicted_clusters = (cluster_probs > threshold).astype(int)\n",
    "\n",
    "            for row in predicted_clusters:\n",
    "                cluster_ids = np.where(row == 1)[0]\n",
    "                cluster_counts.update(cluster_ids)\n",
    "\n",
    "    print(\"\\n📊 Cluster distribution in test set:\")\n",
    "    for cluster_id in range(max(cluster_counts.keys()) + 1):\n",
    "        print(f\"Cluster {cluster_id}: {cluster_counts[cluster_id]} samples\")\n",
    "\n",
    "analyze_cluster_distribution(test_loader, cluster_model, threshold=0.5)\n"
   ]
  },
  {
   "cell_type": "code",
   "execution_count": 118,
   "id": "83865e3e",
   "metadata": {},
   "outputs": [],
   "source": [
    "def evaluate_multicluster_pipeline(test_loader, cluster_model, tag_models, cluster_datasets, global_tag2id, threshold=0.5):\n",
    "    all_preds  = []\n",
    "    all_labels = []\n",
    "\n",
    "    cluster_model.eval()\n",
    "    for batch in test_loader:\n",
    "        input_ids      = batch[\"input_ids\"].to(device)\n",
    "        attention_mask = batch[\"attention_mask\"].to(device)\n",
    "        true_vectors   = batch[\"labels\"].cpu().numpy()  # shape [B, total_tags]\n",
    "\n",
    "        # predict clusters (multi-label sigmoid)\n",
    "        with torch.no_grad():\n",
    "            logits        = cluster_model(input_ids=input_ids, attention_mask=attention_mask)\n",
    "            cluster_probs = torch.sigmoid(logits)\n",
    "            cluster_preds = (cluster_probs >= threshold).float()  # [B, n_clusters]\n",
    "\n",
    "        # for each example in batch\n",
    "        for i in range(true_vectors.shape[0]):\n",
    "            pred_vector = np.zeros_like(true_vectors[i])\n",
    "\n",
    "            # run each active cluster’s tag model\n",
    "            for cluster_id in range(cluster_preds.size(1)):\n",
    "                if cluster_preds[i, cluster_id] != 1:\n",
    "                    continue\n",
    "                tag_model = tag_models.get(cluster_id)\n",
    "                if tag_model is None:\n",
    "                    continue\n",
    "\n",
    "                local_id2tag = cluster_datasets[cluster_id][\"id2tag\"]\n",
    "                with torch.no_grad():\n",
    "                    out        = tag_model(\n",
    "                                   input_ids[i].unsqueeze(0),\n",
    "                                   attention_mask[i].unsqueeze(0)\n",
    "                                )\n",
    "                    tag_probs  = torch.sigmoid(out).cpu().numpy()[0]\n",
    "                    local_preds = (tag_probs >= threshold).astype(int)\n",
    "\n",
    "                # map local → global indices\n",
    "                for local_idx, on in enumerate(local_preds):\n",
    "                    if on:\n",
    "                        tag_name   = local_id2tag[local_idx]\n",
    "                        global_idx = global_tag2id[tag_name]\n",
    "                        pred_vector[global_idx] = 1\n",
    "\n",
    "            all_preds.append(pred_vector)\n",
    "            all_labels.append(true_vectors[i])\n",
    "\n",
    "    # compute micro-averaged metrics\n",
    "    precision = precision_score(all_labels, all_preds, average=\"micro\", zero_division=0)\n",
    "    recall    = recall_score(all_labels, all_preds, average=\"micro\", zero_division=0)\n",
    "    f1        = f1_score(all_labels, all_preds, average=\"micro\", zero_division=0)\n",
    "\n",
    "    print(\"\\n✅ Fixed Multi-Cluster Test Evaluation:\")\n",
    "    print(f\"Precision: {precision:.4f}\")\n",
    "    print(f\"Recall:    {recall:.4f}\")\n",
    "    print(f\"F1 Score:  {f1:.4f}\")"
   ]
  },
  {
   "cell_type": "code",
   "execution_count": 119,
   "id": "6007ccbb",
   "metadata": {},
   "outputs": [
    {
     "name": "stdout",
     "output_type": "stream",
     "text": [
      "\n",
      "✅ Fixed Multi-Cluster Test Evaluation:\n",
      "Precision: 0.0987\n",
      "Recall:    0.5802\n",
      "F1 Score:  0.1688\n"
     ]
    }
   ],
   "source": [
    "evaluate_multicluster_pipeline(\n",
    "    test_loader=test_loader,\n",
    "    cluster_model=cluster_model,\n",
    "    tag_models=tag_models,\n",
    "    cluster_datasets=cluster_datasets,\n",
    "    global_tag2id=global_tag2id,\n",
    "    threshold=0.5\n",
    ")"
   ]
  },
  {
   "cell_type": "code",
   "execution_count": 122,
   "id": "6784c313",
   "metadata": {},
   "outputs": [
    {
     "name": "stderr",
     "output_type": "stream",
     "text": [
      "c:\\Users\\chria\\Documents\\Deep Learning\\tickets-project\\.venv\\Lib\\site-packages\\torch\\nn\\modules\\module.py:1747: FutureWarning: `encoder_attention_mask` is deprecated and will be removed in version 4.55.0 for `BertSdpaSelfAttention.forward`.\n",
      "  return forward_call(*args, **kwargs)\n"
     ]
    },
    {
     "name": "stdout",
     "output_type": "stream",
     "text": [
      "📦 Cluster 0 — F1: 0.0000, Precision: 0.0000, Recall: 0.0000\n",
      "📦 Cluster 1 — no matching predictions in test set\n",
      "📦 Cluster 2 — no matching predictions in test set\n",
      "📦 Cluster 3 — F1: 0.0000, Precision: 0.0000, Recall: 0.0000\n"
     ]
    },
    {
     "name": "stderr",
     "output_type": "stream",
     "text": [
      "c:\\Users\\chria\\Documents\\Deep Learning\\tickets-project\\.venv\\Lib\\site-packages\\torch\\nn\\modules\\module.py:1747: FutureWarning: `encoder_attention_mask` is deprecated and will be removed in version 4.55.0 for `BertSdpaSelfAttention.forward`.\n",
      "  return forward_call(*args, **kwargs)\n",
      "c:\\Users\\chria\\Documents\\Deep Learning\\tickets-project\\.venv\\Lib\\site-packages\\torch\\nn\\modules\\module.py:1747: FutureWarning: `encoder_attention_mask` is deprecated and will be removed in version 4.55.0 for `BertSdpaSelfAttention.forward`.\n",
      "  return forward_call(*args, **kwargs)\n"
     ]
    },
    {
     "name": "stdout",
     "output_type": "stream",
     "text": [
      "📦 Cluster 4 — F1: 0.0000, Precision: 0.0000, Recall: 0.0000\n",
      "📦 Cluster 5 — no matching predictions in test set\n"
     ]
    },
    {
     "name": "stderr",
     "output_type": "stream",
     "text": [
      "c:\\Users\\chria\\Documents\\Deep Learning\\tickets-project\\.venv\\Lib\\site-packages\\torch\\nn\\modules\\module.py:1747: FutureWarning: `encoder_attention_mask` is deprecated and will be removed in version 4.55.0 for `BertSdpaSelfAttention.forward`.\n",
      "  return forward_call(*args, **kwargs)\n"
     ]
    },
    {
     "name": "stdout",
     "output_type": "stream",
     "text": [
      "📦 Cluster 6 — F1: 0.1393, Precision: 0.0751, Recall: 0.9615\n",
      "📦 Cluster 7 — F1: 0.0000, Precision: 0.0000, Recall: 0.0000\n",
      "📦 Cluster 8 — no matching predictions in test set\n",
      "📦 Cluster 9 — no matching predictions in test set\n"
     ]
    },
    {
     "name": "stderr",
     "output_type": "stream",
     "text": [
      "c:\\Users\\chria\\Documents\\Deep Learning\\tickets-project\\.venv\\Lib\\site-packages\\torch\\nn\\modules\\module.py:1747: FutureWarning: `encoder_attention_mask` is deprecated and will be removed in version 4.55.0 for `BertSdpaSelfAttention.forward`.\n",
      "  return forward_call(*args, **kwargs)\n",
      "c:\\Users\\chria\\Documents\\Deep Learning\\tickets-project\\.venv\\Lib\\site-packages\\torch\\nn\\modules\\module.py:1747: FutureWarning: `encoder_attention_mask` is deprecated and will be removed in version 4.55.0 for `BertSdpaSelfAttention.forward`.\n",
      "  return forward_call(*args, **kwargs)\n"
     ]
    },
    {
     "name": "stdout",
     "output_type": "stream",
     "text": [
      "📦 Cluster 10 — no matching predictions in test set\n",
      "📦 Cluster 11 — no matching predictions in test set\n",
      "📦 Cluster 12 — F1: 0.0000, Precision: 0.0000, Recall: 0.0000\n",
      "📦 Cluster 13 — no matching predictions in test set\n",
      "📦 Cluster 14 — no matching predictions in test set\n"
     ]
    },
    {
     "name": "stderr",
     "output_type": "stream",
     "text": [
      "c:\\Users\\chria\\Documents\\Deep Learning\\tickets-project\\.venv\\Lib\\site-packages\\torch\\nn\\modules\\module.py:1747: FutureWarning: `encoder_attention_mask` is deprecated and will be removed in version 4.55.0 for `BertSdpaSelfAttention.forward`.\n",
      "  return forward_call(*args, **kwargs)\n"
     ]
    },
    {
     "data": {
      "text/plain": [
       "{0: (0.0, 0.0, 0.0),\n",
       " 3: (0.0, 0.0, 0.0),\n",
       " 4: (0.0, 0.0, 0.0),\n",
       " 6: (0.1392757660167131, 0.07507507507507508, 0.9615384615384616),\n",
       " 7: (0.0, 0.0, 0.0),\n",
       " 12: (0.0, 0.0, 0.0)}"
      ]
     },
     "execution_count": 122,
     "metadata": {},
     "output_type": "execute_result"
    }
   ],
   "source": [
    "evaluate_stage2_per_cluster(\n",
    "    test_loader=test_loader,\n",
    "    cluster_model=cluster_model,\n",
    "    tag_models=tag_models,\n",
    "    cluster_datasets=cluster_datasets,\n",
    "    threshold=0.5  # from your threshold sweep\n",
    ")"
   ]
  },
  {
   "cell_type": "code",
   "execution_count": null,
   "id": "1ec4c13e",
   "metadata": {},
   "outputs": [],
   "source": [
    "a"
   ]
  }
 ],
 "metadata": {
  "kernelspec": {
   "display_name": ".venv",
   "language": "python",
   "name": "python3"
  },
  "language_info": {
   "codemirror_mode": {
    "name": "ipython",
    "version": 3
   },
   "file_extension": ".py",
   "mimetype": "text/x-python",
   "name": "python",
   "nbconvert_exporter": "python",
   "pygments_lexer": "ipython3",
   "version": "3.11.0"
  }
 },
 "nbformat": 4,
 "nbformat_minor": 5
}

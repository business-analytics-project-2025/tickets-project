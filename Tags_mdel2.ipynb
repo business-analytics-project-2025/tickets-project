{
 "cells": [
  {
   "cell_type": "code",
   "execution_count": 1,
   "id": "59f0e049",
   "metadata": {},
   "outputs": [
    {
     "ename": "ModuleNotFoundError",
     "evalue": "No module named 'pandas'",
     "output_type": "error",
     "traceback": [
      "\u001b[31m---------------------------------------------------------------------------\u001b[39m",
      "\u001b[31mModuleNotFoundError\u001b[39m                       Traceback (most recent call last)",
      "\u001b[36mCell\u001b[39m\u001b[36m \u001b[39m\u001b[32mIn[1]\u001b[39m\u001b[32m, line 1\u001b[39m\n\u001b[32m----> \u001b[39m\u001b[32m1\u001b[39m \u001b[38;5;28;01mimport\u001b[39;00m\u001b[38;5;250m \u001b[39m\u001b[34;01mpandas\u001b[39;00m\u001b[38;5;250m \u001b[39m\u001b[38;5;28;01mas\u001b[39;00m\u001b[38;5;250m \u001b[39m\u001b[34;01mpd\u001b[39;00m\n\u001b[32m      2\u001b[39m \u001b[38;5;28;01mimport\u001b[39;00m\u001b[38;5;250m \u001b[39m\u001b[34;01mnumpy\u001b[39;00m\u001b[38;5;250m \u001b[39m\u001b[38;5;28;01mas\u001b[39;00m\u001b[38;5;250m \u001b[39m\u001b[34;01mnp\u001b[39;00m\n\u001b[32m      3\u001b[39m \u001b[38;5;28;01mfrom\u001b[39;00m\u001b[38;5;250m \u001b[39m\u001b[34;01mcollections\u001b[39;00m\u001b[38;5;250m \u001b[39m\u001b[38;5;28;01mimport\u001b[39;00m Counter\n",
      "\u001b[31mModuleNotFoundError\u001b[39m: No module named 'pandas'"
     ]
    }
   ],
   "source": [
    "import pandas as pd\n",
    "import numpy as np\n",
    "from collections import Counter\n",
    "from sklearn.model_selection import train_test_split\n",
    "from transformers import AutoTokenizer"
   ]
  },
  {
   "cell_type": "code",
   "execution_count": null,
   "id": "c4fff963",
   "metadata": {},
   "outputs": [
    {
     "name": "stdout",
     "output_type": "stream",
     "text": [
      "(16337, 14)\n",
      "Index(['subject', 'body', 'answer', 'type', 'department', 'priority', 'tag_1',\n",
      "       'tag_2', 'tag_3', 'tag_4', 'tag_5', 'tag_6', 'tag_7', 'tag_8'],\n",
      "      dtype='object')\n"
     ]
    },
    {
     "data": {
      "text/html": [
       "<div>\n",
       "<style scoped>\n",
       "    .dataframe tbody tr th:only-of-type {\n",
       "        vertical-align: middle;\n",
       "    }\n",
       "\n",
       "    .dataframe tbody tr th {\n",
       "        vertical-align: top;\n",
       "    }\n",
       "\n",
       "    .dataframe thead th {\n",
       "        text-align: right;\n",
       "    }\n",
       "</style>\n",
       "<table border=\"1\" class=\"dataframe\">\n",
       "  <thead>\n",
       "    <tr style=\"text-align: right;\">\n",
       "      <th></th>\n",
       "      <th>subject</th>\n",
       "      <th>body</th>\n",
       "      <th>answer</th>\n",
       "      <th>type</th>\n",
       "      <th>department</th>\n",
       "      <th>priority</th>\n",
       "      <th>tag_1</th>\n",
       "      <th>tag_2</th>\n",
       "      <th>tag_3</th>\n",
       "      <th>tag_4</th>\n",
       "      <th>tag_5</th>\n",
       "      <th>tag_6</th>\n",
       "      <th>tag_7</th>\n",
       "      <th>tag_8</th>\n",
       "    </tr>\n",
       "  </thead>\n",
       "  <tbody>\n",
       "    <tr>\n",
       "      <th>0</th>\n",
       "      <td>Account Disruption</td>\n",
       "      <td>Dear Customer Support Team, I am writing to re...</td>\n",
       "      <td>Thank you for reaching out. We are aware of th...</td>\n",
       "      <td>Incident</td>\n",
       "      <td>Technical Support</td>\n",
       "      <td>High</td>\n",
       "      <td>Account</td>\n",
       "      <td>Disruption</td>\n",
       "      <td>Outage</td>\n",
       "      <td>Disruption</td>\n",
       "      <td>Outage</td>\n",
       "      <td>IT</td>\n",
       "      <td>Tech Support</td>\n",
       "      <td>NaN</td>\n",
       "    </tr>\n",
       "    <tr>\n",
       "      <th>1</th>\n",
       "      <td>Query About Smart Home System Integration Feat...</td>\n",
       "      <td>Dear Customer Support Team, I hope this messag...</td>\n",
       "      <td>Thank you for your inquiry. Our products suppo...</td>\n",
       "      <td>Request</td>\n",
       "      <td>Returns And Exchanges</td>\n",
       "      <td>Medium</td>\n",
       "      <td>Product</td>\n",
       "      <td>Feature</td>\n",
       "      <td>Tech Support</td>\n",
       "      <td>Feature</td>\n",
       "      <td>Tech Support</td>\n",
       "      <td>NaN</td>\n",
       "      <td>NaN</td>\n",
       "      <td>NaN</td>\n",
       "    </tr>\n",
       "    <tr>\n",
       "      <th>2</th>\n",
       "      <td>Inquiry Regarding Invoice Details</td>\n",
       "      <td>Dear Customer Support Team, I hope this messag...</td>\n",
       "      <td>We appreciate you reaching out with your billi...</td>\n",
       "      <td>Request</td>\n",
       "      <td>Billing And Payments</td>\n",
       "      <td>Low</td>\n",
       "      <td>Billing</td>\n",
       "      <td>Payment</td>\n",
       "      <td>Account</td>\n",
       "      <td>Payment</td>\n",
       "      <td>Account</td>\n",
       "      <td>Documentation</td>\n",
       "      <td>Feedback</td>\n",
       "      <td>NaN</td>\n",
       "    </tr>\n",
       "    <tr>\n",
       "      <th>3</th>\n",
       "      <td>Question About Marketing Agency Software Compa...</td>\n",
       "      <td>Dear Support Team, I hope this message reaches...</td>\n",
       "      <td>Thank you for your inquiry. Our product suppor...</td>\n",
       "      <td>Problem</td>\n",
       "      <td>Sales And Pre-Sales</td>\n",
       "      <td>Medium</td>\n",
       "      <td>Product</td>\n",
       "      <td>Feature</td>\n",
       "      <td>Feedback</td>\n",
       "      <td>Feature</td>\n",
       "      <td>Feedback</td>\n",
       "      <td>Tech Support</td>\n",
       "      <td>NaN</td>\n",
       "      <td>NaN</td>\n",
       "    </tr>\n",
       "    <tr>\n",
       "      <th>4</th>\n",
       "      <td>Feature Query</td>\n",
       "      <td>Dear Customer Support, I hope this message rea...</td>\n",
       "      <td>Thank you for your inquiry. Please specify whi...</td>\n",
       "      <td>Request</td>\n",
       "      <td>Technical Support</td>\n",
       "      <td>High</td>\n",
       "      <td>Feature</td>\n",
       "      <td>Product</td>\n",
       "      <td>Documentation</td>\n",
       "      <td>Product</td>\n",
       "      <td>Documentation</td>\n",
       "      <td>Feedback</td>\n",
       "      <td>NaN</td>\n",
       "      <td>NaN</td>\n",
       "    </tr>\n",
       "  </tbody>\n",
       "</table>\n",
       "</div>"
      ],
      "text/plain": [
       "                                             subject  \\\n",
       "0                                 Account Disruption   \n",
       "1  Query About Smart Home System Integration Feat...   \n",
       "2                  Inquiry Regarding Invoice Details   \n",
       "3  Question About Marketing Agency Software Compa...   \n",
       "4                                      Feature Query   \n",
       "\n",
       "                                                body  \\\n",
       "0  Dear Customer Support Team, I am writing to re...   \n",
       "1  Dear Customer Support Team, I hope this messag...   \n",
       "2  Dear Customer Support Team, I hope this messag...   \n",
       "3  Dear Support Team, I hope this message reaches...   \n",
       "4  Dear Customer Support, I hope this message rea...   \n",
       "\n",
       "                                              answer      type  \\\n",
       "0  Thank you for reaching out. We are aware of th...  Incident   \n",
       "1  Thank you for your inquiry. Our products suppo...   Request   \n",
       "2  We appreciate you reaching out with your billi...   Request   \n",
       "3  Thank you for your inquiry. Our product suppor...   Problem   \n",
       "4  Thank you for your inquiry. Please specify whi...   Request   \n",
       "\n",
       "              department priority    tag_1       tag_2          tag_3  \\\n",
       "0      Technical Support     High  Account  Disruption         Outage   \n",
       "1  Returns And Exchanges   Medium  Product     Feature   Tech Support   \n",
       "2   Billing And Payments      Low  Billing     Payment        Account   \n",
       "3    Sales And Pre-Sales   Medium  Product     Feature       Feedback   \n",
       "4      Technical Support     High  Feature     Product  Documentation   \n",
       "\n",
       "        tag_4          tag_5          tag_6         tag_7 tag_8  \n",
       "0  Disruption         Outage             IT  Tech Support   NaN  \n",
       "1     Feature   Tech Support            NaN           NaN   NaN  \n",
       "2     Payment        Account  Documentation      Feedback   NaN  \n",
       "3     Feature       Feedback   Tech Support           NaN   NaN  \n",
       "4     Product  Documentation       Feedback           NaN   NaN  "
      ]
     },
     "execution_count": 10,
     "metadata": {},
     "output_type": "execute_result"
    }
   ],
   "source": [
    "df = pd.read_csv(\"Cleaned_Tickets.csv\")  # replace with your actual filename\n",
    "print(df.shape)\n",
    "print(df.columns)\n",
    "df.head()"
   ]
  },
  {
   "cell_type": "code",
   "execution_count": null,
   "id": "f4b3042a",
   "metadata": {},
   "outputs": [
    {
     "name": "stdout",
     "output_type": "stream",
     "text": [
      "subject           0\n",
      "body              0\n",
      "answer            3\n",
      "type              0\n",
      "department        0\n",
      "priority          0\n",
      "tag_1             0\n",
      "tag_2             0\n",
      "tag_3             0\n",
      "tag_4          2556\n",
      "tag_5          2603\n",
      "tag_6          3988\n",
      "tag_7          9317\n",
      "tag_8         13637\n",
      "dtype: int64\n"
     ]
    }
   ],
   "source": [
    "print(df.isnull().sum())"
   ]
  },
  {
   "cell_type": "code",
   "execution_count": null,
   "id": "cfce7a7f",
   "metadata": {},
   "outputs": [],
   "source": [
    "# Flatten all tag columns into one list\n",
    "tag_columns  = [\"tag_1\", \"tag_2\", \"tag_3\", \"tag_4\", \"tag_5\", \"tag_6\", \"tag_7\", \"tag_8\"]\n",
    "all_tags = df[tag_columns].values.flatten()\n",
    "all_tags = [tag for tag in all_tags if pd.notnull(tag)]"
   ]
  },
  {
   "cell_type": "code",
   "execution_count": null,
   "id": "6cd066de",
   "metadata": {},
   "outputs": [],
   "source": [
    "# Create vocab\n",
    "tag2id = {tag: i for i, tag in enumerate(sorted(set(all_tags)))}\n",
    "id2tag = {i: tag for tag, i in tag2id.items()}\n",
    "num_tags = len(tag2id)"
   ]
  },
  {
   "cell_type": "code",
   "execution_count": null,
   "id": "55232429",
   "metadata": {},
   "outputs": [],
   "source": [
    "def encode_tags(row):\n",
    "    tags = [row[col] for col in tag_columns if pd.notnull(row[col])]\n",
    "    tag_ids = [tag2id[tag] for tag in tags if tag in tag2id]\n",
    "    multi_hot = np.zeros(num_tags, dtype=np.float32)\n",
    "    for i in tag_ids:\n",
    "        multi_hot[i] = 1.0\n",
    "    return multi_hot\n",
    "\n",
    "df[\"tag_vector\"] = df.apply(encode_tags, axis=1)"
   ]
  },
  {
   "cell_type": "code",
   "execution_count": null,
   "id": "e1d9f1b9",
   "metadata": {},
   "outputs": [],
   "source": [
    "tokenizer = AutoTokenizer.from_pretrained(\"bert-base-cased\")"
   ]
  },
  {
   "cell_type": "code",
   "execution_count": null,
   "id": "2b28170e",
   "metadata": {},
   "outputs": [],
   "source": [
    "df[\"text\"] = df[\"subject\"].fillna(\"\") + \" \" + df[\"body\"].fillna(\"\")"
   ]
  },
  {
   "cell_type": "code",
   "execution_count": null,
   "id": "e179ae14",
   "metadata": {},
   "outputs": [],
   "source": [
    "train_df, temp_df = train_test_split(df, test_size=0.2, random_state=42)\n",
    "val_df, test_df = train_test_split(temp_df, test_size=0.5, random_state=42)"
   ]
  },
  {
   "cell_type": "code",
   "execution_count": null,
   "id": "2b98fe57",
   "metadata": {},
   "outputs": [
    {
     "data": {
      "text/plain": [
       "(221, 0)"
      ]
     },
     "execution_count": 33,
     "metadata": {},
     "output_type": "execute_result"
    }
   ],
   "source": [
    "# Max token length in the dataset\n",
    "token_lens = [len(tokenizer.tokenize(t)) for t in df[\"text\"]]\n",
    "max(token_lens), sum(l > 256 for l in token_lens)"
   ]
  },
  {
   "cell_type": "code",
   "execution_count": null,
   "id": "3143aa27",
   "metadata": {},
   "outputs": [],
   "source": [
    "def tokenize_texts(text_list):\n",
    "    return tokenizer(\n",
    "        text_list,\n",
    "        padding=True,\n",
    "        truncation=True,\n",
    "        max_length=256,\n",
    "        return_tensors=\"pt\"\n",
    "    )\n",
    "\n",
    "train_enc = tokenize_texts(train_df[\"text\"].tolist())\n",
    "val_enc   = tokenize_texts(val_df[\"text\"].tolist())\n",
    "test_enc  = tokenize_texts(test_df[\"text\"].tolist())"
   ]
  },
  {
   "cell_type": "code",
   "execution_count": null,
   "id": "cd45051b",
   "metadata": {},
   "outputs": [],
   "source": []
  }
 ],
 "metadata": {
  "kernelspec": {
   "display_name": ".venv",
   "language": "python",
   "name": "python3"
  },
  "language_info": {
   "codemirror_mode": {
    "name": "ipython",
    "version": 3
   },
   "file_extension": ".py",
   "mimetype": "text/x-python",
   "name": "python",
   "nbconvert_exporter": "python",
   "pygments_lexer": "ipython3",
   "version": "3.13.5"
  }
 },
 "nbformat": 4,
 "nbformat_minor": 5
}

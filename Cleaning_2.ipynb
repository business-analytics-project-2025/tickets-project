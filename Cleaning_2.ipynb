{
 "cells": [
  {
   "cell_type": "code",
   "execution_count": 37,
   "id": "945b6550",
   "metadata": {},
   "outputs": [],
   "source": [
    "import pandas as pd"
   ]
  },
  {
   "cell_type": "code",
   "execution_count": 38,
   "id": "84e71cb7",
   "metadata": {},
   "outputs": [],
   "source": [
    "df = pd.read_csv(\"CS_Tickets_MSc.csv\")"
   ]
  },
  {
   "cell_type": "code",
   "execution_count": 39,
   "id": "a072e83c",
   "metadata": {},
   "outputs": [
    {
     "name": "stdout",
     "output_type": "stream",
     "text": [
      "<class 'pandas.core.frame.DataFrame'>\n",
      "RangeIndex: 16337 entries, 0 to 16336\n",
      "Data columns (total 26 columns):\n",
      " #   Column       Non-Null Count  Dtype  \n",
      "---  ------       --------------  -----  \n",
      " 0   Unnamed: 0   16337 non-null  int64  \n",
      " 1   subject      16337 non-null  object \n",
      " 2   body         16337 non-null  object \n",
      " 3   answer       16334 non-null  object \n",
      " 4   type         16337 non-null  object \n",
      " 5   department   16337 non-null  object \n",
      " 6   priority     16337 non-null  object \n",
      " 7   tag_1        16337 non-null  object \n",
      " 8   tag_2        16337 non-null  object \n",
      " 9   tag_3        16337 non-null  object \n",
      " 10  Unnamed: 10  0 non-null      float64\n",
      " 11  Unnamed: 11  0 non-null      float64\n",
      " 12  Unnamed: 12  0 non-null      float64\n",
      " 13  Unnamed: 13  0 non-null      float64\n",
      " 14  Unnamed: 14  0 non-null      float64\n",
      " 15  Unnamed: 15  0 non-null      float64\n",
      " 16  Unnamed: 16  0 non-null      float64\n",
      " 17  Unnamed: 17  0 non-null      float64\n",
      " 18  Unnamed: 18  0 non-null      float64\n",
      " 19  Unnamed: 19  0 non-null      float64\n",
      " 20  Unnamed: 20  0 non-null      float64\n",
      " 21  Unnamed: 21  0 non-null      float64\n",
      " 22  Unnamed: 22  0 non-null      float64\n",
      " 23  Unnamed: 23  0 non-null      float64\n",
      " 24  Unnamed: 24  0 non-null      float64\n",
      " 25  Unnamed: 25  0 non-null      float64\n",
      "dtypes: float64(16), int64(1), object(9)\n",
      "memory usage: 3.2+ MB\n",
      "None\n"
     ]
    }
   ],
   "source": [
    "print(df.info())\n"
   ]
  },
  {
   "cell_type": "code",
   "execution_count": 40,
   "id": "4229cea0",
   "metadata": {},
   "outputs": [
    {
     "name": "stdout",
     "output_type": "stream",
     "text": [
      "Unnamed: 0         0\n",
      "subject            0\n",
      "body               0\n",
      "answer             3\n",
      "type               0\n",
      "department         0\n",
      "priority           0\n",
      "tag_1              0\n",
      "tag_2              0\n",
      "tag_3              0\n",
      "Unnamed: 10    16337\n",
      "Unnamed: 11    16337\n",
      "Unnamed: 12    16337\n",
      "Unnamed: 13    16337\n",
      "Unnamed: 14    16337\n",
      "Unnamed: 15    16337\n",
      "Unnamed: 16    16337\n",
      "Unnamed: 17    16337\n",
      "Unnamed: 18    16337\n",
      "Unnamed: 19    16337\n",
      "Unnamed: 20    16337\n",
      "Unnamed: 21    16337\n",
      "Unnamed: 22    16337\n",
      "Unnamed: 23    16337\n",
      "Unnamed: 24    16337\n",
      "Unnamed: 25    16337\n",
      "dtype: int64\n"
     ]
    }
   ],
   "source": [
    "print(df.isnull().sum())"
   ]
  },
  {
   "cell_type": "code",
   "execution_count": 41,
   "id": "8431b492",
   "metadata": {},
   "outputs": [],
   "source": [
    "df.drop(df.columns[10:26], axis=1, inplace=True)\n",
    "df.drop(df.columns[0], axis=1, inplace=True)"
   ]
  },
  {
   "cell_type": "code",
   "execution_count": 42,
   "id": "0c43f989",
   "metadata": {},
   "outputs": [
    {
     "name": "stdout",
     "output_type": "stream",
     "text": [
      "Index(['subject', 'body', 'answer', 'type', 'department', 'priority', 'tag_1',\n",
      "       'tag_2', 'tag_3'],\n",
      "      dtype='object')\n"
     ]
    }
   ],
   "source": [
    "print(df.columns)"
   ]
  },
  {
   "cell_type": "code",
   "execution_count": 43,
   "id": "c299b314",
   "metadata": {},
   "outputs": [],
   "source": [
    "# Convert to Title Case\n",
    "for col in ['priority', 'type', 'department']:\n",
    "    df[col] = df[col].str.strip().str.lower().str.title()\n"
   ]
  },
  {
   "cell_type": "code",
   "execution_count": 44,
   "id": "973133d6",
   "metadata": {},
   "outputs": [
    {
     "data": {
      "text/html": [
       "<div>\n",
       "<style scoped>\n",
       "    .dataframe tbody tr th:only-of-type {\n",
       "        vertical-align: middle;\n",
       "    }\n",
       "\n",
       "    .dataframe tbody tr th {\n",
       "        vertical-align: top;\n",
       "    }\n",
       "\n",
       "    .dataframe thead th {\n",
       "        text-align: right;\n",
       "    }\n",
       "</style>\n",
       "<table border=\"1\" class=\"dataframe\">\n",
       "  <thead>\n",
       "    <tr style=\"text-align: right;\">\n",
       "      <th></th>\n",
       "      <th>subject</th>\n",
       "      <th>body</th>\n",
       "      <th>answer</th>\n",
       "      <th>type</th>\n",
       "      <th>department</th>\n",
       "      <th>priority</th>\n",
       "      <th>tag_1</th>\n",
       "      <th>tag_2</th>\n",
       "      <th>tag_3</th>\n",
       "    </tr>\n",
       "  </thead>\n",
       "  <tbody>\n",
       "    <tr>\n",
       "      <th>0</th>\n",
       "      <td>Account Disruption</td>\n",
       "      <td>Dear Customer Support Team, I am writing to re...</td>\n",
       "      <td>Thank you for reaching out. We are aware of th...</td>\n",
       "      <td>Incident</td>\n",
       "      <td>Technical Support</td>\n",
       "      <td>High</td>\n",
       "      <td>Account</td>\n",
       "      <td>Disruption</td>\n",
       "      <td>Outage</td>\n",
       "    </tr>\n",
       "    <tr>\n",
       "      <th>1</th>\n",
       "      <td>Query About Smart Home System Integration Feat...</td>\n",
       "      <td>Dear Customer Support Team, I hope this messag...</td>\n",
       "      <td>Thank you for your inquiry. Our products suppo...</td>\n",
       "      <td>Request</td>\n",
       "      <td>Returns And Exchanges</td>\n",
       "      <td>Medium</td>\n",
       "      <td>Product</td>\n",
       "      <td>Feature</td>\n",
       "      <td>Tech Support</td>\n",
       "    </tr>\n",
       "    <tr>\n",
       "      <th>2</th>\n",
       "      <td>Inquiry Regarding Invoice Details</td>\n",
       "      <td>Dear Customer Support Team, I hope this messag...</td>\n",
       "      <td>We appreciate you reaching out with your billi...</td>\n",
       "      <td>Request</td>\n",
       "      <td>Billing And Payments</td>\n",
       "      <td>Low</td>\n",
       "      <td>Billing</td>\n",
       "      <td>Payment</td>\n",
       "      <td>Account</td>\n",
       "    </tr>\n",
       "    <tr>\n",
       "      <th>3</th>\n",
       "      <td>Question About Marketing Agency Software Compa...</td>\n",
       "      <td>Dear Support Team, I hope this message reaches...</td>\n",
       "      <td>Thank you for your inquiry. Our product suppor...</td>\n",
       "      <td>Problem</td>\n",
       "      <td>Sales And Pre-Sales</td>\n",
       "      <td>Medium</td>\n",
       "      <td>Product</td>\n",
       "      <td>Feature</td>\n",
       "      <td>Feedback</td>\n",
       "    </tr>\n",
       "    <tr>\n",
       "      <th>4</th>\n",
       "      <td>Feature Query</td>\n",
       "      <td>Dear Customer Support, I hope this message rea...</td>\n",
       "      <td>Thank you for your inquiry. Please specify whi...</td>\n",
       "      <td>Request</td>\n",
       "      <td>Technical Support</td>\n",
       "      <td>High</td>\n",
       "      <td>Feature</td>\n",
       "      <td>Product</td>\n",
       "      <td>Documentation</td>\n",
       "    </tr>\n",
       "  </tbody>\n",
       "</table>\n",
       "</div>"
      ],
      "text/plain": [
       "                                             subject  \\\n",
       "0                                 Account Disruption   \n",
       "1  Query About Smart Home System Integration Feat...   \n",
       "2                  Inquiry Regarding Invoice Details   \n",
       "3  Question About Marketing Agency Software Compa...   \n",
       "4                                      Feature Query   \n",
       "\n",
       "                                                body  \\\n",
       "0  Dear Customer Support Team, I am writing to re...   \n",
       "1  Dear Customer Support Team, I hope this messag...   \n",
       "2  Dear Customer Support Team, I hope this messag...   \n",
       "3  Dear Support Team, I hope this message reaches...   \n",
       "4  Dear Customer Support, I hope this message rea...   \n",
       "\n",
       "                                              answer      type  \\\n",
       "0  Thank you for reaching out. We are aware of th...  Incident   \n",
       "1  Thank you for your inquiry. Our products suppo...   Request   \n",
       "2  We appreciate you reaching out with your billi...   Request   \n",
       "3  Thank you for your inquiry. Our product suppor...   Problem   \n",
       "4  Thank you for your inquiry. Please specify whi...   Request   \n",
       "\n",
       "              department priority    tag_1       tag_2          tag_3  \n",
       "0      Technical Support     High  Account  Disruption         Outage  \n",
       "1  Returns And Exchanges   Medium  Product     Feature   Tech Support  \n",
       "2   Billing And Payments      Low  Billing     Payment        Account  \n",
       "3    Sales And Pre-Sales   Medium  Product     Feature       Feedback  \n",
       "4      Technical Support     High  Feature     Product  Documentation  "
      ]
     },
     "execution_count": 44,
     "metadata": {},
     "output_type": "execute_result"
    }
   ],
   "source": [
    "df.head()"
   ]
  }
 ],
 "metadata": {
  "kernelspec": {
   "display_name": "Python 3",
   "language": "python",
   "name": "python3"
  },
  "language_info": {
   "codemirror_mode": {
    "name": "ipython",
    "version": 3
   },
   "file_extension": ".py",
   "mimetype": "text/x-python",
   "name": "python",
   "nbconvert_exporter": "python",
   "pygments_lexer": "ipython3",
   "version": "3.11.9"
  }
 },
 "nbformat": 4,
 "nbformat_minor": 5
}
